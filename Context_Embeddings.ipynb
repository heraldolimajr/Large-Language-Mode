{
  "cells": [
    {
      "cell_type": "markdown",
      "metadata": {
        "id": "view-in-github",
        "colab_type": "text"
      },
      "source": [
        "<a href=\"https://colab.research.google.com/github/heraldolimajr/Large-Language-Mode/blob/main/Context_Embeddings.ipynb\" target=\"_parent\"><img src=\"https://colab.research.google.com/assets/colab-badge.svg\" alt=\"Open In Colab\"/></a>"
      ]
    },
    {
      "cell_type": "markdown",
      "source": [
        "\n",
        "\n",
        "> Prática realizada por Heraldo Gonçalves Lima Junior\n",
        "\n",
        "\n",
        "\n",
        "\n",
        "---\n",
        "\n"
      ],
      "metadata": {
        "id": "FW9k9ttkvcjB"
      },
      "id": "FW9k9ttkvcjB"
    },
    {
      "cell_type": "markdown",
      "id": "497db21d-4e08-42a7-9258-90fecced929f",
      "metadata": {
        "id": "497db21d-4e08-42a7-9258-90fecced929f"
      },
      "source": [
        "# Exercício 1 - Token Embeddings (Operações e contextualização)"
      ]
    },
    {
      "cell_type": "markdown",
      "id": "TgejuBG0gFF-",
      "metadata": {
        "id": "TgejuBG0gFF-"
      },
      "source": [
        "Conforme visto em sala de aula, existem várias técnicas de tokenização: word token, subword token, character token, byte token, dentre outras que podem obter resultados mistos. Esse exercício abordará embeddings para word tokens, ou word embeddings. Nesse contexto, siga as instruções:\n",
        "\n",
        "**a)** escolha no mínimo 2 grupos de palavras relacionadas, cada grupo contendo no mínimo 3 palavras.\n",
        "Ex.:\n",
        "\n",
        "*   Palavras relacionadas a paisagem\n",
        "    *   ceu\n",
        "    *   montanha\n",
        "    *   rio\n",
        "*   Palavras relacionadas a estudo\n",
        "    *   caderno\n",
        "    *   escola\n",
        "    *   livro\n",
        "\n",
        "**b)** Em seguida, obtenha os embeddings das palavras.\n",
        "\n",
        "**c)** Utilize algum método de redução de dimensionalidade para reduzir os vetores dos embeddings para apenas 2 dimensões.\n",
        "\n",
        "**d)** Faça o \"plot\" em um plano bidimensional com os valores obtidos, comparando os resultados referentes aos diferentes modelos.\n",
        "\n",
        "**e)** Execute operações de soma e subtração com os vetores e observe os resultados obtidos.\n",
        "\n",
        "**f)** Para comparar outras formas de gerar embeddings, utilize o modelo BERT de forma a gerar word embeddings a partir de frases e veja o resultado obtido."
      ]
    },
    {
      "cell_type": "markdown",
      "id": "bc50c2b6-0745-4952-83c8-170275da0e2d",
      "metadata": {
        "id": "bc50c2b6-0745-4952-83c8-170275da0e2d"
      },
      "source": [
        "## Sugestão: Utilize bibliotecas para ter acesso a modelos pré-treinados"
      ]
    },
    {
      "cell_type": "markdown",
      "id": "2d993bfb-80c1-4817-8622-a065d71da414",
      "metadata": {
        "id": "2d993bfb-80c1-4817-8622-a065d71da414"
      },
      "source": [
        "<p style=\"background-color:#fff6e4; padding:15px; border-width:3px; border-color:#f5ecda; border-style:solid; border-radius:6px\"> ⏳ <b>O código a seguir instala bibliotecas para permitir utilizar os embeddings do GloVe, Word2Vec e BERT</b>"
      ]
    },
    {
      "cell_type": "code",
      "execution_count": null,
      "id": "uj9XEaqrmtbJ",
      "metadata": {
        "colab": {
          "base_uri": "https://localhost:8080/"
        },
        "id": "uj9XEaqrmtbJ",
        "outputId": "a707d512-c8f6-4a84-96fc-e92fef121695"
      },
      "outputs": [
        {
          "output_type": "stream",
          "name": "stdout",
          "text": [
            "Requirement already satisfied: gensim in /usr/local/lib/python3.12/dist-packages (4.3.3)\n",
            "Requirement already satisfied: numpy<2.0,>=1.18.5 in /usr/local/lib/python3.12/dist-packages (from gensim) (1.26.4)\n",
            "Requirement already satisfied: scipy<1.14.0,>=1.7.0 in /usr/local/lib/python3.12/dist-packages (from gensim) (1.13.1)\n",
            "Requirement already satisfied: smart-open>=1.8.1 in /usr/local/lib/python3.12/dist-packages (from gensim) (7.3.0.post1)\n",
            "Requirement already satisfied: wrapt in /usr/local/lib/python3.12/dist-packages (from smart-open>=1.8.1->gensim) (1.17.3)\n"
          ]
        }
      ],
      "source": [
        "!pip install gensim"
      ]
    },
    {
      "cell_type": "markdown",
      "id": "zCCjPAZgfVnm",
      "metadata": {
        "id": "zCCjPAZgfVnm"
      },
      "source": [
        "A seguir, exemplo de código utilizando a lib gensim para carregar vetores de modelos pré-treinados como GloVe e Word2vec."
      ]
    },
    {
      "cell_type": "code",
      "execution_count": null,
      "id": "d2b7afc1-6894-42e0-a3c9-479372f1da38",
      "metadata": {
        "id": "d2b7afc1-6894-42e0-a3c9-479372f1da38",
        "colab": {
          "base_uri": "https://localhost:8080/"
        },
        "outputId": "a5861cbd-2158-4089-8b7b-0c8b1c774341"
      },
      "outputs": [
        {
          "output_type": "stream",
          "name": "stdout",
          "text": [
            "['fasttext-wiki-news-subwords-300', 'conceptnet-numberbatch-17-06-300', 'word2vec-ruscorpora-300', 'word2vec-google-news-300', 'glove-wiki-gigaword-50', 'glove-wiki-gigaword-100', 'glove-wiki-gigaword-200', 'glove-wiki-gigaword-300', 'glove-twitter-25', 'glove-twitter-50', 'glove-twitter-100', 'glove-twitter-200', '__testing_word2vec-matrix-synopsis']\n"
          ]
        }
      ],
      "source": [
        "# Suprimindo warnings\n",
        "import warnings\n",
        "warnings.filterwarnings('ignore')\n",
        "\n",
        "# Sugestão de utilização\n",
        "# Importando libs necessárias\n",
        "import numpy as np\n",
        "import gensim.downloader as api\n",
        "from gensim.models import KeyedVectors\n",
        "\n",
        "# Imprimindo a lista de modelos disponíveis em gensim-data\n",
        "print(list(api.info()['models'].keys()))\n",
        "\n"
      ]
    },
    {
      "cell_type": "markdown",
      "id": "WxZD_1Eof54i",
      "metadata": {
        "id": "WxZD_1Eof54i"
      },
      "source": [
        "Os modelos sugeridos GloVe e Word2vec estão disponíveis a partir de 'glove-wiki-gigaword-100' e 'word2vec-google-news-300', respectivamente. Deve demorar alguns minutos dependendo do tamanho do modelo que você escolher."
      ]
    },
    {
      "cell_type": "code",
      "execution_count": null,
      "id": "u8QW27aUf4aC",
      "metadata": {
        "colab": {
          "base_uri": "https://localhost:8080/"
        },
        "id": "u8QW27aUf4aC",
        "outputId": "616f6e5d-6270-43f4-ceeb-6728f0de89ba"
      },
      "outputs": [
        {
          "output_type": "stream",
          "name": "stdout",
          "text": [
            "[==================================================] 100.0% 1662.8/1662.8MB downloaded\n"
          ]
        }
      ],
      "source": [
        "# Carregue os vetores dos modelos pré-treinados utilizando o método \"load()\" do objeto api.\n",
        "#TODO\n",
        "glove = api.load('glove-wiki-gigaword-100')\n",
        "word2vec = api.load('word2vec-google-news-300')\n"
      ]
    },
    {
      "cell_type": "code",
      "execution_count": null,
      "id": "n2ivn_0dDM8j",
      "metadata": {
        "colab": {
          "base_uri": "https://localhost:8080/"
        },
        "id": "n2ivn_0dDM8j",
        "outputId": "f5057e47-6c34-40d5-827f-c7e8cbb002c9"
      },
      "outputs": [
        {
          "output_type": "stream",
          "name": "stdout",
          "text": [
            "(100,)\n",
            "(300,)\n"
          ]
        }
      ],
      "source": [
        "# Verificar o tamanho do vetor (dimensões) de uma palavra\n",
        "print(glove['king'].shape)\n",
        "print(word2vec['king'].shape)\n"
      ]
    },
    {
      "cell_type": "markdown",
      "id": "ABpl1JD_Bi9v",
      "metadata": {
        "id": "ABpl1JD_Bi9v"
      },
      "source": [
        "# **EXERCÍCIO**\n",
        "# **a)** Escolha suas palavras, inicialmente em idioma inglês."
      ]
    },
    {
      "cell_type": "code",
      "execution_count": null,
      "id": "80b4d461-4905-4a3b-9f49-5373cfa64b7e",
      "metadata": {
        "id": "80b4d461-4905-4a3b-9f49-5373cfa64b7e"
      },
      "outputs": [],
      "source": [
        "# Palavras em inglês\n",
        "words = [\"exercise\", \"hydration\", \"sleep\", \"nutrition\", \"wellness\",\n",
        "         \"mindfulness\", \"hygiene\", \"fitness\", \"meditation\", \"routine\", \"prevention\"]\n"
      ]
    },
    {
      "cell_type": "markdown",
      "id": "ewjGktYyCNqe",
      "metadata": {
        "id": "ewjGktYyCNqe"
      },
      "source": [
        "Agora obtenha os embeddings do modelo carregado anteriormente acessando a chave no vetor."
      ]
    },
    {
      "cell_type": "code",
      "execution_count": null,
      "id": "qY-c731LHVLG",
      "metadata": {
        "id": "qY-c731LHVLG",
        "colab": {
          "base_uri": "https://localhost:8080/"
        },
        "outputId": "c9b4be76-a4ad-40c5-c2e3-b53b9edb5116"
      },
      "outputs": [
        {
          "output_type": "stream",
          "name": "stdout",
          "text": [
            "[[-5.1510e-01 -3.4688e-01 -3.2370e-01  4.4684e-02 -9.4621e-01]\n",
            " [-2.6886e-01  3.8526e-02  1.1407e-01 -3.1610e-01 -6.7341e-01]\n",
            " [-1.1599e-01  2.4951e-01  1.2368e-01  2.2827e-01 -9.8004e-01]\n",
            " [ 1.1449e-01  2.5288e-01 -1.5698e-01 -1.6036e-01 -3.0469e-01]\n",
            " [ 5.5892e-01 -2.7245e-01 -8.7100e-01 -3.5233e-02 -1.1758e-01]\n",
            " [-1.3515e-01  7.5401e-01 -5.3005e-01  1.5522e-01 -1.8960e-01]\n",
            " [ 5.0782e-01 -1.1051e-03 -3.4459e-01 -3.2213e-01 -8.5641e-01]\n",
            " [ 1.2616e-01 -1.0562e-01 -9.2165e-02 -1.5796e-01 -1.1061e+00]\n",
            " [ 1.3907e-01  8.9881e-01 -8.0743e-01  1.0285e+00  2.3685e-01]\n",
            " [-2.2679e-01 -4.2622e-01 -6.9540e-02  4.9605e-02 -7.1431e-01]\n",
            " [ 6.8126e-02  4.4500e-02 -1.2464e-01 -3.3842e-01  3.5371e-01]]\n"
          ]
        }
      ],
      "source": [
        "# O modelo funciona como um dicionário, acesse a chave correspondente ao token\n",
        "\n",
        "#TODO defina abaixo a variavel emb_palavras, contendo a lista de embeddings\n",
        "# de 'words'. Se quiser saber o embedding de 'casa', por exemplo, faz-se glove['casa']\n",
        "#O IF verifica se a palavra existe no vocabulário do modelo\n",
        "emb_palavras = np.array([glove[word] for word in words if word in glove])\n",
        "# Imprimindo os 5 primeiros valores para cada embedding\n",
        "print(emb_palavras[:, :5])"
      ]
    },
    {
      "cell_type": "code",
      "execution_count": null,
      "id": "aDbbD4at4eNw",
      "metadata": {
        "collapsed": true,
        "id": "aDbbD4at4eNw",
        "colab": {
          "base_uri": "https://localhost:8080/"
        },
        "outputId": "3f08d7b6-95b7-49c1-9ee0-87b0198fd462"
      },
      "outputs": [
        {
          "output_type": "stream",
          "name": "stdout",
          "text": [
            "['exercise', 'hydration', 'sleep', 'nutrition', 'wellness', 'mindfulness', 'hygiene', 'fitness', 'meditation', 'routine', 'prevention']\n",
            "[[-0.5151   -0.34688  -0.3237   ... -1.1637    0.43863   0.66091 ]\n",
            " [-0.26886   0.038526  0.11407  ... -0.52507   0.44699   0.32197 ]\n",
            " [-0.11599   0.24951   0.12368  ... -0.15943   0.43352  -0.19394 ]\n",
            " ...\n",
            " [ 0.13907   0.89881  -0.80743  ... -1.2429   -0.097982  0.52638 ]\n",
            " [-0.22679  -0.42622  -0.06954  ... -0.24441  -0.11606   0.40987 ]\n",
            " [ 0.068126  0.0445   -0.12464  ... -0.51559   0.91266  -0.27776 ]]\n"
          ]
        }
      ],
      "source": [
        "print(words)\n",
        "print(emb_palavras)"
      ]
    },
    {
      "cell_type": "markdown",
      "id": "hw8OM0oaDYC6",
      "metadata": {
        "id": "hw8OM0oaDYC6"
      },
      "source": [
        "Teste os modelos carregados tentando imprimir algumas palavras em português e veja o que acontece. Lembre-se que o modelo foi treinado sem caracteres acentuados ou case do caractere."
      ]
    },
    {
      "cell_type": "code",
      "execution_count": null,
      "id": "VXWLCQLjDm8k",
      "metadata": {
        "id": "VXWLCQLjDm8k",
        "colab": {
          "base_uri": "https://localhost:8080/",
          "height": 373
        },
        "outputId": "91d29d99-d4c1-4575-d31d-6e3b59d5d097"
      },
      "outputs": [
        {
          "output_type": "stream",
          "name": "stdout",
          "text": [
            "(100,)\n"
          ]
        },
        {
          "output_type": "error",
          "ename": "KeyError",
          "evalue": "\"Key 'umbu' not present\"",
          "traceback": [
            "\u001b[0;31m---------------------------------------------------------------------------\u001b[0m",
            "\u001b[0;31mKeyError\u001b[0m                                  Traceback (most recent call last)",
            "\u001b[0;32m/tmp/ipython-input-3439754551.py\u001b[0m in \u001b[0;36m<cell line: 0>\u001b[0;34m()\u001b[0m\n\u001b[1;32m      1\u001b[0m \u001b[0mprint\u001b[0m\u001b[0;34m(\u001b[0m\u001b[0mglove\u001b[0m\u001b[0;34m[\u001b[0m\u001b[0;34m'bodega'\u001b[0m\u001b[0;34m]\u001b[0m\u001b[0;34m.\u001b[0m\u001b[0mshape\u001b[0m\u001b[0;34m)\u001b[0m\u001b[0;34m\u001b[0m\u001b[0;34m\u001b[0m\u001b[0m\n\u001b[0;32m----> 2\u001b[0;31m \u001b[0mprint\u001b[0m\u001b[0;34m(\u001b[0m\u001b[0mword2vec\u001b[0m\u001b[0;34m[\u001b[0m\u001b[0;34m'umbu'\u001b[0m\u001b[0;34m]\u001b[0m\u001b[0;34m.\u001b[0m\u001b[0mshape\u001b[0m\u001b[0;34m)\u001b[0m\u001b[0;34m\u001b[0m\u001b[0;34m\u001b[0m\u001b[0m\n\u001b[0m\u001b[1;32m      3\u001b[0m \u001b[0;34m\u001b[0m\u001b[0m\n\u001b[1;32m      4\u001b[0m \u001b[0;34m\u001b[0m\u001b[0m\n\u001b[1;32m      5\u001b[0m \u001b[0;31m# print(w2v_v['gente'].shape)\u001b[0m\u001b[0;34m\u001b[0m\u001b[0;34m\u001b[0m\u001b[0m\n",
            "\u001b[0;32m/usr/local/lib/python3.12/dist-packages/gensim/models/keyedvectors.py\u001b[0m in \u001b[0;36m__getitem__\u001b[0;34m(self, key_or_keys)\u001b[0m\n\u001b[1;32m    401\u001b[0m         \"\"\"\n\u001b[1;32m    402\u001b[0m         \u001b[0;32mif\u001b[0m \u001b[0misinstance\u001b[0m\u001b[0;34m(\u001b[0m\u001b[0mkey_or_keys\u001b[0m\u001b[0;34m,\u001b[0m \u001b[0m_KEY_TYPES\u001b[0m\u001b[0;34m)\u001b[0m\u001b[0;34m:\u001b[0m\u001b[0;34m\u001b[0m\u001b[0;34m\u001b[0m\u001b[0m\n\u001b[0;32m--> 403\u001b[0;31m             \u001b[0;32mreturn\u001b[0m \u001b[0mself\u001b[0m\u001b[0;34m.\u001b[0m\u001b[0mget_vector\u001b[0m\u001b[0;34m(\u001b[0m\u001b[0mkey_or_keys\u001b[0m\u001b[0;34m)\u001b[0m\u001b[0;34m\u001b[0m\u001b[0;34m\u001b[0m\u001b[0m\n\u001b[0m\u001b[1;32m    404\u001b[0m \u001b[0;34m\u001b[0m\u001b[0m\n\u001b[1;32m    405\u001b[0m         \u001b[0;32mreturn\u001b[0m \u001b[0mvstack\u001b[0m\u001b[0;34m(\u001b[0m\u001b[0;34m[\u001b[0m\u001b[0mself\u001b[0m\u001b[0;34m.\u001b[0m\u001b[0mget_vector\u001b[0m\u001b[0;34m(\u001b[0m\u001b[0mkey\u001b[0m\u001b[0;34m)\u001b[0m \u001b[0;32mfor\u001b[0m \u001b[0mkey\u001b[0m \u001b[0;32min\u001b[0m \u001b[0mkey_or_keys\u001b[0m\u001b[0;34m]\u001b[0m\u001b[0;34m)\u001b[0m\u001b[0;34m\u001b[0m\u001b[0;34m\u001b[0m\u001b[0m\n",
            "\u001b[0;32m/usr/local/lib/python3.12/dist-packages/gensim/models/keyedvectors.py\u001b[0m in \u001b[0;36mget_vector\u001b[0;34m(self, key, norm)\u001b[0m\n\u001b[1;32m    444\u001b[0m \u001b[0;34m\u001b[0m\u001b[0m\n\u001b[1;32m    445\u001b[0m         \"\"\"\n\u001b[0;32m--> 446\u001b[0;31m         \u001b[0mindex\u001b[0m \u001b[0;34m=\u001b[0m \u001b[0mself\u001b[0m\u001b[0;34m.\u001b[0m\u001b[0mget_index\u001b[0m\u001b[0;34m(\u001b[0m\u001b[0mkey\u001b[0m\u001b[0;34m)\u001b[0m\u001b[0;34m\u001b[0m\u001b[0;34m\u001b[0m\u001b[0m\n\u001b[0m\u001b[1;32m    447\u001b[0m         \u001b[0;32mif\u001b[0m \u001b[0mnorm\u001b[0m\u001b[0;34m:\u001b[0m\u001b[0;34m\u001b[0m\u001b[0;34m\u001b[0m\u001b[0m\n\u001b[1;32m    448\u001b[0m             \u001b[0mself\u001b[0m\u001b[0;34m.\u001b[0m\u001b[0mfill_norms\u001b[0m\u001b[0;34m(\u001b[0m\u001b[0;34m)\u001b[0m\u001b[0;34m\u001b[0m\u001b[0;34m\u001b[0m\u001b[0m\n",
            "\u001b[0;32m/usr/local/lib/python3.12/dist-packages/gensim/models/keyedvectors.py\u001b[0m in \u001b[0;36mget_index\u001b[0;34m(self, key, default)\u001b[0m\n\u001b[1;32m    418\u001b[0m             \u001b[0;32mreturn\u001b[0m \u001b[0mdefault\u001b[0m\u001b[0;34m\u001b[0m\u001b[0;34m\u001b[0m\u001b[0m\n\u001b[1;32m    419\u001b[0m         \u001b[0;32melse\u001b[0m\u001b[0;34m:\u001b[0m\u001b[0;34m\u001b[0m\u001b[0;34m\u001b[0m\u001b[0m\n\u001b[0;32m--> 420\u001b[0;31m             \u001b[0;32mraise\u001b[0m \u001b[0mKeyError\u001b[0m\u001b[0;34m(\u001b[0m\u001b[0;34mf\"Key '{key}' not present\"\u001b[0m\u001b[0;34m)\u001b[0m\u001b[0;34m\u001b[0m\u001b[0;34m\u001b[0m\u001b[0m\n\u001b[0m\u001b[1;32m    421\u001b[0m \u001b[0;34m\u001b[0m\u001b[0m\n\u001b[1;32m    422\u001b[0m     \u001b[0;32mdef\u001b[0m \u001b[0mget_vector\u001b[0m\u001b[0;34m(\u001b[0m\u001b[0mself\u001b[0m\u001b[0;34m,\u001b[0m \u001b[0mkey\u001b[0m\u001b[0;34m,\u001b[0m \u001b[0mnorm\u001b[0m\u001b[0;34m=\u001b[0m\u001b[0;32mFalse\u001b[0m\u001b[0;34m)\u001b[0m\u001b[0;34m:\u001b[0m\u001b[0;34m\u001b[0m\u001b[0;34m\u001b[0m\u001b[0m\n",
            "\u001b[0;31mKeyError\u001b[0m: \"Key 'umbu' not present\""
          ]
        }
      ],
      "source": [
        "print(glove['bodega'].shape)\n",
        "print(word2vec['umbu'].shape)\n",
        "\n",
        "\n",
        "# print(w2v_v['gente'].shape)"
      ]
    },
    {
      "cell_type": "markdown",
      "id": "CbPGzSLg6PWZ",
      "metadata": {
        "id": "CbPGzSLg6PWZ"
      },
      "source": [
        "Perceba que estamos utilizando modelos pré-treinados com corpus do idioma inglês. Portanto, no corpus ficaram faltando muitas palavras de outros idiomas como o português.\n",
        "\n",
        "Faça o download do arquivo pré-treinado em Word2Vec do FastText no endereço https://dl.fbaipublicfiles.com/fasttext/vectors-wiki/wiki.pt.vec e carregue-o em uma variável.\n",
        "\n",
        "**Sugestão:** Faça o download com o comando wget e utilize o método load_word2vec_format() do KeyedVectors da lib gensim.\n"
      ]
    },
    {
      "cell_type": "code",
      "execution_count": null,
      "id": "c3ohwUJg0XzB",
      "metadata": {
        "id": "c3ohwUJg0XzB",
        "colab": {
          "base_uri": "https://localhost:8080/"
        },
        "outputId": "83997e34-bc6d-4c85-ce21-21860ce88dfb"
      },
      "outputs": [
        {
          "output_type": "stream",
          "name": "stdout",
          "text": [
            "--2025-09-10 03:25:17--  https://dl.fbaipublicfiles.com/fasttext/vectors-wiki/wiki.pt.vec\n",
            "Resolving dl.fbaipublicfiles.com (dl.fbaipublicfiles.com)... 3.171.22.68, 3.171.22.33, 3.171.22.13, ...\n",
            "Connecting to dl.fbaipublicfiles.com (dl.fbaipublicfiles.com)|3.171.22.68|:443... connected.\n",
            "HTTP request sent, awaiting response... 200 OK\n",
            "Length: 1560834949 (1.5G) [binary/octet-stream]\n",
            "Saving to: ‘wiki.pt.vec.1’\n",
            "\n",
            "wiki.pt.vec.1       100%[===================>]   1.45G  60.8MB/s    in 58s     \n",
            "\n",
            "2025-09-10 03:26:16 (25.5 MB/s) - ‘wiki.pt.vec.1’ saved [1560834949/1560834949]\n",
            "\n"
          ]
        }
      ],
      "source": [
        "# Faça o download do arquivo\n",
        "!wget https://dl.fbaipublicfiles.com/fasttext/vectors-wiki/wiki.pt.vec"
      ]
    },
    {
      "cell_type": "code",
      "execution_count": null,
      "id": "84K8Vt1dGOW0",
      "metadata": {
        "id": "84K8Vt1dGOW0"
      },
      "outputs": [],
      "source": [
        "# Carregue o modelo a partir do arquivo baixado\n",
        "caminho = 'wiki.pt.vec'\n",
        "modelo = KeyedVectors.load_word2vec_format(caminho, binary=False)"
      ]
    },
    {
      "cell_type": "markdown",
      "id": "XUrvljrqLyBh",
      "metadata": {
        "id": "XUrvljrqLyBh"
      },
      "source": [
        "## Escolha suas palavras agora em português e salve em um vetor."
      ]
    },
    {
      "cell_type": "code",
      "execution_count": null,
      "id": "V4UfcNYJGHMZ",
      "metadata": {
        "id": "V4UfcNYJGHMZ",
        "colab": {
          "base_uri": "https://localhost:8080/"
        },
        "outputId": "6a153c7c-cc28-4c43-f748-5b26a744a8e3"
      },
      "outputs": [
        {
          "output_type": "stream",
          "name": "stdout",
          "text": [
            "Palavras válidas: ['exercício', 'hidratação', 'dormir', 'nutrição', 'consciência', 'higiene', 'condicionamento', 'meditação', 'rotina', 'prevenção']\n"
          ]
        }
      ],
      "source": [
        "palavras = [\"exercício\", \"hidratação\", \"dormir\", \"nutrição\", \"consciência\", \"higiene\", \"condicionamento\", \"meditação\", \"rotina\", \"prevenção\"]\n",
        "palavras = [p.lower() for p in palavras]\n",
        "palavras_validas = [p for p in palavras if p in modelo]\n",
        "\n",
        "print(\"Palavras válidas:\", palavras_validas)"
      ]
    },
    {
      "cell_type": "markdown",
      "id": "0msepkrPDnIX",
      "metadata": {
        "id": "0msepkrPDnIX"
      },
      "source": [
        "# **EXERCÍCIO**\n",
        "# **b)** Crie um novo vetor que receberá os embeddings correspondentes às palavras em português que você escolheu."
      ]
    },
    {
      "cell_type": "code",
      "execution_count": null,
      "id": "fdy9ZAUYCkI3",
      "metadata": {
        "id": "fdy9ZAUYCkI3"
      },
      "outputs": [],
      "source": [
        "#TODO\n",
        "embeddings_pt = np.array([modelo[palavra] for palavra in palavras if palavra in modelo])\n"
      ]
    },
    {
      "cell_type": "markdown",
      "id": "kUyHMDDCNT0U",
      "metadata": {
        "id": "kUyHMDDCNT0U"
      },
      "source": [
        "# **EXERCÍCIO**\n",
        "# **c)** Utilize algum método de redução de dimensionalidade para reduzir os vetores dos embeddings para apenas 2 dimensões.\n",
        "\n",
        "**Sugestão:** Utilize o PCA do sklearn passando como parâmetro n_components=2."
      ]
    },
    {
      "cell_type": "code",
      "execution_count": null,
      "id": "bf89b540-550a-47cb-a4a5-502d6544d949",
      "metadata": {
        "id": "bf89b540-550a-47cb-a4a5-502d6544d949"
      },
      "outputs": [],
      "source": [
        "# Importando libs necessárias\n",
        "from sklearn.decomposition import PCA\n",
        "\n",
        "# Exemplo de redução para 10 dimensões\n",
        "#pca = PCA(n_components=10)\n",
        "#vectors_pca = pca.fit_transform(embeddings_pt)"
      ]
    },
    {
      "cell_type": "code",
      "execution_count": null,
      "id": "gG-VUOJzHdDz",
      "metadata": {
        "id": "gG-VUOJzHdDz"
      },
      "outputs": [],
      "source": [
        "pca = PCA(n_components=2)\n",
        "vectors_pca = pca.fit_transform(embeddings_pt)\n",
        "vectors_pca_en = pca.fit_transform(emb_palavras)"
      ]
    },
    {
      "cell_type": "markdown",
      "id": "7TZ_90YZTI0G",
      "metadata": {
        "id": "7TZ_90YZTI0G"
      },
      "source": [
        "# **EXERCÍCIO**\n",
        "# **d)** Faça o \"plot\" em um plano bidimensional com os valores obtidos, se possível, comparando os resultados referentes a diferentes modelos.\n",
        "\n",
        "**Sugestão:** Utilize o código da célula abaixo como exemplo de como efetuar o plot, sendo necessário ajustar a variável que contém os vetores PCA, bem como os rótulos com as palavras selecionadas."
      ]
    },
    {
      "cell_type": "code",
      "execution_count": null,
      "id": "359e1719-dd9b-4130-93f1-8cd2cf97e2d6",
      "metadata": {
        "id": "359e1719-dd9b-4130-93f1-8cd2cf97e2d6",
        "colab": {
          "base_uri": "https://localhost:8080/",
          "height": 468
        },
        "outputId": "a34eb720-05f4-4a5c-cfaa-9e4b4cbd00ae"
      },
      "outputs": [
        {
          "output_type": "display_data",
          "data": {
            "text/plain": [
              "<Figure size 500x500 with 1 Axes>"
            ],
            "image/png": "[encoded data removed]"
          },
          "metadata": {}
        }
      ],
      "source": [
        "# Plotting\n",
        "import matplotlib.pyplot as plt\n",
        "\n",
        "fig, axes = plt.subplots(1, 1, figsize=(5, 5))\n",
        "axes.scatter(vectors_pca[:, 0], vectors_pca[:, 1])\n",
        "for i, p in enumerate(palavras):\n",
        "    axes.annotate(p, (vectors_pca[i, 0]+.02, vectors_pca[i, 1]+.02))\n",
        "axes.set_title('PCA Word Embeddings')\n",
        "\n",
        "axes.scatter(vectors_pca_en[:, 0], vectors_pca_en[:, 1])\n",
        "for i, w in enumerate(words):\n",
        "    axes.annotate(w, (vectors_pca_en[i, 0]+.02, vectors_pca_en[i, 1]+.02))\n",
        "axes.set_title('PCA Word Embeddings')\n",
        "plt.show()"
      ]
    },
    {
      "cell_type": "markdown",
      "id": "lrNHReUr99R7",
      "metadata": {
        "id": "lrNHReUr99R7"
      },
      "source": [
        "# Agora que você já sabe, faça um teste com outras palavras e veja como fica o plot do gráfico."
      ]
    },
    {
      "cell_type": "code",
      "execution_count": null,
      "id": "HRxguhEy9-L5",
      "metadata": {
        "id": "HRxguhEy9-L5",
        "colab": {
          "base_uri": "https://localhost:8080/",
          "height": 468
        },
        "outputId": "a719c2ef-f952-494e-fec7-48549b3be13b"
      },
      "outputs": [
        {
          "output_type": "display_data",
          "data": {
            "text/plain": [
              "<Figure size 500x500 with 1 Axes>"
            ],
            "image/png": "[encoded data removed]"
          },
          "metadata": {}
        }
      ],
      "source": [
        "# Inicie aqui definindo suas variáveis\n",
        "#TODO\n",
        "palavras_novas = [\"amor\", \"raiva\", \"vergonha\", \"medo\", \"felicidade\", \"coragem\", \"ódio\", \"indiferença\", \"tristeza\"]\n",
        "embeddings_pt_novas = np.array([modelo[palavra_nova] for palavra_nova in palavras_novas if palavra_nova in modelo])\n",
        "vectors_pca_novas = pca.fit_transform(embeddings_pt_novas)\n",
        "\n",
        "import matplotlib.pyplot as plt\n",
        "fig, axes = plt.subplots(1, 1, figsize=(5, 5))\n",
        "axes.scatter(vectors_pca_novas[:, 0], vectors_pca_novas[:, 1])\n",
        "for i, w in enumerate(palavras_novas):\n",
        "    axes.annotate(w, (vectors_pca_novas[i, 0]+.02, vectors_pca_novas[i, 1]+.02))\n",
        "axes.set_title('PCA Word Embeddings')\n",
        "plt.show()\n",
        "\n",
        "\n"
      ]
    },
    {
      "cell_type": "markdown",
      "id": "9pWy_5FVAWE9",
      "metadata": {
        "id": "9pWy_5FVAWE9"
      },
      "source": []
    },
    {
      "cell_type": "markdown",
      "id": "8f6541fd-4b2c-40f3-b52b-feb052f8154b",
      "metadata": {
        "id": "8f6541fd-4b2c-40f3-b52b-feb052f8154b"
      },
      "source": [
        "# Word2Vec algebra\n",
        "# **EXERCÍCIO**\n",
        "# **e)** Execute operações de soma e subtração com os vetores e observe os resultados obtidos.\n",
        "\n",
        "**Sugestão:** Você pode utilizar o método \"most_similar()\" do modelo, utilizando os parâmetros \"positive\" e \"negative\" para operações de soma e subtração. O parâmetro \"topn\" controla a quantidade de resultados.\n",
        "\n",
        "**Observação:** Caso prefira utilizar numpy para as operações, ao chamar o método \"most_similar()\" utilize o parâmetro \"vector\"."
      ]
    },
    {
      "cell_type": "code",
      "execution_count": null,
      "id": "c2fdb948-7ee0-46c6-8423-1bb6c1160bf7",
      "metadata": {
        "id": "c2fdb948-7ee0-46c6-8423-1bb6c1160bf7"
      },
      "outputs": [],
      "source": [
        "# Defina as palavras\n",
        "palavra1 = 'rei'\n",
        "palavra2 = 'homem'\n",
        "palavra3 = 'mulher'\n",
        "\n",
        "# Efetue a operação algébrica usando most_similar\n",
        "# O resultado esperado é uma palavra similar a 'rainha'\n",
        "resultado = modelo.most_similar(positive=[palavra1, palavra3], negative=[palavra2], topn=1)\n",
        "\n",
        "\n",
        "# Exiba o resultado da busca por similaridade\n",
        "print(f\"A palavra mais próxima da operação {palavra1} - {palavra2} + {palavra3} é: '{resultado[0][0]}'\")\n",
        "print(f\"com similaridade {resultado[0][1]}\")"
      ]
    },
    {
      "cell_type": "markdown",
      "id": "TmIJjnrABP40",
      "metadata": {
        "id": "TmIJjnrABP40"
      },
      "source": [
        "## Espaço para testar mais operações"
      ]
    },
    {
      "cell_type": "code",
      "execution_count": null,
      "id": "fGbaDAm-BI2N",
      "metadata": {
        "id": "fGbaDAm-BI2N"
      },
      "outputs": [],
      "source": [
        "# Agora faça você\n",
        "\n",
        "# Defina as palavras\n",
        "#TODO\n",
        "\n",
        "# Efetue a operação algébrica\n",
        "#TODO\n",
        "\n",
        "# Exiba o resultado da busca por similaridade\n",
        "#TODO"
      ]
    },
    {
      "cell_type": "markdown",
      "id": "ca418d70-69ae-479c-b174-f61a69a834ba",
      "metadata": {
        "id": "ca418d70-69ae-479c-b174-f61a69a834ba"
      },
      "source": [
        "# Word2Vec vs BERT: Embeddings em contextos diferentes\n",
        "\n",
        "Nos modelos representativos mais complexos, como o BERT, o cáculo dos valores de embedding de uma palavra pode depender dramáticamente da aplicação na frase. Isso não é por acaso e faz total sentido, pois a semântica pode ser totalmente diferente.\n",
        "\n",
        "Por exemplo, observe a plavra 'manga' nas duas senteças abaixo:\n",
        "\n",
        "\n",
        "*   \"Sujei a manga da minha camisa.\"\n",
        "*   \"Quero comer manga com leite.\"\n"
      ]
    },
    {
      "cell_type": "markdown",
      "id": "o5WYol4iBTY2",
      "metadata": {
        "id": "o5WYol4iBTY2"
      },
      "source": [
        "## Vamos testar o quanto o modelo consegue capturar o contexto na tokenização incluindo agora o BERT.\n",
        "\n",
        "# **EXERCÍCIO**\n",
        "# **f)** Para comparar outras formas de gerar embeddings, utilize o modelo BERT de forma a gerar word embeddings a partir de frases e veja o resultado obtido.\n",
        "\n",
        "O código a seguir vai auxiliar na instanciação do modelo BERT e definição de uma função para ter acesso facilitado aos embeddings do modelo.\n"
      ]
    },
    {
      "cell_type": "code",
      "execution_count": null,
      "id": "e02a644c-9413-407a-aa6b-d5a5079dbb76",
      "metadata": {
        "id": "e02a644c-9413-407a-aa6b-d5a5079dbb76"
      },
      "outputs": [],
      "source": [
        "from transformers import BertTokenizer, BertModel\n",
        "from sklearn.metrics.pairwise import cosine_similarity\n",
        "\n",
        "\n",
        "tokenizer = BertTokenizer.from_pretrained('bert-base-uncased')\n",
        "model = BertModel.from_pretrained('bert-base-uncased')\n",
        "\n",
        "# Função para obter os embeddings do BERT\n",
        "def get_bert_embeddings(sentence, word):\n",
        "    inputs = tokenizer(sentence, return_tensors='pt')\n",
        "    outputs = model(**inputs)\n",
        "    last_hidden_states = outputs.last_hidden_state\n",
        "    word_tokens = tokenizer.tokenize(sentence)\n",
        "    word_index = word_tokens.index(word)\n",
        "    word_embedding = last_hidden_states[0, word_index + 1, :]\n",
        "    return word_embedding"
      ]
    },
    {
      "cell_type": "markdown",
      "id": "uynd92ZhCf0p",
      "metadata": {
        "id": "uynd92ZhCf0p"
      },
      "source": [
        "# **f)** (Detalhamento) Defina duas sentenças que contenham uma mesma palavra em ambas, porém com semântica diferente. Em seguide calcule os embeddings da mesma palavra nas duas sentenças, para finalmente comparar os resultados.\n",
        "\n",
        "**Dica:** Utilize o método definido anteriormente, passando a sentença e a palavra que você deseja obter o embedding."
      ]
    },
    {
      "cell_type": "code",
      "execution_count": null,
      "id": "sl7fKcN2MQeq",
      "metadata": {
        "id": "sl7fKcN2MQeq"
      },
      "outputs": [],
      "source": [
        "# Defina suas sentenças\n",
        "sentenca1 = \"the bank has a lot of money\"\n",
        "sentenca2 = \"i am sitting on a bank\"\n",
        "\n",
        "# Defina a palavra foco\n",
        "palavra_foco = 'bank'\n",
        "\n",
        "\n",
        "# Calcule os embeddings da palavra nas duas situações\n",
        "es1 = get_bert_embeddings(sentenca1, palavra_foco)\n",
        "es2 = get_bert_embeddings(sentenca2, palavra_foco)\n",
        "\n",
        "# Imprima os embeddings calculados\n",
        "print(\"Embedding da sentença 1:\", es1)\n",
        "print(\"Embedding da sentença 2:\", es2)\n",
        "\n",
        "\n",
        "# Calcule a similaridade\n",
        "# calcular a similaridade\n",
        "similaridade = cosine_similarity(es1.reshape(1, -1).detach().numpy(), es2.reshape(1, -1).detach().numpy())\n",
        "print(\"Similaridade:\", similaridade)"
      ]
    },
    {
      "cell_type": "markdown",
      "id": "mPxwGKKaMVc0",
      "metadata": {
        "id": "mPxwGKKaMVc0"
      },
      "source": [
        "# Agora é com você:"
      ]
    },
    {
      "cell_type": "code",
      "execution_count": null,
      "id": "ASaCTNgabCGh",
      "metadata": {
        "id": "ASaCTNgabCGh"
      },
      "outputs": [],
      "source": [
        "# Defina suas sentenças\n",
        "#TODO\n",
        "sentenca1 = \"\"\n",
        "sentenca2 = \"\"\n",
        "\n",
        "# Defina a palavra foco\n",
        "#TODO\n",
        "palavra_foco =\n",
        "\n",
        "\n",
        "# Calcule os embeddings da palavra nas duas situações\n",
        "#TODO. Use o método get_bert_embeddings definido acima\n",
        "\n",
        "# Imprima os embeddings calculados\n",
        "\n",
        "\n",
        "# Calcule a similaridade\n"
      ]
    },
    {
      "cell_type": "markdown",
      "id": "Df_scnycMzNf",
      "metadata": {
        "id": "Df_scnycMzNf"
      },
      "source": [
        "# Explicação da linha de similaridade\n",
        "\n",
        "O trecho de código `cosine_similarity(es1.reshape(1, -1).detach().numpy(), es2.reshape(1, -1).detach().numpy())` calcula a **similaridade de cosseno** entre os embeddings `es1` e `es2`.\n",
        "\n",
        "\n",
        "*   **`es1` e `es2`**: São os embeddings da palavra foco nas duas sentenças, obtidos do modelo BERT. Eles são tensores do PyTorch.\n",
        "*   **`.detach()`**: Este método desanexa o tensor do gráfico de computação atual, o que significa que não calcularemos gradientes para este tensor. Isso é útil quando você não precisa de backpropagation, como neste caso, onde estamos apenas comparando embeddings.\n",
        "*   **`.numpy()`**: Converte o tensor PyTorch para um array NumPy. A função `cosine_similarity` do sklearn espera arrays NumPy como entrada.\n",
        "*   **`.reshape(1, -1)`**: Redimensiona o array NumPy. O `reshape(1, -1)` transforma o array em um array 2D com 1 linha e tantas colunas quanto forem necessárias (-1). Isso é necessário porque a função `cosine_similarity` do sklearn espera uma entrada 2D (mesmo que você esteja comparando apenas um par de vetores).\n",
        "*   **`cosine_similarity(...)`**: Esta função do módulo `sklearn.metrics.pairwise` calcula a similaridade de cosseno entre dois vetores ou matrizes de vetores. A **similaridade de cosseno** mede o ângulo entre dois vetores. Um valor de 1 indica que os vetores são idênticos em direção (mesmo que a magnitude seja diferente), 0 indica que são ortogonais (não relacionados), e -1 indica que são completamente opostos.\n",
        "\n",
        "Em resumo, o código está obtendo os embeddings BERT para a palavra foco em duas sentenças diferentes, convertendo-os para um formato compatível com a biblioteca scikit-learn e, em seguida, calculando a similaridade de cosseno para ver quão semelhantes são esses embeddings. Um valor de similaridade de cosseno próximo a 1 indica que os embeddings são muito parecidos, sugerindo que a palavra tem um significado semelhante em ambos os contextos. Um valor próximo a 0 ou negativo sugere que a palavra tem significados diferentes."
      ]
    }
  ],
  "metadata": {
    "colab": {
      "gpuType": "T4",
      "provenance": [],
      "include_colab_link": true
    },
    "kernelspec": {
      "display_name": "Python 3",
      "name": "python3"
    },
    "language_info": {
      "codemirror_mode": {
        "name": "ipython",
        "version": 3
      },
      "file_extension": ".py",
      "mimetype": "text/x-python",
      "name": "python",
      "nbconvert_exporter": "python",
      "pygments_lexer": "ipython3",
      "version": "3.11.9"
    }
  },
  "nbformat": 4,
  "nbformat_minor": 5
}