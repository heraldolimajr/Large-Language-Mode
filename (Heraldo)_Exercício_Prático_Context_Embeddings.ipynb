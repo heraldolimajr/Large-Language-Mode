{
  "cells": [
    {
      "cell_type": "markdown",
      "source": [
        "\n",
        "\n",
        "> Prática realizada por Heraldo Gonçalves Lima Junior\n",
        "\n",
        "\n",
        "\n",
        "\n",
        "---\n",
        "\n"
      ],
      "metadata": {
        "id": "FW9k9ttkvcjB"
      },
      "id": "FW9k9ttkvcjB"
    },
    {
      "cell_type": "markdown",
      "id": "497db21d-4e08-42a7-9258-90fecced929f",
      "metadata": {
        "id": "497db21d-4e08-42a7-9258-90fecced929f"
      },
      "source": [
        "# Exercício 1 - Token Embeddings (Operações e contextualização)"
      ]
    },
    {
      "cell_type": "markdown",
      "id": "TgejuBG0gFF-",
      "metadata": {
        "id": "TgejuBG0gFF-"
      },
      "source": [
        "Conforme visto em sala de aula, existem várias técnicas de tokenização: word token, subword token, character token, byte token, dentre outras que podem obter resultados mistos. Esse exercício abordará embeddings para word tokens, ou word embeddings. Nesse contexto, siga as instruções:\n",
        "\n",
        "**a)** escolha no mínimo 2 grupos de palavras relacionadas, cada grupo contendo no mínimo 3 palavras.\n",
        "Ex.:\n",
        "\n",
        "*   Palavras relacionadas a paisagem\n",
        "    *   ceu\n",
        "    *   montanha\n",
        "    *   rio\n",
        "*   Palavras relacionadas a estudo\n",
        "    *   caderno\n",
        "    *   escola\n",
        "    *   livro\n",
        "\n",
        "**b)** Em seguida, obtenha os embeddings das palavras.\n",
        "\n",
        "**c)** Utilize algum método de redução de dimensionalidade para reduzir os vetores dos embeddings para apenas 2 dimensões.\n",
        "\n",
        "**d)** Faça o \"plot\" em um plano bidimensional com os valores obtidos, comparando os resultados referentes aos diferentes modelos.\n",
        "\n",
        "**e)** Execute operações de soma e subtração com os vetores e observe os resultados obtidos.\n",
        "\n",
        "**f)** Para comparar outras formas de gerar embeddings, utilize o modelo BERT de forma a gerar word embeddings a partir de frases e veja o resultado obtido."
      ]
    },
    {
      "cell_type": "markdown",
      "id": "bc50c2b6-0745-4952-83c8-170275da0e2d",
      "metadata": {
        "id": "bc50c2b6-0745-4952-83c8-170275da0e2d"
      },
      "source": [
        "## Sugestão: Utilize bibliotecas para ter acesso a modelos pré-treinados"
      ]
    },
    {
      "cell_type": "markdown",
      "id": "2d993bfb-80c1-4817-8622-a065d71da414",
      "metadata": {
        "id": "2d993bfb-80c1-4817-8622-a065d71da414"
      },
      "source": [
        "<p style=\"background-color:#fff6e4; padding:15px; border-width:3px; border-color:#f5ecda; border-style:solid; border-radius:6px\"> ⏳ <b>O código a seguir instala bibliotecas para permitir utilizar os embeddings do GloVe, Word2Vec e BERT</b>"
      ]
    },
    {
      "cell_type": "code",
      "execution_count": 1,
      "id": "uj9XEaqrmtbJ",
      "metadata": {
        "colab": {
          "base_uri": "https://localhost:8080/",
          "height": 0
        },
        "id": "uj9XEaqrmtbJ",
        "outputId": "c1308af8-646f-435c-94ab-9403faee5c6f"
      },
      "outputs": [
        {
          "output_type": "stream",
          "name": "stdout",
          "text": [
            "Requirement already satisfied: gensim in /usr/local/lib/python3.12/dist-packages (4.3.3)\n",
            "Requirement already satisfied: numpy<2.0,>=1.18.5 in /usr/local/lib/python3.12/dist-packages (from gensim) (1.26.4)\n",
            "Requirement already satisfied: scipy<1.14.0,>=1.7.0 in /usr/local/lib/python3.12/dist-packages (from gensim) (1.13.1)\n",
            "Requirement already satisfied: smart-open>=1.8.1 in /usr/local/lib/python3.12/dist-packages (from gensim) (7.3.0.post1)\n",
            "Requirement already satisfied: wrapt in /usr/local/lib/python3.12/dist-packages (from smart-open>=1.8.1->gensim) (1.17.3)\n"
          ]
        }
      ],
      "source": [
        "!pip install gensim"
      ]
    },
    {
      "cell_type": "markdown",
      "id": "zCCjPAZgfVnm",
      "metadata": {
        "id": "zCCjPAZgfVnm"
      },
      "source": [
        "A seguir, exemplo de código utilizando a lib gensim para carregar vetores de modelos pré-treinados como GloVe e Word2vec."
      ]
    },
    {
      "cell_type": "code",
      "execution_count": 2,
      "id": "d2b7afc1-6894-42e0-a3c9-479372f1da38",
      "metadata": {
        "id": "d2b7afc1-6894-42e0-a3c9-479372f1da38",
        "colab": {
          "base_uri": "https://localhost:8080/",
          "height": 0
        },
        "outputId": "3dc68323-5eef-4c23-a560-b9ca94956dba"
      },
      "outputs": [
        {
          "output_type": "stream",
          "name": "stdout",
          "text": [
            "['fasttext-wiki-news-subwords-300', 'conceptnet-numberbatch-17-06-300', 'word2vec-ruscorpora-300', 'word2vec-google-news-300', 'glove-wiki-gigaword-50', 'glove-wiki-gigaword-100', 'glove-wiki-gigaword-200', 'glove-wiki-gigaword-300', 'glove-twitter-25', 'glove-twitter-50', 'glove-twitter-100', 'glove-twitter-200', '__testing_word2vec-matrix-synopsis']\n"
          ]
        }
      ],
      "source": [
        "# Suprimindo warnings\n",
        "import warnings\n",
        "warnings.filterwarnings('ignore')\n",
        "\n",
        "# Sugestão de utilização\n",
        "# Importando libs necessárias\n",
        "import numpy as np\n",
        "import gensim.downloader as api\n",
        "from gensim.models import KeyedVectors\n",
        "\n",
        "# Imprimindo a lista de modelos disponíveis em gensim-data\n",
        "print(list(api.info()['models'].keys()))\n",
        "\n"
      ]
    },
    {
      "cell_type": "markdown",
      "id": "WxZD_1Eof54i",
      "metadata": {
        "id": "WxZD_1Eof54i"
      },
      "source": [
        "Os modelos sugeridos GloVe e Word2vec estão disponíveis a partir de 'glove-wiki-gigaword-100' e 'word2vec-google-news-300', respectivamente. Deve demorar alguns minutos dependendo do tamanho do modelo que você escolher."
      ]
    },
    {
      "cell_type": "code",
      "execution_count": 3,
      "id": "u8QW27aUf4aC",
      "metadata": {
        "colab": {
          "base_uri": "https://localhost:8080/",
          "height": 0
        },
        "id": "u8QW27aUf4aC",
        "outputId": "747ca857-c07e-4fce-e3aa-c9af28fbf7df"
      },
      "outputs": [
        {
          "output_type": "stream",
          "name": "stdout",
          "text": [
            "[==================================================] 100.0% 128.1/128.1MB downloaded\n",
            "[==================================================] 100.0% 1662.8/1662.8MB downloaded\n"
          ]
        }
      ],
      "source": [
        "# Carregue os vetores dos modelos pré-treinados utilizando o método \"load()\" do objeto api.\n",
        "#TODO\n",
        "glove = api.load('glove-wiki-gigaword-100')\n",
        "word2vec = api.load('word2vec-google-news-300')\n"
      ]
    },
    {
      "cell_type": "code",
      "execution_count": 4,
      "id": "n2ivn_0dDM8j",
      "metadata": {
        "colab": {
          "base_uri": "https://localhost:8080/",
          "height": 0
        },
        "id": "n2ivn_0dDM8j",
        "outputId": "5c6e4228-af0c-475a-9492-323077669260"
      },
      "outputs": [
        {
          "output_type": "stream",
          "name": "stdout",
          "text": [
            "(100,)\n",
            "(300,)\n"
          ]
        }
      ],
      "source": [
        "# Verificar o tamanho do vetor (dimensões) de uma palavra\n",
        "print(glove['king'].shape)\n",
        "print(word2vec['king'].shape)\n"
      ]
    },
    {
      "cell_type": "markdown",
      "id": "ABpl1JD_Bi9v",
      "metadata": {
        "id": "ABpl1JD_Bi9v"
      },
      "source": [
        "# **EXERCÍCIO**\n",
        "# **a)** Escolha suas palavras, inicialmente em idioma inglês."
      ]
    },
    {
      "cell_type": "code",
      "execution_count": 5,
      "id": "80b4d461-4905-4a3b-9f49-5373cfa64b7e",
      "metadata": {
        "id": "80b4d461-4905-4a3b-9f49-5373cfa64b7e"
      },
      "outputs": [],
      "source": [
        "# Palavras em inglês\n",
        "words = [\"exercise\", \"hydration\", \"sleep\", \"nutrition\", \"wellness\",\n",
        "         \"mindfulness\", \"hygiene\", \"fitness\", \"meditation\", \"routine\", \"prevention\"]\n"
      ]
    },
    {
      "cell_type": "markdown",
      "id": "ewjGktYyCNqe",
      "metadata": {
        "id": "ewjGktYyCNqe"
      },
      "source": [
        "Agora obtenha os embeddings do modelo carregado anteriormente acessando a chave no vetor."
      ]
    },
    {
      "cell_type": "code",
      "execution_count": 6,
      "id": "qY-c731LHVLG",
      "metadata": {
        "id": "qY-c731LHVLG",
        "colab": {
          "base_uri": "https://localhost:8080/",
          "height": 0
        },
        "outputId": "d7215759-6f92-42f0-f94c-5f881a2655c0"
      },
      "outputs": [
        {
          "output_type": "stream",
          "name": "stdout",
          "text": [
            "[[-5.1510e-01 -3.4688e-01 -3.2370e-01  4.4684e-02 -9.4621e-01]\n",
            " [-2.6886e-01  3.8526e-02  1.1407e-01 -3.1610e-01 -6.7341e-01]\n",
            " [-1.1599e-01  2.4951e-01  1.2368e-01  2.2827e-01 -9.8004e-01]\n",
            " [ 1.1449e-01  2.5288e-01 -1.5698e-01 -1.6036e-01 -3.0469e-01]\n",
            " [ 5.5892e-01 -2.7245e-01 -8.7100e-01 -3.5233e-02 -1.1758e-01]\n",
            " [-1.3515e-01  7.5401e-01 -5.3005e-01  1.5522e-01 -1.8960e-01]\n",
            " [ 5.0782e-01 -1.1051e-03 -3.4459e-01 -3.2213e-01 -8.5641e-01]\n",
            " [ 1.2616e-01 -1.0562e-01 -9.2165e-02 -1.5796e-01 -1.1061e+00]\n",
            " [ 1.3907e-01  8.9881e-01 -8.0743e-01  1.0285e+00  2.3685e-01]\n",
            " [-2.2679e-01 -4.2622e-01 -6.9540e-02  4.9605e-02 -7.1431e-01]\n",
            " [ 6.8126e-02  4.4500e-02 -1.2464e-01 -3.3842e-01  3.5371e-01]]\n"
          ]
        }
      ],
      "source": [
        "# O modelo funciona como um dicionário, acesse a chave correspondente ao token\n",
        "\n",
        "#TODO defina abaixo a variavel emb_palavras, contendo a lista de embeddings\n",
        "# de 'words'. Se quiser saber o embedding de 'casa', por exemplo, faz-se glove['casa']\n",
        "#O IF verifica se a palavra existe no vocabulário do modelo\n",
        "emb_palavras = np.array([glove[word] for word in words if word in glove])\n",
        "# Imprimindo os 5 primeiros valores para cada embedding\n",
        "print(emb_palavras[:, :5])"
      ]
    },
    {
      "cell_type": "code",
      "execution_count": 7,
      "id": "aDbbD4at4eNw",
      "metadata": {
        "collapsed": true,
        "id": "aDbbD4at4eNw",
        "colab": {
          "base_uri": "https://localhost:8080/",
          "height": 0
        },
        "outputId": "36501aab-0138-44fa-9c0a-d25f9e102fa4"
      },
      "outputs": [
        {
          "output_type": "stream",
          "name": "stdout",
          "text": [
            "['exercise', 'hydration', 'sleep', 'nutrition', 'wellness', 'mindfulness', 'hygiene', 'fitness', 'meditation', 'routine', 'prevention']\n",
            "[[-0.5151   -0.34688  -0.3237   ... -1.1637    0.43863   0.66091 ]\n",
            " [-0.26886   0.038526  0.11407  ... -0.52507   0.44699   0.32197 ]\n",
            " [-0.11599   0.24951   0.12368  ... -0.15943   0.43352  -0.19394 ]\n",
            " ...\n",
            " [ 0.13907   0.89881  -0.80743  ... -1.2429   -0.097982  0.52638 ]\n",
            " [-0.22679  -0.42622  -0.06954  ... -0.24441  -0.11606   0.40987 ]\n",
            " [ 0.068126  0.0445   -0.12464  ... -0.51559   0.91266  -0.27776 ]]\n"
          ]
        }
      ],
      "source": [
        "print(words)\n",
        "print(emb_palavras)"
      ]
    },
    {
      "cell_type": "markdown",
      "id": "hw8OM0oaDYC6",
      "metadata": {
        "id": "hw8OM0oaDYC6"
      },
      "source": [
        "Teste os modelos carregados tentando imprimir algumas palavras em português e veja o que acontece. Lembre-se que o modelo foi treinado sem caracteres acentuados ou case do caractere."
      ]
    },
    {
      "cell_type": "code",
      "execution_count": 8,
      "id": "VXWLCQLjDm8k",
      "metadata": {
        "id": "VXWLCQLjDm8k",
        "colab": {
          "base_uri": "https://localhost:8080/",
          "height": 373
        },
        "outputId": "09a35eed-be4f-40ae-b100-6017fe1b06f7"
      },
      "outputs": [
        {
          "output_type": "stream",
          "name": "stdout",
          "text": [
            "(100,)\n"
          ]
        },
        {
          "output_type": "error",
          "ename": "KeyError",
          "evalue": "\"Key 'umbu' not present\"",
          "traceback": [
            "\u001b[0;31m---------------------------------------------------------------------------\u001b[0m",
            "\u001b[0;31mKeyError\u001b[0m                                  Traceback (most recent call last)",
            "\u001b[0;32m/tmp/ipython-input-3439754551.py\u001b[0m in \u001b[0;36m<cell line: 0>\u001b[0;34m()\u001b[0m\n\u001b[1;32m      1\u001b[0m \u001b[0mprint\u001b[0m\u001b[0;34m(\u001b[0m\u001b[0mglove\u001b[0m\u001b[0;34m[\u001b[0m\u001b[0;34m'bodega'\u001b[0m\u001b[0;34m]\u001b[0m\u001b[0;34m.\u001b[0m\u001b[0mshape\u001b[0m\u001b[0;34m)\u001b[0m\u001b[0;34m\u001b[0m\u001b[0;34m\u001b[0m\u001b[0m\n\u001b[0;32m----> 2\u001b[0;31m \u001b[0mprint\u001b[0m\u001b[0;34m(\u001b[0m\u001b[0mword2vec\u001b[0m\u001b[0;34m[\u001b[0m\u001b[0;34m'umbu'\u001b[0m\u001b[0;34m]\u001b[0m\u001b[0;34m.\u001b[0m\u001b[0mshape\u001b[0m\u001b[0;34m)\u001b[0m\u001b[0;34m\u001b[0m\u001b[0;34m\u001b[0m\u001b[0m\n\u001b[0m\u001b[1;32m      3\u001b[0m \u001b[0;34m\u001b[0m\u001b[0m\n\u001b[1;32m      4\u001b[0m \u001b[0;34m\u001b[0m\u001b[0m\n\u001b[1;32m      5\u001b[0m \u001b[0;31m# print(w2v_v['gente'].shape)\u001b[0m\u001b[0;34m\u001b[0m\u001b[0;34m\u001b[0m\u001b[0m\n",
            "\u001b[0;32m/usr/local/lib/python3.12/dist-packages/gensim/models/keyedvectors.py\u001b[0m in \u001b[0;36m__getitem__\u001b[0;34m(self, key_or_keys)\u001b[0m\n\u001b[1;32m    401\u001b[0m         \"\"\"\n\u001b[1;32m    402\u001b[0m         \u001b[0;32mif\u001b[0m \u001b[0misinstance\u001b[0m\u001b[0;34m(\u001b[0m\u001b[0mkey_or_keys\u001b[0m\u001b[0;34m,\u001b[0m \u001b[0m_KEY_TYPES\u001b[0m\u001b[0;34m)\u001b[0m\u001b[0;34m:\u001b[0m\u001b[0;34m\u001b[0m\u001b[0;34m\u001b[0m\u001b[0m\n\u001b[0;32m--> 403\u001b[0;31m             \u001b[0;32mreturn\u001b[0m \u001b[0mself\u001b[0m\u001b[0;34m.\u001b[0m\u001b[0mget_vector\u001b[0m\u001b[0;34m(\u001b[0m\u001b[0mkey_or_keys\u001b[0m\u001b[0;34m)\u001b[0m\u001b[0;34m\u001b[0m\u001b[0;34m\u001b[0m\u001b[0m\n\u001b[0m\u001b[1;32m    404\u001b[0m \u001b[0;34m\u001b[0m\u001b[0m\n\u001b[1;32m    405\u001b[0m         \u001b[0;32mreturn\u001b[0m \u001b[0mvstack\u001b[0m\u001b[0;34m(\u001b[0m\u001b[0;34m[\u001b[0m\u001b[0mself\u001b[0m\u001b[0;34m.\u001b[0m\u001b[0mget_vector\u001b[0m\u001b[0;34m(\u001b[0m\u001b[0mkey\u001b[0m\u001b[0;34m)\u001b[0m \u001b[0;32mfor\u001b[0m \u001b[0mkey\u001b[0m \u001b[0;32min\u001b[0m \u001b[0mkey_or_keys\u001b[0m\u001b[0;34m]\u001b[0m\u001b[0;34m)\u001b[0m\u001b[0;34m\u001b[0m\u001b[0;34m\u001b[0m\u001b[0m\n",
            "\u001b[0;32m/usr/local/lib/python3.12/dist-packages/gensim/models/keyedvectors.py\u001b[0m in \u001b[0;36mget_vector\u001b[0;34m(self, key, norm)\u001b[0m\n\u001b[1;32m    444\u001b[0m \u001b[0;34m\u001b[0m\u001b[0m\n\u001b[1;32m    445\u001b[0m         \"\"\"\n\u001b[0;32m--> 446\u001b[0;31m         \u001b[0mindex\u001b[0m \u001b[0;34m=\u001b[0m \u001b[0mself\u001b[0m\u001b[0;34m.\u001b[0m\u001b[0mget_index\u001b[0m\u001b[0;34m(\u001b[0m\u001b[0mkey\u001b[0m\u001b[0;34m)\u001b[0m\u001b[0;34m\u001b[0m\u001b[0;34m\u001b[0m\u001b[0m\n\u001b[0m\u001b[1;32m    447\u001b[0m         \u001b[0;32mif\u001b[0m \u001b[0mnorm\u001b[0m\u001b[0;34m:\u001b[0m\u001b[0;34m\u001b[0m\u001b[0;34m\u001b[0m\u001b[0m\n\u001b[1;32m    448\u001b[0m             \u001b[0mself\u001b[0m\u001b[0;34m.\u001b[0m\u001b[0mfill_norms\u001b[0m\u001b[0;34m(\u001b[0m\u001b[0;34m)\u001b[0m\u001b[0;34m\u001b[0m\u001b[0;34m\u001b[0m\u001b[0m\n",
            "\u001b[0;32m/usr/local/lib/python3.12/dist-packages/gensim/models/keyedvectors.py\u001b[0m in \u001b[0;36mget_index\u001b[0;34m(self, key, default)\u001b[0m\n\u001b[1;32m    418\u001b[0m             \u001b[0;32mreturn\u001b[0m \u001b[0mdefault\u001b[0m\u001b[0;34m\u001b[0m\u001b[0;34m\u001b[0m\u001b[0m\n\u001b[1;32m    419\u001b[0m         \u001b[0;32melse\u001b[0m\u001b[0;34m:\u001b[0m\u001b[0;34m\u001b[0m\u001b[0;34m\u001b[0m\u001b[0m\n\u001b[0;32m--> 420\u001b[0;31m             \u001b[0;32mraise\u001b[0m \u001b[0mKeyError\u001b[0m\u001b[0;34m(\u001b[0m\u001b[0;34mf\"Key '{key}' not present\"\u001b[0m\u001b[0;34m)\u001b[0m\u001b[0;34m\u001b[0m\u001b[0;34m\u001b[0m\u001b[0m\n\u001b[0m\u001b[1;32m    421\u001b[0m \u001b[0;34m\u001b[0m\u001b[0m\n\u001b[1;32m    422\u001b[0m     \u001b[0;32mdef\u001b[0m \u001b[0mget_vector\u001b[0m\u001b[0;34m(\u001b[0m\u001b[0mself\u001b[0m\u001b[0;34m,\u001b[0m \u001b[0mkey\u001b[0m\u001b[0;34m,\u001b[0m \u001b[0mnorm\u001b[0m\u001b[0;34m=\u001b[0m\u001b[0;32mFalse\u001b[0m\u001b[0;34m)\u001b[0m\u001b[0;34m:\u001b[0m\u001b[0;34m\u001b[0m\u001b[0;34m\u001b[0m\u001b[0m\n",
            "\u001b[0;31mKeyError\u001b[0m: \"Key 'umbu' not present\""
          ]
        }
      ],
      "source": [
        "print(glove['bodega'].shape)\n",
        "print(word2vec['umbu'].shape)\n",
        "\n",
        "\n",
        "# print(w2v_v['gente'].shape)"
      ]
    },
    {
      "cell_type": "markdown",
      "id": "CbPGzSLg6PWZ",
      "metadata": {
        "id": "CbPGzSLg6PWZ"
      },
      "source": [
        "Perceba que estamos utilizando modelos pré-treinados com corpus do idioma inglês. Portanto, no corpus ficaram faltando muitas palavras de outros idiomas como o português.\n",
        "\n",
        "Faça o download do arquivo pré-treinado em Word2Vec do FastText no endereço https://dl.fbaipublicfiles.com/fasttext/vectors-wiki/wiki.pt.vec e carregue-o em uma variável.\n",
        "\n",
        "**Sugestão:** Faça o download com o comando wget e utilize o método load_word2vec_format() do KeyedVectors da lib gensim.\n"
      ]
    },
    {
      "cell_type": "code",
      "execution_count": 9,
      "id": "c3ohwUJg0XzB",
      "metadata": {
        "id": "c3ohwUJg0XzB",
        "colab": {
          "base_uri": "https://localhost:8080/",
          "height": 0
        },
        "outputId": "6ceda9a7-e756-41e2-ec70-b25e0afcf4cf"
      },
      "outputs": [
        {
          "output_type": "stream",
          "name": "stdout",
          "text": [
            "--2025-09-10 12:53:46--  https://dl.fbaipublicfiles.com/fasttext/vectors-wiki/wiki.pt.vec\n",
            "Resolving dl.fbaipublicfiles.com (dl.fbaipublicfiles.com)... 3.163.189.14, 3.163.189.96, 3.163.189.51, ...\n",
            "Connecting to dl.fbaipublicfiles.com (dl.fbaipublicfiles.com)|3.163.189.14|:443... connected.\n",
            "HTTP request sent, awaiting response... 200 OK\n",
            "Length: 1560834949 (1.5G) [binary/octet-stream]\n",
            "Saving to: ‘wiki.pt.vec’\n",
            "\n",
            "wiki.pt.vec         100%[===================>]   1.45G  46.0MB/s    in 35s     \n",
            "\n",
            "2025-09-10 12:54:21 (42.7 MB/s) - ‘wiki.pt.vec’ saved [1560834949/1560834949]\n",
            "\n"
          ]
        }
      ],
      "source": [
        "# Faça o download do arquivo\n",
        "!wget https://dl.fbaipublicfiles.com/fasttext/vectors-wiki/wiki.pt.vec"
      ]
    },
    {
      "cell_type": "code",
      "execution_count": 12,
      "id": "84K8Vt1dGOW0",
      "metadata": {
        "id": "84K8Vt1dGOW0"
      },
      "outputs": [],
      "source": [
        "# Carregue o modelo a partir do arquivo baixado\n",
        "caminho = 'wiki.pt.vec'\n",
        "modelo = KeyedVectors.load_word2vec_format(caminho, binary=False)"
      ]
    },
    {
      "cell_type": "markdown",
      "id": "XUrvljrqLyBh",
      "metadata": {
        "id": "XUrvljrqLyBh"
      },
      "source": [
        "## Escolha suas palavras agora em português e salve em um vetor."
      ]
    },
    {
      "cell_type": "code",
      "execution_count": 13,
      "id": "V4UfcNYJGHMZ",
      "metadata": {
        "id": "V4UfcNYJGHMZ",
        "colab": {
          "base_uri": "https://localhost:8080/",
          "height": 0
        },
        "outputId": "e7441f8d-8db0-4a58-cf47-e252d8bbf647"
      },
      "outputs": [
        {
          "output_type": "stream",
          "name": "stdout",
          "text": [
            "Palavras válidas: ['exercício', 'hidratação', 'dormir', 'nutrição', 'consciência', 'higiene', 'condicionamento', 'meditação', 'rotina', 'prevenção']\n"
          ]
        }
      ],
      "source": [
        "palavras = [\"exercício\", \"hidratação\", \"dormir\", \"nutrição\", \"consciência\", \"higiene\", \"condicionamento\", \"meditação\", \"rotina\", \"prevenção\"]\n",
        "palavras = [p.lower() for p in palavras]\n",
        "palavras_validas = [p for p in palavras if p in modelo]\n",
        "\n",
        "print(\"Palavras válidas:\", palavras_validas)"
      ]
    },
    {
      "cell_type": "markdown",
      "id": "0msepkrPDnIX",
      "metadata": {
        "id": "0msepkrPDnIX"
      },
      "source": [
        "# **EXERCÍCIO**\n",
        "# **b)** Crie um novo vetor que receberá os embeddings correspondentes às palavras em português que você escolheu."
      ]
    },
    {
      "cell_type": "code",
      "execution_count": 14,
      "id": "fdy9ZAUYCkI3",
      "metadata": {
        "id": "fdy9ZAUYCkI3"
      },
      "outputs": [],
      "source": [
        "#TODO\n",
        "embeddings_pt = np.array([modelo[palavra] for palavra in palavras if palavra in modelo])\n"
      ]
    },
    {
      "cell_type": "markdown",
      "id": "kUyHMDDCNT0U",
      "metadata": {
        "id": "kUyHMDDCNT0U"
      },
      "source": [
        "# **EXERCÍCIO**\n",
        "# **c)** Utilize algum método de redução de dimensionalidade para reduzir os vetores dos embeddings para apenas 2 dimensões.\n",
        "\n",
        "**Sugestão:** Utilize o PCA do sklearn passando como parâmetro n_components=2."
      ]
    },
    {
      "cell_type": "code",
      "execution_count": 15,
      "id": "bf89b540-550a-47cb-a4a5-502d6544d949",
      "metadata": {
        "id": "bf89b540-550a-47cb-a4a5-502d6544d949"
      },
      "outputs": [],
      "source": [
        "# Importando libs necessárias\n",
        "from sklearn.decomposition import PCA\n",
        "\n",
        "# Exemplo de redução para 10 dimensões\n",
        "#pca = PCA(n_components=10)\n",
        "#vectors_pca = pca.fit_transform(embeddings_pt)"
      ]
    },
    {
      "cell_type": "code",
      "execution_count": 16,
      "id": "gG-VUOJzHdDz",
      "metadata": {
        "id": "gG-VUOJzHdDz"
      },
      "outputs": [],
      "source": [
        "pca = PCA(n_components=2)\n",
        "vectors_pca = pca.fit_transform(embeddings_pt)\n",
        "vectors_pca_en = pca.fit_transform(emb_palavras)"
      ]
    },
    {
      "cell_type": "markdown",
      "id": "7TZ_90YZTI0G",
      "metadata": {
        "id": "7TZ_90YZTI0G"
      },
      "source": [
        "# **EXERCÍCIO**\n",
        "# **d)** Faça o \"plot\" em um plano bidimensional com os valores obtidos, se possível, comparando os resultados referentes a diferentes modelos.\n",
        "\n",
        "**Sugestão:** Utilize o código da célula abaixo como exemplo de como efetuar o plot, sendo necessário ajustar a variável que contém os vetores PCA, bem como os rótulos com as palavras selecionadas."
      ]
    },
    {
      "cell_type": "code",
      "execution_count": 17,
      "id": "359e1719-dd9b-4130-93f1-8cd2cf97e2d6",
      "metadata": {
        "id": "359e1719-dd9b-4130-93f1-8cd2cf97e2d6",
        "colab": {
          "base_uri": "https://localhost:8080/",
          "height": 468
        },
        "outputId": "a6b9a48c-f864-4b88-9a6d-996234dfdcc1"
      },
      "outputs": [
        {
          "output_type": "display_data",
          "data": {
            "text/plain": [
              "<Figure size 500x500 with 1 Axes>"
            ],
            "image/png": "[encoded data removed]"
          },
          "metadata": {}
        }
      ],
      "source": [
        "# Plotting\n",
        "import matplotlib.pyplot as plt\n",
        "\n",
        "fig, axes = plt.subplots(1, 1, figsize=(5, 5))\n",
        "axes.scatter(vectors_pca[:, 0], vectors_pca[:, 1])\n",
        "for i, p in enumerate(palavras):\n",
        "    axes.annotate(p, (vectors_pca[i, 0]+.02, vectors_pca[i, 1]+.02))\n",
        "axes.set_title('PCA Word Embeddings')\n",
        "\n",
        "axes.scatter(vectors_pca_en[:, 0], vectors_pca_en[:, 1])\n",
        "for i, w in enumerate(words):\n",
        "    axes.annotate(w, (vectors_pca_en[i, 0]+.02, vectors_pca_en[i, 1]+.02))\n",
        "axes.set_title('PCA Word Embeddings')\n",
        "plt.show()"
      ]
    },
    {
      "cell_type": "markdown",
      "id": "lrNHReUr99R7",
      "metadata": {
        "id": "lrNHReUr99R7"
      },
      "source": [
        "# Agora que você já sabe, faça um teste com outras palavras e veja como fica o plot do gráfico."
      ]
    },
    {
      "cell_type": "code",
      "execution_count": 18,
      "id": "HRxguhEy9-L5",
      "metadata": {
        "id": "HRxguhEy9-L5",
        "colab": {
          "base_uri": "https://localhost:8080/",
          "height": 468
        },
        "outputId": "def026b0-a59e-4269-a6b9-103411e993d0"
      },
      "outputs": [
        {
          "output_type": "display_data",
          "data": {
            "text/plain": [
              "<Figure size 500x500 with 1 Axes>"
            ],
            "image/png": "[encoded data removed]"
          },
          "metadata": {}
        }
      ],
      "source": [
        "# Inicie aqui definindo suas variáveis\n",
        "#TODO\n",
        "palavras_novas = [\"amor\", \"raiva\", \"vergonha\", \"medo\", \"felicidade\", \"coragem\", \"ódio\", \"indiferença\", \"tristeza\"]\n",
        "embeddings_pt_novas = np.array([modelo[palavra_nova] for palavra_nova in palavras_novas if palavra_nova in modelo])\n",
        "vectors_pca_novas = pca.fit_transform(embeddings_pt_novas)\n",
        "\n",
        "import matplotlib.pyplot as plt\n",
        "fig, axes = plt.subplots(1, 1, figsize=(5, 5))\n",
        "axes.scatter(vectors_pca_novas[:, 0], vectors_pca_novas[:, 1])\n",
        "for i, w in enumerate(palavras_novas):\n",
        "    axes.annotate(w, (vectors_pca_novas[i, 0]+.02, vectors_pca_novas[i, 1]+.02))\n",
        "axes.set_title('PCA Word Embeddings')\n",
        "plt.show()\n",
        "\n",
        "\n"
      ]
    },
    {
      "cell_type": "markdown",
      "id": "9pWy_5FVAWE9",
      "metadata": {
        "id": "9pWy_5FVAWE9"
      },
      "source": []
    },
    {
      "cell_type": "markdown",
      "id": "8f6541fd-4b2c-40f3-b52b-feb052f8154b",
      "metadata": {
        "id": "8f6541fd-4b2c-40f3-b52b-feb052f8154b"
      },
      "source": [
        "# Word2Vec algebra\n",
        "# **EXERCÍCIO**\n",
        "# **e)** Execute operações de soma e subtração com os vetores e observe os resultados obtidos.\n",
        "\n",
        "**Sugestão:** Você pode utilizar o método \"most_similar()\" do modelo, utilizando os parâmetros \"positive\" e \"negative\" para operações de soma e subtração. O parâmetro \"topn\" controla a quantidade de resultados.\n",
        "\n",
        "**Observação:** Caso prefira utilizar numpy para as operações, ao chamar o método \"most_similar()\" utilize o parâmetro \"vector\"."
      ]
    },
    {
      "cell_type": "code",
      "execution_count": 19,
      "id": "c2fdb948-7ee0-46c6-8423-1bb6c1160bf7",
      "metadata": {
        "id": "c2fdb948-7ee0-46c6-8423-1bb6c1160bf7",
        "colab": {
          "base_uri": "https://localhost:8080/",
          "height": 0
        },
        "outputId": "0416c14c-aa0b-4a37-ba2c-58fe887d0de3"
      },
      "outputs": [
        {
          "output_type": "stream",
          "name": "stdout",
          "text": [
            "A palavra mais próxima da operação rei - homem + mulher é: 'rainha'\n",
            "com similaridade 0.6602969765663147\n"
          ]
        }
      ],
      "source": [
        "# Defina as palavras\n",
        "palavra1 = 'rei'\n",
        "palavra2 = 'homem'\n",
        "palavra3 = 'mulher'\n",
        "\n",
        "# Efetue a operação algébrica usando most_similar\n",
        "# O resultado esperado é uma palavra similar a 'rainha'\n",
        "resultado = modelo.most_similar(positive=[palavra1, palavra3], negative=[palavra2], topn=1)\n",
        "\n",
        "\n",
        "# Exiba o resultado da busca por similaridade\n",
        "print(f\"A palavra mais próxima da operação {palavra1} - {palavra2} + {palavra3} é: '{resultado[0][0]}'\")\n",
        "print(f\"com similaridade {resultado[0][1]}\")"
      ]
    },
    {
      "cell_type": "markdown",
      "id": "TmIJjnrABP40",
      "metadata": {
        "id": "TmIJjnrABP40"
      },
      "source": [
        "## Espaço para testar mais operações"
      ]
    },
    {
      "cell_type": "code",
      "execution_count": 34,
      "id": "fGbaDAm-BI2N",
      "metadata": {
        "id": "fGbaDAm-BI2N",
        "colab": {
          "base_uri": "https://localhost:8080/",
          "height": 0
        },
        "outputId": "79d3227e-42a7-45d4-dc05-1ab8535777dd"
      },
      "outputs": [
        {
          "output_type": "stream",
          "name": "stdout",
          "text": [
            "A palavra mais próxima da operação professor + mulher - homem é: 'professora'\n",
            "com similaridade 0.7594516277313232\n"
          ]
        }
      ],
      "source": [
        "# Agora faça você\n",
        "\n",
        "# Defina as palavras\n",
        "palavra1 = 'professor'\n",
        "palavra2 = 'homem'\n",
        "palavra3 = 'mulher'\n",
        "\n",
        "# Efetue a operação algébrica\n",
        "resultado = modelo.most_similar(positive=[palavra1, palavra3], negative=[palavra2], topn=1)\n",
        "\n",
        "# Exiba o resultado da busca por similaridade\n",
        "print(f\"A palavra mais próxima da operação {palavra1} + {palavra3} - {palavra2} é: '{resultado[0][0]}'\")\n",
        "print(f\"com similaridade {resultado[0][1]}\")"
      ]
    },
    {
      "cell_type": "markdown",
      "id": "ca418d70-69ae-479c-b174-f61a69a834ba",
      "metadata": {
        "id": "ca418d70-69ae-479c-b174-f61a69a834ba"
      },
      "source": [
        "# Word2Vec vs BERT: Embeddings em contextos diferentes\n",
        "\n",
        "Nos modelos representativos mais complexos, como o BERT, o cáculo dos valores de embedding de uma palavra pode depender dramáticamente da aplicação na frase. Isso não é por acaso e faz total sentido, pois a semântica pode ser totalmente diferente.\n",
        "\n",
        "Por exemplo, observe a plavra 'manga' nas duas senteças abaixo:\n",
        "\n",
        "\n",
        "*   \"Sujei a manga da minha camisa.\"\n",
        "*   \"Quero comer manga com leite.\"\n"
      ]
    },
    {
      "cell_type": "markdown",
      "id": "o5WYol4iBTY2",
      "metadata": {
        "id": "o5WYol4iBTY2"
      },
      "source": [
        "## Vamos testar o quanto o modelo consegue capturar o contexto na tokenização incluindo agora o BERT.\n",
        "\n",
        "# **EXERCÍCIO**\n",
        "# **f)** Para comparar outras formas de gerar embeddings, utilize o modelo BERT de forma a gerar word embeddings a partir de frases e veja o resultado obtido.\n",
        "\n",
        "O código a seguir vai auxiliar na instanciação do modelo BERT e definição de uma função para ter acesso facilitado aos embeddings do modelo.\n"
      ]
    },
    {
      "cell_type": "code",
      "execution_count": 35,
      "id": "e02a644c-9413-407a-aa6b-d5a5079dbb76",
      "metadata": {
        "id": "e02a644c-9413-407a-aa6b-d5a5079dbb76",
        "colab": {
          "base_uri": "https://localhost:8080/",
          "height": 177,
          "referenced_widgets": [
            "a861023ee0f249099644db84652d49dd",
            "68997bb7d9f04f13bdc714b10a39c215",
            "6320c8b7aafb4afd96672347444e823b",
            "51793d7ace1f428fa4d24573e679906b",
            "15084f48403f4c0bbf2aa8eddae97a86",
            "e6bc94b9ab5b431ab092cb86fdb73b3a",
            "683372c601f04df08d7822f744171e64",
            "db1f3a3f01864bf7aaabdd65dab98aa4",
            "91e6977ee2cd429dab1f5cc5d02dbeaa",
            "01deb6804d3b45f5b1113cb5892e7857",
            "e415bead347a46628479413dc6b0601e",
            "d5bb17f4f90f4d699156231c22df38b3",
            "0f78fe0e8fd54e0493718df54171b692",
            "53beb07a4bec4dd9a8093408d5fd5d86",
            "2b7c8282fffd46cea2df1fbacfb08e33",
            "4cb6a617b1a14ce18e5be4cebf39082a",
            "87d3b83d373c41589ce18069556d67ef",
            "0b63d90d00994e8f8781f66a43f5b0b3",
            "e80f65ae060640b7ba0ce2b43ce1f38b",
            "a3b1c2295b354b12880563b5b390f957",
            "7a8208a3e1954a2984f94c2329f0939c",
            "d81c72ff4738449f8c090bcc810ca694",
            "10bb1545be61432c845b5fed55e24144",
            "b5972d480c1b47e78dbd50aa115c2659",
            "ef45b32f358d484597cb5e07d63c393e",
            "f2f49a0b317a430abd414525f01def8b",
            "dae60fc7897947dc88d523c8ba0ceef3",
            "5f830ba52c8b46efb02001a2487b0eb9",
            "09f9862acd6f4aa7b7d580b4e49307e6",
            "04686fedb8e34f5e8b05c48e61794d4a",
            "2465a710c5804571a31facc7c6e9392f",
            "ffebaf3a91284480b898051a4d068adc",
            "57eb784dd7aa45c4bee6b908e0c08905",
            "6a54f93940dc4891ac4e577c3d7f3c1e",
            "b282f59a4cef45608753908a9cb3bcee",
            "3ef8259647b24c6db4db552417e358c8",
            "ba9124c5b8ac4321b35e7cb49a9d4d34",
            "448d87ca58bf42209abd9d7cae41a923",
            "32ef23c494d44855bd568afe2ae66566",
            "8d042d1bc4534938b3e1071782bc26d8",
            "52a373bf721a446fb415a52e756815f4",
            "416e1754e6fe47b191a1e92d6c2481ab",
            "d4095c5e51824d8c8c02288f1e84104d",
            "af761f6ed362430dbaa60998ecb82c19",
            "f7b3ef9bbdb64786990b85efad9a7af6",
            "70a662e44e8348e6aba92a5d2b8e453a",
            "733440c045f54e3fbbf26f9f2a63fc79",
            "2144a2c868de48acaa29f26fcbffb390",
            "0d7c71d24cc442eaba3640ec7bf7f9d8",
            "c6935ac080274f4db8fae350a553f3e2",
            "1a75be04aced4ab0b2e9d03af688fe46",
            "ba16ea72e1994894a392201671e08a46",
            "8c6ab98986f740978b21c659c342e30e",
            "3f3ec5e99f9247aea15343c36e852f48",
            "0326e480cffa46cfb64bd4338a17f69d"
          ]
        },
        "outputId": "b53b0725-fedd-48eb-f2b5-7f3896595c62"
      },
      "outputs": [
        {
          "output_type": "display_data",
          "data": {
            "text/plain": [
              "tokenizer_config.json:   0%|          | 0.00/48.0 [00:00<?, ?B/s]"
            ],
            "application/vnd.jupyter.widget-view+json": {
              "version_major": 2,
              "version_minor": 0,
              "model_id": "a861023ee0f249099644db84652d49dd"
            }
          },
          "metadata": {}
        },
        {
          "output_type": "display_data",
          "data": {
            "text/plain": [
              "vocab.txt:   0%|          | 0.00/232k [00:00<?, ?B/s]"
            ],
            "application/vnd.jupyter.widget-view+json": {
              "version_major": 2,
              "version_minor": 0,
              "model_id": "d5bb17f4f90f4d699156231c22df38b3"
            }
          },
          "metadata": {}
        },
        {
          "output_type": "display_data",
          "data": {
            "text/plain": [
              "tokenizer.json:   0%|          | 0.00/466k [00:00<?, ?B/s]"
            ],
            "application/vnd.jupyter.widget-view+json": {
              "version_major": 2,
              "version_minor": 0,
              "model_id": "10bb1545be61432c845b5fed55e24144"
            }
          },
          "metadata": {}
        },
        {
          "output_type": "display_data",
          "data": {
            "text/plain": [
              "config.json:   0%|          | 0.00/570 [00:00<?, ?B/s]"
            ],
            "application/vnd.jupyter.widget-view+json": {
              "version_major": 2,
              "version_minor": 0,
              "model_id": "6a54f93940dc4891ac4e577c3d7f3c1e"
            }
          },
          "metadata": {}
        },
        {
          "output_type": "display_data",
          "data": {
            "text/plain": [
              "model.safetensors:   0%|          | 0.00/440M [00:00<?, ?B/s]"
            ],
            "application/vnd.jupyter.widget-view+json": {
              "version_major": 2,
              "version_minor": 0,
              "model_id": "f7b3ef9bbdb64786990b85efad9a7af6"
            }
          },
          "metadata": {}
        }
      ],
      "source": [
        "from transformers import BertTokenizer, BertModel\n",
        "from sklearn.metrics.pairwise import cosine_similarity\n",
        "\n",
        "\n",
        "tokenizer = BertTokenizer.from_pretrained('bert-base-uncased')\n",
        "model = BertModel.from_pretrained('bert-base-uncased')\n",
        "\n",
        "# Função para obter os embeddings do BERT\n",
        "def get_bert_embeddings(sentence, word):\n",
        "    inputs = tokenizer(sentence, return_tensors='pt')\n",
        "    outputs = model(**inputs)\n",
        "    last_hidden_states = outputs.last_hidden_state\n",
        "    word_tokens = tokenizer.tokenize(sentence)\n",
        "    word_index = word_tokens.index(word)\n",
        "    word_embedding = last_hidden_states[0, word_index + 1, :]\n",
        "    return word_embedding"
      ]
    },
    {
      "cell_type": "markdown",
      "id": "uynd92ZhCf0p",
      "metadata": {
        "id": "uynd92ZhCf0p"
      },
      "source": [
        "# **f)** (Detalhamento) Defina duas sentenças que contenham uma mesma palavra em ambas, porém com semântica diferente. Em seguide calcule os embeddings da mesma palavra nas duas sentenças, para finalmente comparar os resultados.\n",
        "\n",
        "**Dica:** Utilize o método definido anteriormente, passando a sentença e a palavra que você deseja obter o embedding."
      ]
    },
    {
      "cell_type": "code",
      "execution_count": 36,
      "id": "sl7fKcN2MQeq",
      "metadata": {
        "id": "sl7fKcN2MQeq",
        "colab": {
          "base_uri": "https://localhost:8080/",
          "height": 0
        },
        "outputId": "941507ac-9de7-4a95-c9cf-845e23f4af92"
      },
      "outputs": [
        {
          "output_type": "stream",
          "name": "stdout",
          "text": [
            "Embedding da sentença 1: tensor([ 3.6158e-01, -2.9539e-01, -1.2180e-01,  1.0802e-01,  1.0607e+00,\n",
            "        -5.5452e-02, -3.0078e-01,  6.5761e-01, -3.3203e-01,  1.4263e-01,\n",
            "         3.0562e-01, -3.4179e-01, -1.7706e-01,  7.2079e-02, -3.9943e-01,\n",
            "        -1.2988e-01,  1.5010e-01,  4.1948e-01,  7.8723e-01,  4.0378e-01,\n",
            "        -7.5380e-01,  2.4453e-01,  5.7831e-01,  1.1727e-01,  1.3231e-01,\n",
            "        -8.8941e-02,  3.6916e-01,  8.5080e-01, -2.1989e-01, -4.5965e-01,\n",
            "         8.4047e-01,  3.9466e-01,  7.0727e-02, -1.3801e-01, -5.5556e-02,\n",
            "        -1.0743e-01,  6.1195e-02, -5.2488e-02, -6.6579e-01,  1.0547e-01,\n",
            "         2.5179e-01, -7.7742e-01, -5.3287e-01,  4.6218e-01, -6.4655e-01,\n",
            "        -3.9227e-01, -1.3859e-01,  6.2476e-01, -2.2955e-01, -3.1915e-01,\n",
            "         1.1160e-01,  5.4550e-01,  1.6112e-01, -1.3064e-01,  8.6773e-02,\n",
            "         6.7800e-03, -5.6683e-01, -1.6163e-01, -7.1436e-02, -1.9342e-01,\n",
            "         7.2575e-01,  1.5171e-02,  4.4534e-01, -3.5704e-01,  1.4980e-01,\n",
            "        -1.6961e-01,  2.6216e-01,  1.4012e-01, -1.8411e-01, -1.7752e-01,\n",
            "        -4.8734e-02,  1.0426e+00, -5.5564e-01, -9.1475e-01, -3.2161e-01,\n",
            "         2.9614e-01, -2.4718e-01,  3.0282e-01,  1.8533e-01,  3.2462e-01,\n",
            "        -9.3092e-02, -9.0439e-01, -1.1989e-01, -5.1860e-03,  1.8984e-01,\n",
            "        -7.3259e-02, -3.0489e-01, -2.6291e-02, -3.2025e-01,  7.2299e-01,\n",
            "        -2.6831e-01, -1.8943e-02, -1.9406e-01, -2.7524e-02, -6.0095e-01,\n",
            "        -1.4659e-01,  2.1412e-01, -4.5213e-01, -7.0466e-02,  2.9824e-01,\n",
            "         6.8774e-01, -9.6088e-01,  1.8231e-02,  1.9331e-01, -2.0027e-01,\n",
            "        -3.3394e-01, -5.0916e-01, -4.1044e-01, -2.0682e-01, -7.5715e-02,\n",
            "         1.1513e-02, -1.2940e-01,  2.9665e-01, -5.4444e-01, -4.9489e-01,\n",
            "         3.2745e-01,  1.7640e-01, -6.1037e-01, -6.5653e-02, -1.2328e-01,\n",
            "        -5.2615e-02,  8.3698e-01,  4.2086e-01,  9.5536e-01,  6.1363e-01,\n",
            "        -5.1441e-02, -1.5105e-01,  5.6580e-01, -2.7990e-01, -3.1391e-01,\n",
            "        -2.2864e-01,  3.6917e-01, -2.1677e-01, -3.0480e-03,  3.6534e-01,\n",
            "        -2.4835e-01, -2.5369e-01, -1.1278e-01, -2.0775e-01, -6.4718e-02,\n",
            "         5.5903e-01,  1.0948e+00, -1.6832e-01,  1.0871e+00,  9.3607e-02,\n",
            "         1.7661e-02, -4.4058e-02, -1.6205e-01, -4.9458e-01, -4.4677e-02,\n",
            "        -3.8646e-02,  3.0835e-01, -5.1660e-02, -1.7984e-01,  1.9206e-01,\n",
            "         1.9713e-01, -2.9399e-01,  1.9924e-01, -1.1528e-01,  1.1747e-01,\n",
            "         3.7820e-01, -1.8662e-01,  3.3761e-01,  8.2295e-02, -6.0367e-01,\n",
            "        -9.2146e-01,  4.4435e-01, -1.3066e-01, -3.5142e-01, -1.1991e-01,\n",
            "        -9.0455e-01, -1.5641e-01,  8.0950e-01, -1.7812e-01,  8.3796e-01,\n",
            "         2.0884e-01, -3.9180e-01, -4.6509e-01,  2.9490e-01,  3.1561e-01,\n",
            "        -8.2316e-02,  8.8413e-01,  7.9601e-02,  8.5833e-01,  5.8823e-01,\n",
            "        -3.9186e-01,  8.7821e-01,  5.8489e-01,  7.2908e-01,  3.6171e-04,\n",
            "         1.0383e-01, -6.7536e-01, -8.3728e-02,  4.6160e-01, -2.7335e-01,\n",
            "        -3.1436e-01, -9.3602e-02,  2.4636e-02, -5.9520e-01, -5.9905e-02,\n",
            "         8.2400e-02, -1.3345e+00, -4.8073e-02, -7.0242e-02, -2.5574e-01,\n",
            "         5.4340e-01,  4.5358e-01,  4.7811e-01,  8.0625e-01, -2.2710e-01,\n",
            "        -3.3522e-01,  1.6778e-01, -2.8066e-01, -9.2599e-02, -2.4549e-01,\n",
            "         5.2891e-01, -1.1713e-01, -5.6730e-01,  1.3610e-01,  1.4437e-01,\n",
            "         6.4004e-01, -5.7297e-01,  1.7175e-01,  8.3480e-01, -1.4972e-01,\n",
            "         4.5963e-01,  1.8924e-01,  1.8572e-03, -6.6354e-02, -1.7618e-02,\n",
            "         2.3327e-01,  3.8285e-01,  4.9328e-01,  8.5713e-02,  1.4587e-01,\n",
            "        -3.2478e-01, -1.1766e+00, -3.1680e-01, -4.4679e-02,  9.4018e-01,\n",
            "        -1.0700e-01,  1.0073e-01, -2.3102e-01,  4.6997e-01,  3.6416e-01,\n",
            "         2.8266e-01, -2.1663e-02, -5.4589e-01, -2.0094e-01, -3.5558e-01,\n",
            "        -3.3760e-01, -1.2086e+00, -2.4033e-01, -2.6599e-01,  6.8061e-01,\n",
            "        -7.8022e-02,  1.6814e-01,  1.7287e-01, -4.3207e-01,  3.2711e-01,\n",
            "         4.8903e-01, -2.4406e-01, -1.2427e-01,  5.1098e-01, -2.9311e-01,\n",
            "        -5.6029e-01, -1.1559e-01,  4.0747e-02,  1.6332e-01,  3.3902e-01,\n",
            "         4.0588e-01, -1.9128e-02,  2.8965e-01,  9.7636e-01,  7.5398e-01,\n",
            "        -1.9691e-01,  1.4554e-02,  5.7325e-02,  2.9358e-01,  3.5455e-01,\n",
            "         8.9966e-02,  5.5711e-01,  1.2986e-01, -3.3706e-01, -2.7809e-01,\n",
            "        -1.7175e-01, -1.3483e-01,  1.4705e+00,  2.7010e-02, -4.4393e-01,\n",
            "        -1.0300e-01,  1.9482e-01, -3.6209e-01, -4.6792e-01,  1.5572e-01,\n",
            "         5.3365e-01,  1.0447e-01,  5.7716e-01,  4.5150e-01,  2.4316e-01,\n",
            "         3.9074e-01,  3.1503e-02,  5.4373e-01, -3.9203e-01,  2.2092e-01,\n",
            "         2.2547e-01, -1.5884e-01,  4.0938e-01, -5.4686e+00,  2.8021e-01,\n",
            "        -4.0582e-01, -2.0321e-01,  3.5653e-01, -4.4743e-01,  2.1324e-01,\n",
            "        -9.5455e-02, -7.0555e-01, -3.1314e-01, -6.9361e-01, -2.3878e-01,\n",
            "         5.1697e-01, -8.3871e-02,  3.3269e-04,  1.4066e-01, -1.1752e-01,\n",
            "         4.7462e-01,  1.4230e-01, -1.0492e-01, -2.6993e-01, -3.0577e-01,\n",
            "        -3.1696e-01,  3.2226e-01,  3.6880e-01,  1.2013e+00, -3.1716e-01,\n",
            "        -3.0211e-02, -7.4254e-02,  3.6867e-01, -3.3394e-01,  1.3227e-01,\n",
            "         3.2972e-01,  1.1028e-01,  1.7337e-02, -5.3013e-01, -4.2702e-01,\n",
            "         1.9148e-01,  3.2006e-01, -5.1981e-01,  5.1026e-02,  5.2309e-01,\n",
            "         1.7954e-01,  8.7385e-02,  6.4984e-01, -5.2892e-01, -2.0482e-01,\n",
            "         2.9455e-01,  4.6103e-02,  8.5841e-01,  4.3300e-01, -1.9481e-01,\n",
            "        -1.5204e-01, -3.3092e-02,  8.1635e-02,  2.3193e-01,  3.0961e-01,\n",
            "         5.6169e-01,  2.9553e-01, -1.5000e-01, -2.7669e-01, -3.0905e-02,\n",
            "        -1.2063e-01, -5.8243e-02, -3.8528e-01, -5.6164e-03, -1.1427e+00,\n",
            "        -7.2026e-01,  4.4468e-01,  8.8845e-02, -3.8145e-01, -1.6737e-01,\n",
            "         3.2000e-01, -1.3706e+00, -4.9153e-01, -1.0927e-01,  5.0328e-01,\n",
            "        -5.4407e-02,  8.8434e-02,  5.3219e-01,  2.7992e-01, -4.1972e-01,\n",
            "         4.1578e-01, -1.1554e-01,  1.1781e-01, -6.0702e-01, -3.1228e-01,\n",
            "        -2.8778e-01, -7.3723e-01, -1.5105e-01,  3.7044e-01,  5.6622e-01,\n",
            "         3.6838e-01, -5.6199e-01, -2.3229e-02,  5.0214e-01, -4.1220e-01,\n",
            "         1.0839e-01,  3.9294e-02, -3.2736e-01,  2.1023e-01,  5.6451e-01,\n",
            "         1.9752e-01,  4.9512e-02, -3.3488e-02,  6.5092e-02,  2.3120e-01,\n",
            "         3.9378e-02, -9.2053e-01,  8.7733e-01,  6.0108e-01, -3.0014e-01,\n",
            "         6.7113e-01, -5.7819e-01,  2.2203e-01,  3.6123e-01,  7.9352e-02,\n",
            "        -4.4040e-01,  4.9860e-02, -9.2541e-02, -2.3377e-01,  1.4517e-01,\n",
            "         3.0449e-01, -7.6594e-01, -3.1338e-01, -4.2518e-02,  5.7653e-02,\n",
            "        -8.4630e-02, -1.9784e-01, -2.2552e-02,  4.0010e-01, -3.1427e-01,\n",
            "         1.5168e-01,  4.1263e-01,  4.8316e-01,  4.8516e-01,  2.3108e-01,\n",
            "        -4.8208e-02,  1.4419e-01, -5.1602e-01,  4.3741e-01,  6.0550e-01,\n",
            "        -2.4048e-01,  3.2993e-02, -5.3970e-01, -2.3684e-01, -5.0831e-01,\n",
            "         3.9790e-01,  1.9844e-01, -3.7845e-01, -3.2851e-01, -7.2982e-02,\n",
            "         6.4578e-03,  1.7853e-01,  1.8544e-01,  9.2752e-02,  7.3372e-01,\n",
            "        -1.5200e-01, -9.3659e-01, -4.5710e-01,  4.4372e-01, -2.9854e-01,\n",
            "         7.0349e-01,  6.2671e-02, -5.5571e-01,  4.0190e-01, -4.2779e-01,\n",
            "        -4.9560e-01, -9.0435e-02,  7.7094e-01, -3.6529e-01,  1.8701e-01,\n",
            "        -5.7710e-02,  5.9341e-01, -7.4516e-02, -1.0840e-01, -5.0371e-01,\n",
            "         6.0934e-02,  2.5284e-02,  6.5040e-01,  6.9580e-02,  2.2077e-01,\n",
            "         5.3221e-02, -5.5928e-01,  3.9344e-01,  5.9004e-01, -1.9843e-02,\n",
            "         2.1309e-01, -3.5001e-01,  4.4962e-01, -1.6608e-01,  8.9357e-01,\n",
            "        -2.6378e-01, -6.8398e-02, -3.4166e-01, -8.7360e-01, -2.2256e-01,\n",
            "         6.3430e-01, -1.4141e-01, -7.5017e-02, -2.4336e-01,  6.2202e-01,\n",
            "        -4.5771e-01, -1.1563e-01,  5.1302e-02,  4.1814e-01,  2.3573e-01,\n",
            "         1.0161e-01, -3.7938e-01,  4.2603e-01, -5.3144e-01, -6.0480e-01,\n",
            "        -1.1050e+00, -3.1459e-01, -1.6928e-01, -5.9581e-01,  4.5009e-01,\n",
            "        -8.1026e-02,  1.2780e-01,  8.7653e-02, -2.2702e-01, -2.1140e-01,\n",
            "        -2.6515e-01, -2.0793e-01, -9.1555e-01,  3.8654e-01, -9.8676e-02,\n",
            "         1.5778e-01, -4.9116e-01,  5.0407e-01, -4.4234e-01, -3.1157e-01,\n",
            "         1.1980e-01, -2.5503e-01, -8.5718e-02, -1.6199e-02, -6.6011e-01,\n",
            "        -7.6918e-01,  3.9296e-01, -2.8585e-01, -6.7893e-01, -3.5246e-03,\n",
            "         7.3662e-02, -2.0744e-01, -9.6184e-02,  1.2116e-01,  2.7399e-01,\n",
            "         7.1192e-01,  1.1303e-02,  1.0223e+00,  4.2834e-01, -6.1362e-02,\n",
            "         5.5397e-02, -1.3715e-01, -3.3189e-01,  2.3526e-01, -3.8932e-02,\n",
            "        -3.1688e-01, -2.0125e-01, -4.2360e-02,  4.6018e-02, -6.2209e-01,\n",
            "        -4.9234e-01,  4.2547e-01,  9.0856e-02,  5.1917e-01, -3.6410e-01,\n",
            "        -3.1679e-01,  1.4505e-01, -4.4842e-01,  2.2345e-01, -9.7135e-01,\n",
            "        -5.6909e-02, -1.2119e-01, -1.9103e-01, -4.4496e-02, -1.4674e+00,\n",
            "        -3.4314e-01,  2.5506e-04,  1.6660e-01, -1.7655e-01,  5.3505e-01,\n",
            "         1.4348e-01, -2.7180e-01, -5.7907e-01,  1.5348e-01, -5.2692e-01,\n",
            "         2.6120e-01, -3.4122e-01, -5.6660e-01, -1.7609e-01,  3.2887e-01,\n",
            "         1.3356e-01, -3.7533e-01, -3.0040e-01, -2.6211e-02,  5.4780e-01,\n",
            "        -3.1969e-01,  3.9624e-02,  5.7568e-01, -3.1817e-01, -2.9904e-01,\n",
            "         2.3550e-01,  5.2123e-01,  6.9338e-02,  1.7336e-01, -2.2285e-01,\n",
            "        -2.1094e-01,  1.0974e-01,  2.4911e-01, -4.4726e-01, -5.5038e-01,\n",
            "         6.8320e-01,  1.8361e-01, -1.1515e+00,  3.1404e-01,  1.4347e-01,\n",
            "         5.0100e-02, -5.5926e-01,  6.4935e-02,  1.8051e-01,  2.9613e-03,\n",
            "         2.0705e-01,  2.3595e-01, -5.3968e-02,  3.1273e-01,  1.3090e-01,\n",
            "        -2.1629e-01,  4.7656e-01,  1.1718e-01,  2.0725e-01,  9.2249e-01,\n",
            "        -5.2635e-01,  1.7022e-01,  5.2534e-02, -1.6626e-01, -6.0380e-01,\n",
            "        -2.7705e-01, -3.9824e-02,  2.3130e-01,  4.4588e-01, -8.9182e-01,\n",
            "        -1.3045e-01,  1.1526e+00,  1.8975e-01, -9.4370e-02,  2.1076e-01,\n",
            "        -9.1493e-02,  5.0493e-01,  1.5584e-01,  2.4591e-01,  1.1708e-01,\n",
            "        -6.8780e-01, -4.4570e-01, -1.1019e-02,  2.6854e-01,  5.1305e-01,\n",
            "        -3.2069e-02, -5.4004e-01,  2.6331e-01, -2.9070e-02,  9.1436e-02,\n",
            "         2.6541e-01,  2.7150e-01,  1.0283e-01,  1.6131e-01, -4.5073e-01,\n",
            "        -6.7468e-01,  2.1802e-01,  4.0405e-01, -5.7995e-01, -9.3801e-01,\n",
            "         8.8196e-01,  4.2509e-01,  1.1502e-01, -3.4401e-01, -7.1648e-01,\n",
            "        -8.1838e-02,  2.8455e-01, -4.3157e-01,  4.6185e-01, -6.0304e-02,\n",
            "        -5.7387e-01, -7.4773e-01, -1.6159e-01, -1.0579e+00,  3.8108e-01,\n",
            "        -2.3077e-01, -2.7377e-01, -4.4677e-01,  3.8155e-01,  4.0888e-01,\n",
            "        -4.6964e-01,  7.0159e-01, -6.6744e-02, -3.6415e-01,  1.1527e-01,\n",
            "        -3.3526e-02,  3.0247e-01, -1.0757e-01,  3.2945e-01, -2.1290e-01,\n",
            "         1.6659e-01, -6.8737e-02,  1.5034e-01,  6.0155e-02,  6.1584e-01,\n",
            "        -5.3934e-01, -9.4999e-01,  1.5711e-01,  5.3594e-01,  2.6619e-01,\n",
            "        -2.7459e-01,  5.2007e-01, -3.6529e-01, -2.4321e-01,  3.2930e-01,\n",
            "         4.2026e-01,  6.7750e-02,  5.6521e-02, -2.8216e-02,  3.0706e-01,\n",
            "        -2.0708e-01, -3.3680e-01, -5.9541e-01, -4.7734e-01, -7.3608e-02,\n",
            "         1.2847e-01,  8.1109e-03,  1.3107e-01, -6.6231e-01, -1.9413e-01,\n",
            "        -6.5750e-04,  1.1518e+00,  4.1397e-01, -6.6517e-01,  4.2250e-01,\n",
            "        -5.9001e-02, -1.7560e-01,  6.1928e-02,  2.1802e-01, -6.5535e-02,\n",
            "         9.6463e-02,  3.0977e-01,  4.7087e-01, -3.5196e-01, -4.4570e-01,\n",
            "        -5.7896e-01, -2.2508e-01,  1.0122e-01, -6.2064e-02, -8.0534e-01,\n",
            "        -7.9581e-02,  1.0769e-02,  2.4727e-01, -7.2408e-02, -3.4491e-01,\n",
            "        -5.1424e-01,  1.9752e-01, -1.6280e-01], grad_fn=<SliceBackward0>)\n",
            "Embedding da sentença 2: tensor([-4.2083e-01, -7.0907e-01, -6.7001e-01,  1.7170e-01,  6.1464e-01,\n",
            "         1.2085e-01,  3.4966e-03,  7.5307e-01, -2.6918e-01, -7.7761e-01,\n",
            "         2.4638e-01,  1.3343e-02, -3.1695e-02,  1.1931e-01, -5.7265e-01,\n",
            "        -1.0664e+00,  2.3393e-01,  1.9697e-01,  4.9262e-01,  1.0647e-01,\n",
            "        -4.7014e-01,  4.3123e-01,  9.0150e-02, -3.8113e-01, -9.0905e-02,\n",
            "         5.7534e-01, -2.0781e-02, -1.0638e-01,  2.7955e-02,  5.6099e-01,\n",
            "         5.5019e-01,  4.0092e-01,  5.7637e-01,  8.0832e-01, -4.6132e-01,\n",
            "        -9.3198e-01, -3.1266e-01, -1.8605e-01, -7.7990e-01, -1.5994e-01,\n",
            "         1.4135e-01,  2.2468e-02,  3.9175e-01, -7.5330e-02, -2.6854e-01,\n",
            "         6.9174e-02,  3.9615e-01,  4.0560e-01, -1.3462e+00,  6.8050e-01,\n",
            "        -6.2555e-01,  5.1013e-01, -8.5362e-01, -3.9270e-02, -3.7571e-01,\n",
            "         1.0688e-02,  7.0549e-02,  1.5677e-01,  1.5832e-01, -6.4331e-01,\n",
            "         1.5595e+00,  2.5679e-01,  2.9949e-01, -4.3836e-01,  4.1379e-01,\n",
            "        -3.8569e-02,  5.7481e-01, -2.6938e-01, -9.4191e-01,  6.7219e-01,\n",
            "        -2.2119e-01,  5.6878e-01, -3.4165e-01, -1.0472e+00, -1.0089e-01,\n",
            "        -3.9802e-01, -9.8230e-02,  5.0087e-01,  1.3646e-01,  5.2380e-01,\n",
            "         8.1764e-02,  1.3751e-01,  3.8039e-01,  1.5764e-01, -4.0824e-02,\n",
            "        -6.6622e-01, -4.4108e-01, -3.1032e-01,  1.7095e-01,  8.8756e-01,\n",
            "        -7.9713e-01,  3.2970e-01, -4.4461e-01,  3.2018e-01, -3.8705e-01,\n",
            "         6.4254e-03, -5.7204e-01,  1.0114e-01,  7.3161e-01, -2.3747e-01,\n",
            "        -4.7150e-01, -1.3464e+00,  2.6747e-01,  3.8312e-01, -2.6020e-01,\n",
            "        -5.4439e-01, -6.7371e-01, -1.5577e-01, -4.8370e-01, -3.7669e-01,\n",
            "        -1.4534e-01,  5.7079e-02,  2.3985e-01, -2.2374e-01, -4.5545e-01,\n",
            "         8.9162e-02,  2.7109e-01, -5.4164e-01,  3.6618e-01, -3.8236e-01,\n",
            "         1.3160e-01,  1.7260e-01,  2.2857e-01,  7.1051e-01,  3.0587e-01,\n",
            "         2.0483e-01, -6.1864e-01, -5.0895e-01, -5.2423e-01, -1.0335e-01,\n",
            "         3.3230e-01,  9.7362e-01,  8.0231e-02, -2.2191e-03, -1.3659e-01,\n",
            "         9.3782e-02,  3.8589e-01, -3.1101e-01,  5.4448e-01, -5.2864e-01,\n",
            "         4.0401e-01,  8.8120e-01,  9.9983e-02,  7.1482e-01,  2.0239e-01,\n",
            "         3.2229e-01, -1.9045e-01, -9.5740e-01, -1.0471e+00,  1.7962e-01,\n",
            "        -3.7435e-01,  1.0952e+00,  3.1357e-01, -7.6022e-01,  7.5494e-01,\n",
            "         2.6554e-01, -4.9913e-02, -1.9884e-01, -2.7260e-02, -3.1532e-02,\n",
            "         9.4852e-01, -1.4646e-02, -5.7748e-01,  7.1649e-01, -6.7322e-01,\n",
            "        -3.9020e-01,  4.2901e-01,  9.7945e-01,  5.9254e-02, -3.5275e-01,\n",
            "        -5.2241e-01, -1.9032e-01,  7.8747e-01,  9.1991e-01, -3.8020e-01,\n",
            "         1.2421e-01, -1.5854e-01, -2.5376e-01,  2.3809e-01, -1.7845e-01,\n",
            "        -4.8856e-01, -1.3297e-01,  7.2398e-01,  2.6532e-01,  5.5662e-01,\n",
            "        -1.5755e-01,  4.7563e-01, -4.8893e-01,  7.8667e-01,  2.9583e-01,\n",
            "        -3.0388e-01, -1.2935e+00, -1.3562e-01, -3.7951e-01, -4.7538e-01,\n",
            "        -1.5672e+00,  2.0133e-01, -3.2171e-01,  4.8701e-01, -1.0534e-01,\n",
            "         2.4939e-02, -4.5396e-01,  1.1177e-03,  2.3443e-01,  5.1117e-01,\n",
            "         1.2182e+00,  4.9646e-01, -1.1879e-01,  2.3397e-01, -8.3413e-01,\n",
            "        -9.6776e-01,  6.4747e-01,  5.8827e-01,  8.7439e-01,  7.7503e-02,\n",
            "        -3.8170e-02,  1.2892e-01, -2.4635e-01, -2.0866e-01,  3.7550e-01,\n",
            "         7.7655e-01,  1.3384e-01, -1.6889e-01,  3.7707e-01, -7.8107e-01,\n",
            "         3.1167e-01, -1.8007e-01, -2.6371e-01,  6.0058e-01, -1.5208e-01,\n",
            "        -2.8772e-01,  7.3573e-02,  4.6113e-01, -1.2222e-01, -6.5489e-01,\n",
            "         5.2643e-01, -4.7720e-01,  7.1749e-02, -6.9940e-02,  3.3999e-01,\n",
            "        -6.9365e-01,  3.3747e-02,  2.9593e-01, -5.5797e-02,  3.8804e-01,\n",
            "        -9.8297e-02,  6.7648e-01, -3.1978e-01,  1.7670e-01, -4.4827e-01,\n",
            "         4.6752e-01, -3.5931e-01, -5.5523e-01, -7.0172e-01, -3.5799e-01,\n",
            "        -5.7701e-01, -1.7678e-01, -1.2499e-01,  7.6344e-01,  2.2592e-01,\n",
            "        -9.4336e-01, -4.2505e-03,  1.2838e+00, -3.6475e-01,  9.5295e-02,\n",
            "         1.3756e-01,  8.5650e-01,  5.8759e-04,  3.1252e-01, -1.6075e-02,\n",
            "         3.7362e-01,  1.6647e-01,  2.6150e-01,  9.9136e-01,  7.5121e-01,\n",
            "         2.1781e-01,  4.9012e-01,  3.1119e-01,  6.9267e-01,  1.9227e-01,\n",
            "         4.8831e-01,  2.5132e-01, -4.0170e-01,  2.2975e-01,  9.5553e-01,\n",
            "        -7.5373e-01, -4.3050e-01,  1.0159e+00,  2.4458e-01, -6.3325e-01,\n",
            "        -1.3845e-01,  6.1421e-01,  3.8118e-01,  1.2870e-01,  5.9175e-01,\n",
            "         6.6597e-01, -8.7711e-02, -8.7641e-02,  6.6893e-01,  1.5935e-01,\n",
            "        -2.2754e-01,  4.8962e-01, -1.0665e-01, -5.7455e-01,  5.3126e-01,\n",
            "         3.7420e-01,  1.4279e-01,  3.4052e-01, -4.4019e+00,  3.3301e-01,\n",
            "         2.3580e-01, -3.1598e-01,  9.1347e-01, -3.4474e-01, -9.7774e-02,\n",
            "         2.7995e-01, -1.1399e+00, -5.0422e-01,  5.8140e-02,  1.9040e-02,\n",
            "         5.0148e-01,  2.7347e-01,  3.7439e-01, -5.8679e-01, -6.3639e-02,\n",
            "        -3.8910e-01, -3.6080e-01,  8.5719e-02, -7.1333e-01, -7.0215e-01,\n",
            "         9.5896e-01,  6.7087e-03, -2.8514e-01,  8.2919e-01,  1.5463e-02,\n",
            "         4.8651e-01, -4.7298e-01, -2.3345e-01, -2.7374e-01, -5.0072e-01,\n",
            "         4.1314e-01,  2.4719e-01,  1.0233e+00,  2.2331e-01,  3.5272e-02,\n",
            "        -5.0054e-01,  9.9916e-01, -4.0828e-01,  8.8584e-01,  6.9877e-01,\n",
            "         3.6783e-01,  5.3099e-01,  4.3878e-01, -5.0999e-01, -1.8796e-01,\n",
            "         8.7191e-02,  1.4374e-01,  2.1847e-01,  4.6305e-01, -2.0600e-01,\n",
            "         8.8322e-02, -5.0280e-01, -2.6656e-01,  2.2599e-01, -1.7060e-02,\n",
            "         8.8018e-01,  2.3591e-01, -1.0974e-01, -5.3494e-01, -1.2071e-01,\n",
            "         6.5562e-02,  3.1090e-01, -4.9054e-01, -3.1653e-01, -1.6406e-01,\n",
            "        -4.8564e-01, -1.0032e-01, -4.3237e-01, -5.3489e-01,  6.4030e-02,\n",
            "        -1.6698e-01, -1.4673e+00, -7.9633e-01,  5.9141e-02,  3.5638e-01,\n",
            "        -2.6396e-01,  3.3795e-01, -7.8830e-01, -1.1123e-02,  1.2746e-01,\n",
            "         6.8988e-01,  2.4428e-01,  1.2377e-01, -5.3201e-01,  5.8908e-01,\n",
            "        -9.3269e-01, -3.3402e-01, -3.5357e-02, -2.6088e-01,  1.7953e-01,\n",
            "         9.6716e-01, -2.4655e-01,  7.6032e-01, -9.0769e-02, -3.5745e-01,\n",
            "        -4.1857e-01, -1.7393e-01,  3.2271e-01, -1.0837e-01, -1.0742e-03,\n",
            "        -2.0902e-01,  3.2517e-01,  3.7385e-01, -3.6657e-01, -5.7008e-01,\n",
            "         1.0313e-02, -4.3159e-01,  8.0844e-01,  4.4051e-01, -4.1438e-01,\n",
            "         9.4153e-01, -7.3215e-01, -4.4302e-01,  4.1632e-01,  3.8159e-01,\n",
            "        -5.6010e-01,  2.2264e-02, -1.9208e-01,  2.9359e-01,  6.1993e-01,\n",
            "        -5.4507e-01, -6.3197e-01, -4.3293e-01,  7.1776e-02,  1.7467e-01,\n",
            "        -5.5588e-01, -1.8326e-01, -2.5196e-01,  6.0157e-01,  2.4107e-01,\n",
            "        -1.9415e-01, -6.0226e-01,  1.2869e-01, -5.1770e-01,  5.3550e-02,\n",
            "        -1.7695e-02, -1.4422e-02,  7.6695e-01,  4.1000e-01, -3.2745e-01,\n",
            "        -6.0577e-01,  3.9649e-01,  5.5934e-02,  4.4261e-01, -7.0601e-01,\n",
            "         4.9070e-01,  2.2211e-01,  9.9776e-02,  6.3111e-01, -6.1021e-01,\n",
            "        -3.3184e-01,  5.4828e-01, -4.3859e-01,  3.6364e-01,  5.6842e-01,\n",
            "        -8.2208e-01, -3.3890e-01,  5.8502e-02,  8.7116e-01, -4.7758e-02,\n",
            "         1.0017e+00,  1.0443e-01, -6.7573e-01,  9.2713e-01, -3.6606e-01,\n",
            "         5.1336e-01, -9.4803e-01,  2.4317e-01,  5.7367e-01, -6.6053e-02,\n",
            "        -2.5839e-01,  8.5050e-01, -8.6458e-02,  7.8188e-01, -3.9350e-01,\n",
            "        -2.5901e-01, -1.0408e-01, -5.1984e-01,  4.0138e-01,  8.3481e-02,\n",
            "         5.0767e-01, -5.5723e-01, -2.6973e-01,  9.5800e-01, -2.9637e-01,\n",
            "         3.5127e-01,  1.7678e-01,  4.4986e-02,  1.1247e-01, -3.2776e-01,\n",
            "        -2.4059e-02, -8.5772e-02,  1.0550e-01, -5.5276e-01,  4.5887e-01,\n",
            "         4.6700e-02,  3.6661e-02,  1.6595e-01, -1.6398e+00, -3.9812e-03,\n",
            "        -6.1330e-02,  1.0382e-01,  9.0259e-03, -4.6210e-01,  4.3562e-01,\n",
            "         4.3766e-01, -6.2365e-01,  2.5102e-01, -3.8295e-02, -3.6532e-01,\n",
            "        -1.4327e+00, -1.3237e+00, -4.2069e-01,  9.3824e-01,  2.8071e-01,\n",
            "         1.0756e-01, -1.4067e-01, -5.0209e-01, -7.1070e-02, -4.1440e-01,\n",
            "         2.4961e-01, -2.4431e-01, -2.7349e-01,  3.2480e-01,  2.8303e-01,\n",
            "        -5.0424e-01,  3.2585e-01,  4.6615e-01,  1.7235e-01,  7.2907e-01,\n",
            "        -2.7631e-01, -2.0453e-01,  6.8654e-01, -2.5589e-01, -8.2856e-01,\n",
            "        -4.7378e-01, -4.3876e-01, -4.6519e-01,  2.3882e-01, -8.2301e-01,\n",
            "        -1.0064e+00,  1.0339e-01,  1.6405e-01, -2.5869e-01,  1.9106e-01,\n",
            "         5.1318e-01,  2.1190e-01,  5.4200e-01,  1.4455e-01, -1.8066e-01,\n",
            "        -5.8876e-01,  3.7453e-01, -5.7768e-01, -5.6620e-02, -2.0460e-01,\n",
            "        -4.3413e-01,  3.8364e-01,  5.8245e-01,  1.1090e-01, -9.2773e-02,\n",
            "        -7.0339e-02, -3.5331e-01, -3.7033e-01, -2.9173e-02, -4.4697e-01,\n",
            "        -5.0577e-01,  6.7341e-01,  5.7036e-01, -9.1446e-02, -5.5929e-01,\n",
            "        -2.9795e-01, -6.0690e-02, -1.9658e-01,  2.8850e-01,  3.2656e-01,\n",
            "        -1.0184e+00, -1.5474e-01, -5.7102e-01, -4.7290e-01,  5.2247e-01,\n",
            "         4.0733e-01,  9.4203e-02, -1.7753e-02, -1.3746e-01, -1.5670e-01,\n",
            "        -1.6496e-01, -7.8555e-01, -1.1170e+00,  6.4839e-02,  4.0894e-01,\n",
            "         6.0239e-01,  6.6091e-01, -1.2022e-01,  3.9747e-01, -2.7615e-01,\n",
            "         2.5541e-01, -1.0631e+00, -1.0644e-01, -2.6817e-01, -9.0506e-02,\n",
            "         8.6491e-01, -1.0379e+00,  1.3833e-01,  7.9852e-01, -2.0975e-01,\n",
            "        -2.7289e-01, -3.7902e-01,  4.5319e-01, -3.3713e-01, -4.1711e-01,\n",
            "         1.2568e-01,  7.9880e-01, -1.0484e+00,  4.9098e-01, -5.3672e-04,\n",
            "        -6.3911e-01, -9.2047e-01,  4.4272e-01, -4.0746e-02, -3.7750e-01,\n",
            "         2.9388e-01, -5.7609e-02,  2.5121e-01,  1.7235e-01, -5.1582e-03,\n",
            "         2.0528e-01,  4.1778e-01,  9.5294e-01,  2.7677e-01,  3.4327e-01,\n",
            "         1.3541e-01,  5.6725e-01,  1.6179e-01, -2.0627e-01,  7.0335e-01,\n",
            "        -4.9655e-01, -5.8043e-01, -7.7798e-01, -1.0458e-01, -6.7646e-01,\n",
            "        -2.6706e-01,  8.9151e-01, -2.4309e-01, -3.0900e-01,  3.7083e-01,\n",
            "        -1.6507e-01, -3.6664e-01,  9.6860e-01,  6.5592e-02, -3.6407e-01,\n",
            "        -5.0487e-01, -8.8258e-01,  8.6509e-02,  2.2617e-01,  4.2492e-01,\n",
            "         3.8758e-01, -9.3121e-01,  3.9862e-01,  1.9450e-01,  3.1188e-01,\n",
            "         3.1288e-01, -4.2263e-01,  7.8428e-02,  4.7363e-01, -3.6804e-01,\n",
            "        -9.2623e-01,  1.0423e-01, -3.9887e-01, -2.1540e-01,  4.4438e-01,\n",
            "         1.0095e+00,  4.2097e-01, -9.2502e-02, -1.0910e-02, -8.5590e-01,\n",
            "         6.8989e-01, -5.1623e-01, -1.0752e+00,  1.2683e-01, -3.7520e-01,\n",
            "        -3.8931e-01, -4.9969e-01,  1.3111e+00, -7.6173e-01,  8.8153e-01,\n",
            "        -7.0811e-01, -1.0414e-01, -6.4406e-01, -4.3651e-01, -2.0028e-01,\n",
            "        -4.3997e-02, -4.2218e-01,  6.2826e-01,  1.7359e-02, -9.2072e-02,\n",
            "         4.3002e-02, -4.8082e-03,  3.1241e-01,  6.8266e-01, -3.6369e-01,\n",
            "        -2.4855e-01,  7.2938e-02, -1.0471e+00,  1.1370e-01,  7.2937e-01,\n",
            "        -2.8433e-01, -4.8634e-01, -3.5418e-01,  6.3810e-01, -8.8699e-02,\n",
            "        -3.1207e-01,  1.0900e+00, -7.9213e-01, -6.3986e-01,  4.0844e-01,\n",
            "         1.2308e-01,  8.4488e-01, -5.0624e-01, -4.3885e-01, -1.7124e-01,\n",
            "        -3.5412e-01,  3.3990e-01, -5.1860e-01,  1.3333e-01, -1.2864e+00,\n",
            "        -3.6915e-01, -9.4552e-02,  1.0877e+00, -8.8474e-01,  7.1975e-01,\n",
            "         1.2368e-01,  5.8758e-01, -5.7402e-01,  4.6996e-01,  6.2194e-01,\n",
            "        -2.4757e-01,  2.0820e-01, -2.8341e-01,  3.2742e-01, -2.7263e-01,\n",
            "        -5.9264e-02, -6.9419e-01, -5.1783e-02, -2.2736e-01, -5.4100e-01,\n",
            "         2.9031e-01, -3.2556e-01, -6.3569e-01,  1.0439e+00, -5.2056e-01,\n",
            "         1.0050e-01, -1.0563e-01,  1.5935e-01,  1.5269e-01,  4.5807e-02,\n",
            "         4.0912e-01,  7.4127e-02,  2.3949e-01], grad_fn=<SliceBackward0>)\n",
            "Similaridade: [[0.4714556]]\n"
          ]
        }
      ],
      "source": [
        "# Defina suas sentenças\n",
        "sentenca1 = \"the bank has a lot of money\"\n",
        "sentenca2 = \"i am sitting on a bank\"\n",
        "\n",
        "# Defina a palavra foco\n",
        "palavra_foco = 'bank'\n",
        "\n",
        "\n",
        "# Calcule os embeddings da palavra nas duas situações\n",
        "es1 = get_bert_embeddings(sentenca1, palavra_foco)\n",
        "es2 = get_bert_embeddings(sentenca2, palavra_foco)\n",
        "\n",
        "# Imprima os embeddings calculados\n",
        "print(\"Embedding da sentença 1:\", es1)\n",
        "print(\"Embedding da sentença 2:\", es2)\n",
        "\n",
        "\n",
        "# Calcule a similaridade\n",
        "# calcular a similaridade\n",
        "similaridade = cosine_similarity(es1.reshape(1, -1).detach().numpy(), es2.reshape(1, -1).detach().numpy())\n",
        "print(\"Similaridade:\", similaridade)"
      ]
    },
    {
      "cell_type": "markdown",
      "id": "mPxwGKKaMVc0",
      "metadata": {
        "id": "mPxwGKKaMVc0"
      },
      "source": [
        "# Agora é com você:"
      ]
    },
    {
      "cell_type": "code",
      "execution_count": 37,
      "id": "ASaCTNgabCGh",
      "metadata": {
        "id": "ASaCTNgabCGh",
        "colab": {
          "base_uri": "https://localhost:8080/",
          "height": 0
        },
        "outputId": "677c5d3b-b5c9-4c15-b856-995cecfe9a38"
      },
      "outputs": [
        {
          "output_type": "stream",
          "name": "stdout",
          "text": [
            "Embedding da sentença 1: tensor([-6.5842e-01,  1.0704e-01,  4.2557e-02, -3.8536e-02,  4.1490e-01,\n",
            "        -2.9193e-01, -8.4901e-01, -4.6788e-02, -3.6319e-01, -2.5879e-01,\n",
            "         4.0341e-01, -6.3688e-01, -2.2141e-01, -1.4355e-01, -1.2470e+00,\n",
            "         4.5393e-01, -1.0847e-01, -1.5497e-01,  6.1664e-01, -2.0658e-01,\n",
            "         6.6483e-01, -3.9234e-01, -5.7527e-01,  8.1624e-01, -1.1626e-01,\n",
            "         7.9304e-01,  3.0994e-01,  4.1890e-01, -9.2607e-02, -8.2034e-01,\n",
            "         7.5526e-01, -3.9423e-02, -4.1352e-02,  6.1310e-01,  8.7798e-01,\n",
            "        -4.7774e-01,  2.9074e-01, -4.3928e-02, -3.1146e-01, -2.3784e-01,\n",
            "        -9.7747e-02, -5.6627e-01, -3.3954e-01, -2.5744e-01, -1.7701e-01,\n",
            "        -3.1386e-01,  6.2057e-02, -4.6391e-02, -3.4070e-01, -1.0230e-01,\n",
            "         7.5613e-02, -2.0419e-01,  4.4798e-01, -2.4487e-01,  2.3854e-01,\n",
            "         6.4975e-01, -5.3437e-01, -6.0001e-01,  4.8896e-02, -7.6137e-01,\n",
            "         3.8838e-01,  5.9136e-01,  4.1937e-01, -9.5430e-01,  6.0666e-01,\n",
            "        -2.8215e-01, -7.6855e-02, -4.0796e-02, -9.5164e-01, -5.5188e-02,\n",
            "         1.3788e-01, -4.2272e-03, -1.1372e+00, -1.5803e-02,  2.3993e-02,\n",
            "         1.6326e-01, -5.6357e-03, -1.6548e-01,  1.4235e-01, -9.1723e-02,\n",
            "        -3.5331e-01,  5.1962e-02,  8.6815e-02,  2.6631e-01,  2.1183e-03,\n",
            "         5.9753e-01, -3.1817e-01,  3.0758e-01, -1.8832e-02, -1.1081e-03,\n",
            "         5.3987e-01,  2.6676e-01, -1.6758e-01,  4.4499e-01,  3.3017e-01,\n",
            "        -6.5724e-01,  3.1348e-01,  2.4084e-01, -2.3237e-01,  8.4677e-01,\n",
            "         5.0728e-01, -1.5819e-01,  1.6794e-01, -4.8029e-01,  1.5288e-02,\n",
            "         8.0463e-02,  7.2854e-02,  3.9550e-01,  3.0609e-01,  1.0557e+00,\n",
            "        -1.4664e-01,  4.0346e-01, -2.6955e-01, -2.6034e-01, -1.0993e+00,\n",
            "         5.7701e-01,  3.9129e-01, -1.3854e-01, -9.5977e-03,  3.5745e-01,\n",
            "         6.0914e-01,  1.5619e-01,  9.9498e-02,  6.1801e-01,  3.8902e-01,\n",
            "        -4.6460e-02, -4.7680e-02,  5.4764e-01, -1.4341e-01,  3.0776e-01,\n",
            "         4.4682e-01,  2.5759e-01,  6.5115e-01,  4.1935e-02, -3.6361e-01,\n",
            "         3.3830e-01,  2.1288e-01, -4.0646e-01, -8.4923e-02,  2.2606e-01,\n",
            "         7.3028e-02, -4.5465e-02,  9.5683e-01,  7.7786e-01,  1.3170e-01,\n",
            "        -1.4472e-01, -3.2659e-01, -4.1968e-01, -5.8657e-01, -3.8504e-01,\n",
            "         4.0304e-01,  2.0480e-01,  3.8196e-01,  1.1953e-01, -6.8841e-01,\n",
            "        -1.7509e-01, -4.9445e-01, -6.9940e-02, -5.6211e-01,  7.5104e-03,\n",
            "        -9.7468e-02,  1.2600e-01, -1.3039e-01, -1.6397e-01, -2.2758e-01,\n",
            "         2.3080e-01,  2.8754e-01,  9.4552e-01,  2.3384e-01,  2.3252e-01,\n",
            "        -1.4161e-01,  4.5680e-01,  7.5442e-01,  6.3007e-02,  4.7037e-03,\n",
            "         1.0907e-01,  6.8618e-02, -2.1224e-01,  1.6353e-01, -4.0666e-01,\n",
            "         4.7549e-02, -7.1607e-01,  2.7406e-01,  1.7761e-01,  3.6835e-02,\n",
            "         4.8037e-01,  9.6264e-03, -8.2374e-02, -6.2784e-01, -1.0527e+00,\n",
            "         3.1254e-03,  3.6283e-01, -1.1075e+00,  6.0658e-01,  6.4965e-01,\n",
            "        -2.6943e-01,  4.4047e-01, -2.2667e-02, -1.6360e-02, -3.2263e-01,\n",
            "         4.9333e-02,  3.7238e-02, -4.8974e-03,  5.6643e-01, -2.6127e-01,\n",
            "        -1.7244e-01,  5.7628e-01,  3.2022e-01, -6.1208e-01,  2.5878e-01,\n",
            "        -2.2200e-01,  3.0604e-01,  2.9714e-01, -4.0085e-02, -3.3726e-01,\n",
            "        -6.5169e-02,  1.1980e-01,  1.4629e-01,  8.5615e-01, -2.3281e-01,\n",
            "         3.0474e-01,  4.7971e-02, -3.8205e-01,  4.0648e-01, -4.7182e-01,\n",
            "         4.3034e-01, -4.9369e-02, -1.0329e+00,  5.2066e-01,  1.0143e+00,\n",
            "        -1.0002e-01, -1.1562e+00,  1.7038e-01, -5.5701e-02, -3.0179e-01,\n",
            "        -9.5442e-02, -4.4744e-02, -1.4365e-02, -6.6934e-02, -2.0612e-01,\n",
            "         6.5096e-01,  6.6448e-01,  1.1861e-01, -1.7217e-01,  6.1397e-02,\n",
            "        -1.1323e-02,  2.0118e-01,  2.3398e-01, -4.4138e-02, -9.5481e-01,\n",
            "         1.9000e-01, -6.5642e-01,  3.4939e-01, -4.7355e-02,  1.4384e-01,\n",
            "        -6.6307e-01, -3.6896e-01,  1.1311e-01,  1.8217e-01,  4.6572e-01,\n",
            "         5.0895e-01,  7.0020e-01,  9.8315e-01,  9.1548e-03, -9.0934e-01,\n",
            "        -5.7477e-01,  1.5825e-01,  5.0835e-01, -1.0764e-01, -1.7132e-01,\n",
            "         6.5536e-01, -1.3197e-01,  2.2074e-01,  5.9769e-01,  2.2874e-02,\n",
            "        -4.5041e-01,  5.3821e-01,  4.0369e-01, -2.5472e-01, -4.8330e-01,\n",
            "         2.9223e-01,  9.6220e-01,  3.9220e-01, -1.8738e-01,  3.8708e-01,\n",
            "        -3.8306e-01,  2.9115e-01,  7.5938e-01, -1.3360e-01, -1.0392e+00,\n",
            "        -6.1354e-01,  9.4007e-02, -7.7749e-01, -4.8045e-01,  3.7111e-01,\n",
            "         8.5741e-01,  4.0692e-01, -2.4914e-02,  5.6858e-01,  1.1561e-01,\n",
            "        -1.8238e-01, -2.1167e-01,  7.6611e-01,  3.3906e-01, -1.0388e+00,\n",
            "         2.4801e-01, -5.9855e-01, -4.7250e-01, -5.2039e+00,  1.5236e-01,\n",
            "         8.5657e-02,  1.9549e-01, -1.3625e-01,  3.6173e-01, -4.7750e-01,\n",
            "        -2.1458e-01, -1.0484e-01, -3.0347e-01,  1.8539e-01, -1.0804e-01,\n",
            "         6.8977e-01, -6.3644e-01,  4.5499e-01,  4.0313e-01,  2.2703e-01,\n",
            "         2.7263e-01, -4.4211e-01, -7.3625e-02, -6.5619e-02,  1.0153e-01,\n",
            "        -6.8233e-01, -5.7665e-01,  5.3803e-01, -1.3228e-02,  4.4039e-01,\n",
            "        -5.7127e-02, -5.2871e-01, -4.5507e-01,  5.7679e-02, -2.1675e-01,\n",
            "         4.4567e-01, -5.7677e-01, -1.7340e-01,  5.6950e-02,  3.1438e-01,\n",
            "        -3.0159e-01, -3.8087e-01,  7.6946e-02, -2.2718e-01, -4.6464e-01,\n",
            "         2.0584e-01, -3.6060e-01,  1.1003e+00, -4.8928e-01, -1.0546e-01,\n",
            "         3.4915e-01,  2.4716e-01,  4.5510e-01,  3.4823e-01,  1.7044e-02,\n",
            "        -6.1412e-01, -7.2892e-01,  3.6513e-01,  5.4381e-01,  4.9923e-01,\n",
            "         6.8111e-01, -3.3712e-01,  1.5752e-01, -2.2849e-01, -2.2794e-01,\n",
            "        -1.2246e+00, -4.2498e-01,  5.2577e-01, -1.6054e-02,  3.0956e-02,\n",
            "        -1.7203e-01, -4.6647e-01,  1.3905e-01,  1.3098e-01, -7.3445e-02,\n",
            "         2.7263e-01, -8.4415e-01,  1.0706e+00, -3.3180e-02,  7.1780e-01,\n",
            "        -2.3512e-01,  5.3204e-01, -9.0606e-02,  3.4310e-01, -1.0130e+00,\n",
            "         2.4127e-02,  7.0537e-02, -8.0716e-01, -1.5455e-01, -4.7375e-01,\n",
            "         5.9136e-02, -3.1376e-01,  2.2247e-01,  8.6137e-01, -1.4329e-01,\n",
            "        -3.5571e-01,  3.3302e-01,  2.2042e-01,  7.4619e-02,  2.6365e-01,\n",
            "         2.7890e-02,  2.8900e-02, -7.5088e-01,  3.9725e-01,  6.1108e-01,\n",
            "         6.9505e-01, -4.1925e-01, -3.2649e-01,  5.4567e-01,  1.4156e-01,\n",
            "         3.0272e-02,  5.2729e-01, -4.2642e-01,  4.1211e-01, -8.6254e-01,\n",
            "         8.6493e-01, -4.7155e-01,  1.7719e-01,  3.6215e-01,  3.0913e-01,\n",
            "        -3.4980e-02, -6.4722e-01, -1.2917e-01, -5.6740e-01,  7.4854e-01,\n",
            "        -1.1109e-01, -1.2478e+00, -4.9738e-01,  2.0043e-01, -4.2298e-01,\n",
            "        -4.4686e-01, -5.6907e-01, -5.7629e-01,  5.3216e-02, -2.7630e-01,\n",
            "         4.5935e-01,  5.9011e-02, -1.9118e-01,  3.1841e-01, -3.1027e-01,\n",
            "        -1.1053e+00,  7.2877e-01, -1.8345e-01, -2.1751e-01, -2.6058e-01,\n",
            "         2.3117e-01, -4.7440e-01,  6.1892e-02, -1.8873e-01, -1.1604e-01,\n",
            "        -1.4390e-01,  6.1702e-02, -5.8083e-01, -4.2597e-01, -9.4761e-01,\n",
            "        -3.4255e-01, -3.1379e-01, -4.7124e-01,  2.1869e-01,  6.1739e-01,\n",
            "         3.1234e-01, -2.9789e-01, -1.1820e+00,  5.6093e-01, -1.6298e-01,\n",
            "         3.0264e-01,  5.5114e-01,  3.2028e-01,  4.0969e-01, -3.9422e-01,\n",
            "        -5.6434e-02, -4.4270e-01, -1.2230e-01,  1.3288e-01, -7.0874e-01,\n",
            "        -9.6742e-01,  1.1569e-01,  7.9677e-02,  5.1247e-01, -2.4843e-01,\n",
            "        -4.9447e-01, -7.3467e-01,  1.3948e-01,  3.8086e-02,  1.6317e-01,\n",
            "         5.1737e-02, -5.3920e-01, -1.9562e-01, -1.6899e-01,  1.5819e-01,\n",
            "        -2.0560e-01, -1.5519e-01,  2.3235e-01,  1.7134e-01,  2.9661e-01,\n",
            "        -4.2342e-01, -9.7842e-02,  1.1777e-02,  2.1236e-02,  1.5239e-01,\n",
            "        -3.8500e-01,  1.2044e-02,  7.5544e-03,  2.4749e-01,  2.3998e-01,\n",
            "        -3.3382e-01, -1.3919e-01,  8.1827e-02, -3.3104e-01, -2.4630e-02,\n",
            "         1.4504e-01, -6.5104e-01,  2.5351e-01, -3.7720e-01, -6.2641e-01,\n",
            "         1.7863e-01,  1.1747e-01, -4.3274e-01,  8.1615e-02, -4.6498e-02,\n",
            "        -5.6951e-01, -2.9260e-01,  1.2151e-01, -6.1358e-01, -2.9832e-01,\n",
            "         7.7798e-02, -7.9642e-02, -1.7247e-01,  5.2764e-01,  4.1031e-01,\n",
            "         1.8617e-01, -1.1753e-01, -1.3897e-01, -3.3529e-02, -6.8799e-01,\n",
            "        -2.5053e-01, -7.7448e-01, -3.1105e-01,  1.1777e+00, -1.9707e-01,\n",
            "        -5.2706e-01,  3.7221e-01, -5.5795e-02, -5.1971e-01,  4.0446e-01,\n",
            "        -4.2108e-01,  3.2213e-01, -1.0117e-01,  3.7006e-01,  2.2182e-01,\n",
            "         4.4004e-01, -3.2148e-01,  4.9969e-01,  1.1801e-02,  1.0767e-01,\n",
            "        -1.7873e-01, -5.0610e-01,  7.1884e-01, -8.7993e-01, -3.7692e-01,\n",
            "        -6.4447e-03, -1.2093e-01,  5.5209e-01, -2.6352e-01,  3.1308e-02,\n",
            "        -9.7436e-02,  4.5174e-01,  8.7670e-02,  5.7645e-02,  7.8146e-02,\n",
            "        -1.9389e-01, -6.3145e-02, -5.8068e-01, -1.8441e-01, -8.1452e-01,\n",
            "         4.9310e-01, -6.2542e-01, -3.3760e-01,  3.7631e-01, -8.4050e-01,\n",
            "        -9.3596e-01,  6.3763e-01,  9.5534e-03,  5.8934e-02,  6.9245e-01,\n",
            "         7.3410e-01, -7.4891e-02, -2.5831e-01,  3.5196e-01, -6.8780e-01,\n",
            "         3.0738e-01, -3.4783e-01, -1.6999e-01,  5.4914e-01,  7.7609e-01,\n",
            "        -2.0119e-01, -8.1621e-01,  4.4840e-01,  1.8614e-01, -4.5136e-01,\n",
            "        -1.8267e-01,  5.8785e-01,  5.2333e-01,  1.8929e-02,  2.2258e-02,\n",
            "        -4.1828e-01,  3.6130e-02, -4.4279e-01, -1.8690e-01,  3.6393e-01,\n",
            "         3.3869e-01,  6.8987e-01,  3.3343e-01, -1.4112e-01, -9.8086e-01,\n",
            "         1.1435e-01,  4.6519e-01, -1.6497e-01, -5.4414e-01,  1.9391e-01,\n",
            "         4.5137e-02,  2.0552e-01,  2.2160e-01,  1.0071e-01, -5.3378e-02,\n",
            "         3.4513e-01,  1.1308e-01, -9.0926e-01,  7.2936e-02, -3.6380e-01,\n",
            "        -2.5579e-01, -2.0631e-01, -1.3769e-01,  2.7681e-02,  5.7302e-01,\n",
            "        -1.0687e+00,  3.7857e-01, -2.1262e-01, -3.7371e-02, -5.7489e-01,\n",
            "         5.3641e-01,  8.3655e-01,  2.8640e-01,  2.4375e-01, -1.6250e-01,\n",
            "         3.1954e-01,  6.6221e-01,  3.4870e-01,  6.0632e-02, -4.4807e-01,\n",
            "        -3.4289e-01,  5.2485e-01,  4.7302e-01, -1.1835e-01,  1.1662e+00,\n",
            "         3.2896e-01, -5.8812e-01,  1.4509e-01,  9.4028e-01,  1.8547e-01,\n",
            "         1.2779e-01,  1.7185e-01,  9.7012e-01, -7.3360e-02, -1.2390e-01,\n",
            "         4.0434e-01,  1.9472e-01,  6.8119e-02,  2.6441e-01, -3.6748e-01,\n",
            "        -1.8979e-01,  7.2919e-02,  9.6045e-02, -2.4588e-01,  4.4713e-01,\n",
            "        -8.7785e-02,  6.5579e-01, -3.8558e-01,  7.5466e-01, -5.5509e-01,\n",
            "         1.9633e-01, -1.8951e-01,  7.4303e-01,  8.3932e-01, -1.3594e-01,\n",
            "         7.1591e-02, -4.7078e-01, -8.3422e-02, -5.1040e-01,  1.2254e-01,\n",
            "         9.9479e-02,  1.3010e-01,  3.2355e-02,  1.9719e-02, -1.0808e-01,\n",
            "         7.7852e-01, -3.5222e-01, -5.8735e-01, -4.6584e-01,  3.4504e-01,\n",
            "         4.6686e-02,  6.3277e-01,  1.8313e-01, -1.9701e-01, -2.3318e-01,\n",
            "        -9.6475e-03,  2.3563e-01, -2.1425e-01,  6.9008e-01, -4.3970e-01,\n",
            "        -1.8817e-01, -4.9183e-01, -1.3440e-02,  4.0434e-01,  4.3705e-01,\n",
            "        -2.7798e-02,  1.6332e-01,  1.1297e-01,  1.4418e-01,  1.9255e-01,\n",
            "        -5.0040e-01, -5.1602e-01, -3.3058e-01, -4.9496e-01,  2.5861e-01,\n",
            "         8.4811e-02,  3.7600e-01,  4.7451e-01, -1.1116e+00, -5.7106e-02,\n",
            "         4.1445e-02,  6.4117e-02, -7.2557e-01, -1.0416e-01, -1.8564e-01,\n",
            "         5.6520e-01,  6.6433e-01,  2.3602e-01,  3.4836e-01,  7.5285e-02,\n",
            "        -5.5424e-01, -5.4770e-01, -1.3214e-01,  2.7589e-01, -2.1091e-02,\n",
            "         2.6107e-01,  3.4740e-01,  1.8382e-01,  5.3135e-01, -1.4806e-01,\n",
            "        -3.0557e-01, -5.9268e-01, -1.9778e-01, -1.0994e-01, -4.4082e-01,\n",
            "         7.4136e-01, -6.5817e-01,  2.4519e-01,  2.0063e-01, -8.5629e-02,\n",
            "        -4.1215e-01, -3.3154e-01, -2.0085e-01], grad_fn=<SliceBackward0>)\n",
            "Embedding da sentença 2: tensor([ 7.9443e-01,  4.6140e-01, -2.7530e-01,  1.1436e-01,  2.2930e+00,\n",
            "        -6.3339e-01, -3.8916e-02,  1.9350e-01, -6.2772e-02, -1.0247e+00,\n",
            "         3.8802e-01, -4.5190e-01, -8.1423e-01,  4.5864e-01, -7.7886e-01,\n",
            "         1.0835e+00, -7.7724e-01,  1.8546e-01, -2.7289e-02, -1.1357e-01,\n",
            "         2.4498e-01,  8.6895e-02, -8.6472e-01,  3.6607e-01,  7.3549e-02,\n",
            "         9.8453e-01,  1.6581e-01,  8.5783e-02, -2.1404e-01,  1.9628e-01,\n",
            "        -8.3286e-02,  3.9111e-01, -2.6148e-02, -2.3654e-01,  7.2507e-01,\n",
            "        -9.0957e-01,  9.6004e-01, -3.5110e-02,  3.1473e-01,  6.6662e-01,\n",
            "        -5.8856e-01, -7.1333e-01,  3.6454e-01, -5.3057e-01,  4.6430e-01,\n",
            "        -2.0966e-02,  4.4321e-01, -3.4900e-01,  1.5803e-01,  2.6659e-01,\n",
            "        -3.2435e-02,  2.5053e-01,  8.6297e-02, -2.4818e-01,  4.2736e-01,\n",
            "         1.3257e-01,  1.8700e-01, -5.2490e-01,  4.0367e-01,  3.4256e-01,\n",
            "        -3.5798e-01,  3.7288e-01,  3.8940e-01, -7.9563e-01,  5.2456e-01,\n",
            "         2.3529e-01, -3.8844e-02,  9.2699e-01, -6.1107e-01, -3.9870e-01,\n",
            "        -5.7918e-01,  7.5043e-01, -7.1199e-01, -8.9342e-01, -2.4801e-01,\n",
            "         3.8950e-01, -1.5446e-01,  1.8230e-01, -3.1981e-01, -5.7551e-01,\n",
            "        -8.5168e-01,  1.8397e-01,  2.9096e-01,  2.5208e-01,  3.0115e-03,\n",
            "        -2.1689e-01, -4.4667e-02, -4.3135e-01,  2.7020e-01, -9.6798e-01,\n",
            "        -5.4722e-01,  3.5997e-01, -2.2026e-01,  6.2939e-01, -1.0940e-01,\n",
            "        -4.1956e-02,  9.0608e-01,  1.8265e-01, -5.0130e-01,  5.3794e-01,\n",
            "         1.2726e+00,  4.5215e-01,  6.2734e-01,  1.1160e-01, -6.1642e-01,\n",
            "         1.7984e-01,  8.1009e-03, -6.7511e-01, -3.6044e-01,  1.2900e+00,\n",
            "        -2.1467e-01, -6.1073e-01,  1.2946e-01, -3.1736e-01, -5.6923e-01,\n",
            "        -4.7279e-01,  3.6896e-01, -6.7350e-01,  1.3429e-01,  3.3885e-01,\n",
            "        -3.0914e-01, -5.2075e-01, -7.1947e-02,  1.3838e+00,  3.6684e-01,\n",
            "         4.2786e-02, -6.1740e-02, -2.1723e-02, -2.4874e-01, -2.0708e-01,\n",
            "         1.0757e+00, -1.0371e-01,  6.9502e-01, -9.4945e-01,  2.5546e-02,\n",
            "         2.3343e-01, -1.0274e-02, -1.9719e-01, -7.3344e-01,  9.2817e-01,\n",
            "         2.1976e-01, -1.6078e-01,  9.9556e-01,  6.8896e-01,  9.0586e-02,\n",
            "         3.7917e-01, -3.3946e-01,  7.9354e-01, -5.4696e-02,  2.0317e-01,\n",
            "        -5.4805e-02, -4.5317e-01, -1.0577e-02, -2.4928e-02, -4.7952e-01,\n",
            "         1.2861e-01, -5.9677e-02,  8.2789e-01,  5.4146e-01, -4.2887e-01,\n",
            "         1.3828e-01, -2.6198e-01, -4.2289e-01,  8.4887e-01, -1.3746e-01,\n",
            "         1.2818e-01, -2.2390e-02,  3.3539e-01, -3.2664e-01,  2.2208e-02,\n",
            "        -2.9624e-01,  9.2098e-01,  4.0296e-01, -9.0059e-01,  6.3185e-01,\n",
            "         2.1510e-02,  2.7502e-01, -1.0847e-03,  7.1388e-01, -2.3473e-01,\n",
            "        -3.1412e-01, -6.4843e-01,  1.6338e-01,  2.8983e-01, -6.9634e-02,\n",
            "        -5.3706e-01, -1.8769e-01, -1.6110e-01, -1.1953e+00, -2.3351e-01,\n",
            "         3.1515e-01, -5.2134e-01, -9.4488e-01, -2.5639e-01,  4.4499e-01,\n",
            "        -4.7074e-01, -2.4114e-01,  2.5225e-01, -1.1767e+00,  2.1733e-01,\n",
            "         8.4297e-01, -8.7180e-01,  8.1128e-01,  9.5913e-02, -5.9877e-01,\n",
            "        -6.8323e-01, -3.5902e-01, -1.0605e-01, -7.6392e-01, -4.8613e-01,\n",
            "        -3.5206e-01, -5.6987e-01, -2.7109e-04,  8.5669e-01, -7.0448e-01,\n",
            "         8.3387e-01, -1.7308e-01,  2.9458e-01,  5.5349e-02, -6.5241e-01,\n",
            "        -6.1478e-01, -2.0778e-01, -5.5805e-01,  2.1922e-02, -4.3967e-01,\n",
            "         1.3202e+00,  6.4088e-01,  5.9378e-01,  3.4625e-01,  1.0825e+00,\n",
            "         2.8958e-01,  8.2007e-02,  1.8177e-01,  7.4233e-01, -2.0135e-01,\n",
            "        -2.4064e-01, -3.4619e-01,  1.1177e-01, -4.2353e-01, -8.7629e-01,\n",
            "        -1.1908e-01, -8.2816e-01,  3.8780e-01,  3.1944e-01,  6.1337e-01,\n",
            "        -1.8962e-01, -4.0999e-01,  9.6940e-01,  3.1792e-01, -4.0284e-01,\n",
            "        -6.3019e-01, -1.6300e+00, -2.3491e-01, -2.4568e-01,  1.0138e+00,\n",
            "        -5.6056e-01, -1.0273e+00,  1.3383e-01, -1.0316e+00, -2.7624e-01,\n",
            "         6.9270e-01, -6.4014e-02,  5.6365e-01,  1.2897e-01, -3.7905e-03,\n",
            "        -4.1498e-01,  1.7048e-01,  3.4674e-01, -3.9604e-01,  4.5393e-01,\n",
            "         5.4305e-01,  1.7018e-01, -3.7939e-01,  1.0078e+00, -5.4629e-01,\n",
            "        -4.4759e-01,  4.8850e-01,  1.8633e-01, -5.9260e-01,  5.5755e-02,\n",
            "         5.4218e-01,  1.0481e-01, -9.0188e-01, -8.1374e-01, -7.7104e-01,\n",
            "        -8.4671e-01,  3.0499e-01,  1.0377e+00, -1.0103e+00, -9.2369e-01,\n",
            "        -3.9468e-01,  4.8527e-01,  3.8604e-01, -7.8529e-01,  8.9669e-02,\n",
            "         2.0126e-01,  2.9754e-01,  5.6227e-01,  6.3422e-01,  2.7984e-01,\n",
            "        -2.5858e-01, -5.6888e-01,  1.1546e+00,  5.4093e-01, -1.3498e+00,\n",
            "         4.4939e-02,  2.0382e-01, -1.1661e+00, -2.8975e+00,  1.0549e-01,\n",
            "         4.6556e-01, -4.9361e-01,  1.6193e-01, -4.6262e-01,  4.1710e-01,\n",
            "        -3.8119e-01, -7.3452e-01, -6.7189e-01, -9.1875e-02, -1.4506e+00,\n",
            "         1.2097e+00,  5.2226e-01,  5.3512e-01, -6.0769e-01,  5.0570e-01,\n",
            "         4.4605e-01, -4.0869e-01,  3.4922e-01,  1.5188e-01, -2.8408e-01,\n",
            "        -5.9961e-01, -4.2079e-01,  4.1476e-01,  1.0977e+00,  2.8949e-01,\n",
            "         1.3430e-02, -6.2888e-01, -8.0271e-01,  7.3030e-01, -1.6077e-02,\n",
            "        -4.0656e-01, -6.6216e-01,  4.1496e-01,  8.9974e-01, -7.4505e-01,\n",
            "        -6.0918e-01, -4.5739e-01,  4.6070e-01, -6.8390e-01,  3.9473e-02,\n",
            "         2.0276e-01, -6.9954e-01,  9.1357e-01,  6.0946e-01, -5.0731e-01,\n",
            "        -3.6839e-01, -9.8609e-01,  1.0441e-01,  2.7842e-02,  1.6008e+00,\n",
            "         1.2703e-01, -9.6277e-01,  1.8454e-02,  1.0645e+00,  3.6579e-01,\n",
            "         5.7664e-02, -2.3265e-01, -4.2371e-02, -5.3215e-01, -2.9987e-01,\n",
            "        -9.2809e-02, -2.7081e-01,  8.4938e-01, -1.6441e-01, -1.0424e+00,\n",
            "        -6.7070e-01,  3.6698e-01,  3.8719e-01, -6.4293e-01, -1.0652e+00,\n",
            "        -4.6061e-01, -1.0893e+00, -5.7234e-01,  1.6505e-01,  7.0571e-01,\n",
            "        -1.8763e-01, -4.0043e-01, -9.4411e-01,  1.9817e-01, -8.6298e-01,\n",
            "        -1.3613e-01, -3.8132e-01, -8.3409e-01, -4.9137e-01, -5.3329e-01,\n",
            "        -8.1998e-01,  2.4496e-01,  2.3927e-01,  1.0039e+00,  7.0806e-01,\n",
            "        -1.0883e-01,  2.1529e-01,  4.7158e-01,  9.0884e-01,  7.7642e-02,\n",
            "         8.1834e-01,  3.4935e-01, -4.1667e-01, -5.2904e-01, -3.0257e-01,\n",
            "         9.0973e-01, -3.6784e-01,  1.1755e+00,  8.6306e-01, -1.2002e+00,\n",
            "        -3.2883e-01, -8.7537e-02,  3.2568e-01, -9.9518e-02, -9.0342e-01,\n",
            "         9.1931e-01, -4.4471e-01, -2.1133e-02, -2.4085e-01,  1.5455e+00,\n",
            "         7.5572e-01,  3.8932e-02,  3.7199e-02, -2.0896e-01,  1.0768e+00,\n",
            "         6.6206e-03, -8.8815e-01, -6.0692e-01,  2.5239e-01, -4.2819e-01,\n",
            "        -3.4780e-01, -6.3552e-01,  3.3010e-01,  4.7794e-01,  5.5464e-02,\n",
            "        -3.3118e-01,  3.8672e-01, -7.9859e-02, -1.3750e-01, -4.7322e-01,\n",
            "        -7.1155e-01, -2.7781e-02,  1.0715e+00, -8.8131e-02,  1.3518e-01,\n",
            "         1.7751e-01, -5.9300e-01, -3.1333e-01,  4.7734e-01,  1.1846e-01,\n",
            "        -3.8091e-01, -1.7605e-01, -3.1256e-03, -8.2802e-01, -1.2084e+00,\n",
            "        -1.6192e-01, -6.0866e-01, -3.6274e-01, -3.1584e-01,  4.5922e-01,\n",
            "         3.2919e-01, -2.8430e-01, -9.8441e-01, -2.8665e-01, -1.5133e-01,\n",
            "         9.9590e-01,  7.0809e-01,  1.0793e-01,  9.9527e-01, -4.2240e-03,\n",
            "         6.7693e-02,  3.2723e-01,  4.8499e-01, -4.4643e-01, -7.0997e-01,\n",
            "        -2.0464e-01,  1.3729e-01, -3.5412e-01,  8.3501e-01, -2.8621e-01,\n",
            "        -9.4921e-02, -1.4277e+00,  3.8707e-01,  1.8372e-01, -7.6412e-02,\n",
            "        -6.6277e-01,  7.2759e-02,  8.9618e-01, -8.3512e-01, -3.5374e-01,\n",
            "        -9.6074e-01,  3.7761e-01, -3.3467e-01, -1.3486e-02,  3.1572e-02,\n",
            "        -1.1674e+00, -1.2168e+00, -6.3321e-01, -9.6040e-01, -7.0230e-01,\n",
            "        -1.3973e-01, -2.3757e-01, -1.7297e-01,  1.3302e-02, -2.5619e-01,\n",
            "        -4.8401e-01, -1.1211e-01, -3.6940e-01,  5.0488e-03,  1.0428e+00,\n",
            "         4.4613e-02, -6.1258e-01,  7.0628e-01, -2.3314e-01, -7.7724e-01,\n",
            "         9.2699e-02, -6.9176e-01,  3.4103e-01,  8.1083e-01,  7.4245e-01,\n",
            "        -4.0536e-01,  1.8035e-01,  7.1328e-02, -4.3231e-01, -4.4925e-01,\n",
            "         7.4351e-01,  8.9273e-01, -6.4557e-01, -9.2354e-01, -1.3953e-01,\n",
            "         3.5943e-01, -2.7211e-01,  5.2744e-01, -3.1294e-01, -5.1442e-01,\n",
            "         7.6971e-02,  7.4011e-02, -3.1806e-01,  1.9102e-01, -5.8933e-01,\n",
            "        -2.8597e-01,  7.5508e-02,  1.2396e-01,  6.7174e-01, -3.4097e-01,\n",
            "         7.3078e-02,  1.4294e-01,  1.2226e-01,  1.8046e-01,  1.0696e-01,\n",
            "         6.3361e-01,  9.1209e-02,  5.9629e-01,  2.9866e-01, -1.2014e+00,\n",
            "        -6.2934e-02, -5.4575e-01,  1.2235e+00, -9.2019e-01,  2.7190e-03,\n",
            "         7.2896e-01,  4.1486e-01,  4.9104e-01, -3.5959e-01,  1.0963e-01,\n",
            "        -6.4462e-01,  1.3347e+00, -1.3565e-01, -2.1176e-01, -2.3790e-02,\n",
            "         3.4168e-01,  1.5444e-01, -2.1353e-01,  5.7159e-03, -6.0869e-01,\n",
            "         3.7893e-01, -1.3088e+00, -3.1820e-01,  3.8188e-01,  1.0367e-01,\n",
            "        -7.7098e-01,  1.1563e+00, -6.0371e-01, -4.7566e-01,  4.8861e-01,\n",
            "         2.8691e-01, -5.8056e-01, -3.2042e-01,  4.8654e-01, -4.8931e-01,\n",
            "        -4.5905e-02, -6.8861e-02,  4.2093e-01,  2.0819e-02,  5.3426e-01,\n",
            "         8.6322e-01, -4.2865e-01,  7.8619e-01,  1.1440e+00,  5.3136e-01,\n",
            "         4.5692e-01,  6.1584e-01, -3.4568e-01,  5.0253e-02,  3.4100e-01,\n",
            "         1.4540e-02,  6.2966e-01, -3.4119e-01,  3.1310e-01, -2.2830e-01,\n",
            "        -2.8320e-01,  3.9911e-01,  6.9320e-01, -3.9316e-01, -4.6114e-01,\n",
            "         8.3581e-01,  9.0318e-01, -5.3091e-01,  9.6570e-01,  1.2488e+00,\n",
            "        -4.1138e-01, -2.5122e-01,  7.1092e-01,  4.2006e-01,  5.9111e-01,\n",
            "         1.3614e+00, -2.7142e-01, -6.8228e-01,  4.2974e-01, -1.2160e+00,\n",
            "        -1.5427e-01,  4.1970e-01, -4.8616e-01, -5.2418e-01,  5.4462e-01,\n",
            "        -1.5584e+00,  4.9917e-01, -2.6280e-01, -4.5424e-01,  2.2702e-01,\n",
            "         1.0812e+00,  8.6548e-01, -4.8194e-01,  6.6883e-01,  8.8285e-01,\n",
            "         5.0814e-01, -7.7682e-02,  7.9990e-01,  2.6437e-01, -8.9313e-02,\n",
            "        -6.7800e-01,  7.1320e-01, -2.5030e-01,  3.0126e-01,  2.7658e-02,\n",
            "         3.8456e-01, -1.3815e+00,  8.0784e-01,  3.5036e-01,  5.8419e-01,\n",
            "        -5.8241e-01,  4.2817e-01,  4.2899e-01,  4.8180e-01,  2.3344e-01,\n",
            "         2.8835e-01, -2.7422e-02, -3.1218e-01, -7.9708e-02,  4.4427e-01,\n",
            "        -2.1336e-01, -5.8254e-01,  1.9718e-01,  3.8688e-01, -3.2315e-01,\n",
            "         7.1843e-01,  4.4180e-01, -4.1748e-01,  3.0120e-01, -5.3669e-01,\n",
            "         5.0169e-03,  5.7315e-02,  1.1883e+00,  8.4125e-01, -4.4250e-01,\n",
            "        -1.0387e+00, -3.0288e-01,  4.8858e-01, -1.4041e-01,  3.0870e-01,\n",
            "         2.7681e-01, -1.7583e-01,  5.0076e-01,  3.4161e-01, -5.4904e-01,\n",
            "         7.3391e-01, -9.8682e-02, -1.0367e+00, -1.0041e+00,  1.0234e+00,\n",
            "         5.5113e-01,  7.2519e-01, -4.6738e-01, -1.5750e-01, -2.4223e-01,\n",
            "         9.4384e-02, -5.1387e-02, -3.8621e-01,  6.5084e-02, -6.5897e-01,\n",
            "        -4.2866e-01,  2.8574e-01, -1.9928e-01, -3.9767e-01,  3.2279e-01,\n",
            "        -3.8618e-01,  2.3433e-01,  5.5763e-02, -4.6869e-01,  5.9223e-01,\n",
            "        -5.1378e-01,  8.0158e-02, -2.4069e-02,  1.6714e-01,  3.9543e-02,\n",
            "         3.9482e-01,  5.1294e-01, -9.7115e-02, -1.0374e+00,  5.6105e-02,\n",
            "         1.8767e-02,  8.4083e-01, -2.1100e-01,  3.9736e-01, -1.1578e+00,\n",
            "        -5.0409e-01,  6.7541e-01,  3.7133e-02, -7.8474e-01, -5.7427e-01,\n",
            "        -2.4955e-01,  1.7725e-01, -1.2351e+00, -4.9246e-02,  5.8817e-01,\n",
            "        -2.4422e-02,  5.9835e-01,  5.5254e-01, -1.3962e-01,  1.1954e-02,\n",
            "        -6.0925e-01, -1.4812e-01, -3.5655e-01, -1.8499e-01, -6.5387e-01,\n",
            "         2.1587e-02,  1.4871e-01,  1.5647e-01,  2.2176e-01,  8.2355e-01,\n",
            "        -5.5450e-02, -4.7654e-01, -4.4727e-01], grad_fn=<SliceBackward0>)\n",
            "Similaridade: [[0.4595164]]\n"
          ]
        }
      ],
      "source": [
        "# Defina suas sentenças\n",
        "sentenca1 = \"This bag is very light, I can carry it easily\"\n",
        "sentenca2 = \"Could you turn on the light, please?\"\n",
        "\n",
        "# Defina a palavra foco\n",
        "palavra_foco = 'light'\n",
        "\n",
        "\n",
        "# Calcule os embeddings da palavra nas duas situações\n",
        "es1 = get_bert_embeddings(sentenca1, palavra_foco)\n",
        "es2 = get_bert_embeddings(sentenca2, palavra_foco)\n",
        "\n",
        "# Imprima os embeddings calculados\n",
        "print(\"Embedding da sentença 1:\", es1)\n",
        "print(\"Embedding da sentença 2:\", es2)\n",
        "\n",
        "\n",
        "# Calcule a similaridade\n",
        "# calcular a similaridade\n",
        "similaridade = cosine_similarity(es1.reshape(1, -1).detach().numpy(), es2.reshape(1, -1).detach().numpy())\n",
        "print(\"Similaridade:\", similaridade)"
      ]
    },
    {
      "cell_type": "markdown",
      "id": "Df_scnycMzNf",
      "metadata": {
        "id": "Df_scnycMzNf"
      },
      "source": [
        "# Explicação da linha de similaridade\n",
        "\n",
        "O trecho de código `cosine_similarity(es1.reshape(1, -1).detach().numpy(), es2.reshape(1, -1).detach().numpy())` calcula a **similaridade de cosseno** entre os embeddings `es1` e `es2`.\n",
        "\n",
        "\n",
        "*   **`es1` e `es2`**: São os embeddings da palavra foco nas duas sentenças, obtidos do modelo BERT. Eles são tensores do PyTorch.\n",
        "*   **`.detach()`**: Este método desanexa o tensor do gráfico de computação atual, o que significa que não calcularemos gradientes para este tensor. Isso é útil quando você não precisa de backpropagation, como neste caso, onde estamos apenas comparando embeddings.\n",
        "*   **`.numpy()`**: Converte o tensor PyTorch para um array NumPy. A função `cosine_similarity` do sklearn espera arrays NumPy como entrada.\n",
        "*   **`.reshape(1, -1)`**: Redimensiona o array NumPy. O `reshape(1, -1)` transforma o array em um array 2D com 1 linha e tantas colunas quanto forem necessárias (-1). Isso é necessário porque a função `cosine_similarity` do sklearn espera uma entrada 2D (mesmo que você esteja comparando apenas um par de vetores).\n",
        "*   **`cosine_similarity(...)`**: Esta função do módulo `sklearn.metrics.pairwise` calcula a similaridade de cosseno entre dois vetores ou matrizes de vetores. A **similaridade de cosseno** mede o ângulo entre dois vetores. Um valor de 1 indica que os vetores são idênticos em direção (mesmo que a magnitude seja diferente), 0 indica que são ortogonais (não relacionados), e -1 indica que são completamente opostos.\n",
        "\n",
        "Em resumo, o código está obtendo os embeddings BERT para a palavra foco em duas sentenças diferentes, convertendo-os para um formato compatível com a biblioteca scikit-learn e, em seguida, calculando a similaridade de cosseno para ver quão semelhantes são esses embeddings. Um valor de similaridade de cosseno próximo a 1 indica que os embeddings são muito parecidos, sugerindo que a palavra tem um significado semelhante em ambos os contextos. Um valor próximo a 0 ou negativo sugere que a palavra tem significados diferentes."
      ]
    }
  ],
  "metadata": {
    "colab": {
      "gpuType": "T4",
      "provenance": []
    },
    "kernelspec": {
      "display_name": "Python 3",
      "name": "python3"
    },
    "language_info": {
      "codemirror_mode": {
        "name": "ipython",
        "version": 3
      },
      "file_extension": ".py",
      "mimetype": "text/x-python",
      "name": "python",
      "nbconvert_exporter": "python",
      "pygments_lexer": "ipython3",
      "version": "3.11.9"
    },
    "widgets": {
      "application/vnd.jupyter.widget-state+json": {
        "a861023ee0f249099644db84652d49dd": {
          "model_module": "@jupyter-widgets/controls",
          "model_name": "HBoxModel",
          "model_module_version": "1.5.0",
          "state": {
            "_dom_classes": [],
            "_model_module": "@jupyter-widgets/controls",
            "_model_module_version": "1.5.0",
            "_model_name": "HBoxModel",
            "_view_count": null,
            "_view_module": "@jupyter-widgets/controls",
            "_view_module_version": "1.5.0",
            "_view_name": "HBoxView",
            "box_style": "",
            "children": [
              "IPY_MODEL_68997bb7d9f04f13bdc714b10a39c215",
              "IPY_MODEL_6320c8b7aafb4afd96672347444e823b",
              "IPY_MODEL_51793d7ace1f428fa4d24573e679906b"
            ],
            "layout": "IPY_MODEL_15084f48403f4c0bbf2aa8eddae97a86"
          }
        },
        "68997bb7d9f04f13bdc714b10a39c215": {
          "model_module": "@jupyter-widgets/controls",
          "model_name": "HTMLModel",
          "model_module_version": "1.5.0",
          "state": {
            "_dom_classes": [],
            "_model_module": "@jupyter-widgets/controls",
            "_model_module_version": "1.5.0",
            "_model_name": "HTMLModel",
            "_view_count": null,
            "_view_module": "@jupyter-widgets/controls",
            "_view_module_version": "1.5.0",
            "_view_name": "HTMLView",
            "description": "",
            "description_tooltip": null,
            "layout": "IPY_MODEL_e6bc94b9ab5b431ab092cb86fdb73b3a",
            "placeholder": "​",
            "style": "IPY_MODEL_683372c601f04df08d7822f744171e64",
            "value": "tokenizer_config.json: 100%"
          }
        },
        "6320c8b7aafb4afd96672347444e823b": {
          "model_module": "@jupyter-widgets/controls",
          "model_name": "FloatProgressModel",
          "model_module_version": "1.5.0",
          "state": {
            "_dom_classes": [],
            "_model_module": "@jupyter-widgets/controls",
            "_model_module_version": "1.5.0",
            "_model_name": "FloatProgressModel",
            "_view_count": null,
            "_view_module": "@jupyter-widgets/controls",
            "_view_module_version": "1.5.0",
            "_view_name": "ProgressView",
            "bar_style": "success",
            "description": "",
            "description_tooltip": null,
            "layout": "IPY_MODEL_db1f3a3f01864bf7aaabdd65dab98aa4",
            "max": 48,
            "min": 0,
            "orientation": "horizontal",
            "style": "IPY_MODEL_91e6977ee2cd429dab1f5cc5d02dbeaa",
            "value": 48
          }
        },
        "51793d7ace1f428fa4d24573e679906b": {
          "model_module": "@jupyter-widgets/controls",
          "model_name": "HTMLModel",
          "model_module_version": "1.5.0",
          "state": {
            "_dom_classes": [],
            "_model_module": "@jupyter-widgets/controls",
            "_model_module_version": "1.5.0",
            "_model_name": "HTMLModel",
            "_view_count": null,
            "_view_module": "@jupyter-widgets/controls",
            "_view_module_version": "1.5.0",
            "_view_name": "HTMLView",
            "description": "",
            "description_tooltip": null,
            "layout": "IPY_MODEL_01deb6804d3b45f5b1113cb5892e7857",
            "placeholder": "​",
            "style": "IPY_MODEL_e415bead347a46628479413dc6b0601e",
            "value": " 48.0/48.0 [00:00&lt;00:00, 3.53kB/s]"
          }
        },
        "15084f48403f4c0bbf2aa8eddae97a86": {
          "model_module": "@jupyter-widgets/base",
          "model_name": "LayoutModel",
          "model_module_version": "1.2.0",
          "state": {
            "_model_module": "@jupyter-widgets/base",
            "_model_module_version": "1.2.0",
            "_model_name": "LayoutModel",
            "_view_count": null,
            "_view_module": "@jupyter-widgets/base",
            "_view_module_version": "1.2.0",
            "_view_name": "LayoutView",
            "align_content": null,
            "align_items": null,
            "align_self": null,
            "border": null,
            "bottom": null,
            "display": null,
            "flex": null,
            "flex_flow": null,
            "grid_area": null,
            "grid_auto_columns": null,
            "grid_auto_flow": null,
            "grid_auto_rows": null,
            "grid_column": null,
            "grid_gap": null,
            "grid_row": null,
            "grid_template_areas": null,
            "grid_template_columns": null,
            "grid_template_rows": null,
            "height": null,
            "justify_content": null,
            "justify_items": null,
            "left": null,
            "margin": null,
            "max_height": null,
            "max_width": null,
            "min_height": null,
            "min_width": null,
            "object_fit": null,
            "object_position": null,
            "order": null,
            "overflow": null,
            "overflow_x": null,
            "overflow_y": null,
            "padding": null,
            "right": null,
            "top": null,
            "visibility": null,
            "width": null
          }
        },
        "e6bc94b9ab5b431ab092cb86fdb73b3a": {
          "model_module": "@jupyter-widgets/base",
          "model_name": "LayoutModel",
          "model_module_version": "1.2.0",
          "state": {
            "_model_module": "@jupyter-widgets/base",
            "_model_module_version": "1.2.0",
            "_model_name": "LayoutModel",
            "_view_count": null,
            "_view_module": "@jupyter-widgets/base",
            "_view_module_version": "1.2.0",
            "_view_name": "LayoutView",
            "align_content": null,
            "align_items": null,
            "align_self": null,
            "border": null,
            "bottom": null,
            "display": null,
            "flex": null,
            "flex_flow": null,
            "grid_area": null,
            "grid_auto_columns": null,
            "grid_auto_flow": null,
            "grid_auto_rows": null,
            "grid_column": null,
            "grid_gap": null,
            "grid_row": null,
            "grid_template_areas": null,
            "grid_template_columns": null,
            "grid_template_rows": null,
            "height": null,
            "justify_content": null,
            "justify_items": null,
            "left": null,
            "margin": null,
            "max_height": null,
            "max_width": null,
            "min_height": null,
            "min_width": null,
            "object_fit": null,
            "object_position": null,
            "order": null,
            "overflow": null,
            "overflow_x": null,
            "overflow_y": null,
            "padding": null,
            "right": null,
            "top": null,
            "visibility": null,
            "width": null
          }
        },
        "683372c601f04df08d7822f744171e64": {
          "model_module": "@jupyter-widgets/controls",
          "model_name": "DescriptionStyleModel",
          "model_module_version": "1.5.0",
          "state": {
            "_model_module": "@jupyter-widgets/controls",
            "_model_module_version": "1.5.0",
            "_model_name": "DescriptionStyleModel",
            "_view_count": null,
            "_view_module": "@jupyter-widgets/base",
            "_view_module_version": "1.2.0",
            "_view_name": "StyleView",
            "description_width": ""
          }
        },
        "db1f3a3f01864bf7aaabdd65dab98aa4": {
          "model_module": "@jupyter-widgets/base",
          "model_name": "LayoutModel",
          "model_module_version": "1.2.0",
          "state": {
            "_model_module": "@jupyter-widgets/base",
            "_model_module_version": "1.2.0",
            "_model_name": "LayoutModel",
            "_view_count": null,
            "_view_module": "@jupyter-widgets/base",
            "_view_module_version": "1.2.0",
            "_view_name": "LayoutView",
            "align_content": null,
            "align_items": null,
            "align_self": null,
            "border": null,
            "bottom": null,
            "display": null,
            "flex": null,
            "flex_flow": null,
            "grid_area": null,
            "grid_auto_columns": null,
            "grid_auto_flow": null,
            "grid_auto_rows": null,
            "grid_column": null,
            "grid_gap": null,
            "grid_row": null,
            "grid_template_areas": null,
            "grid_template_columns": null,
            "grid_template_rows": null,
            "height": null,
            "justify_content": null,
            "justify_items": null,
            "left": null,
            "margin": null,
            "max_height": null,
            "max_width": null,
            "min_height": null,
            "min_width": null,
            "object_fit": null,
            "object_position": null,
            "order": null,
            "overflow": null,
            "overflow_x": null,
            "overflow_y": null,
            "padding": null,
            "right": null,
            "top": null,
            "visibility": null,
            "width": null
          }
        },
        "91e6977ee2cd429dab1f5cc5d02dbeaa": {
          "model_module": "@jupyter-widgets/controls",
          "model_name": "ProgressStyleModel",
          "model_module_version": "1.5.0",
          "state": {
            "_model_module": "@jupyter-widgets/controls",
            "_model_module_version": "1.5.0",
            "_model_name": "ProgressStyleModel",
            "_view_count": null,
            "_view_module": "@jupyter-widgets/base",
            "_view_module_version": "1.2.0",
            "_view_name": "StyleView",
            "bar_color": null,
            "description_width": ""
          }
        },
        "01deb6804d3b45f5b1113cb5892e7857": {
          "model_module": "@jupyter-widgets/base",
          "model_name": "LayoutModel",
          "model_module_version": "1.2.0",
          "state": {
            "_model_module": "@jupyter-widgets/base",
            "_model_module_version": "1.2.0",
            "_model_name": "LayoutModel",
            "_view_count": null,
            "_view_module": "@jupyter-widgets/base",
            "_view_module_version": "1.2.0",
            "_view_name": "LayoutView",
            "align_content": null,
            "align_items": null,
            "align_self": null,
            "border": null,
            "bottom": null,
            "display": null,
            "flex": null,
            "flex_flow": null,
            "grid_area": null,
            "grid_auto_columns": null,
            "grid_auto_flow": null,
            "grid_auto_rows": null,
            "grid_column": null,
            "grid_gap": null,
            "grid_row": null,
            "grid_template_areas": null,
            "grid_template_columns": null,
            "grid_template_rows": null,
            "height": null,
            "justify_content": null,
            "justify_items": null,
            "left": null,
            "margin": null,
            "max_height": null,
            "max_width": null,
            "min_height": null,
            "min_width": null,
            "object_fit": null,
            "object_position": null,
            "order": null,
            "overflow": null,
            "overflow_x": null,
            "overflow_y": null,
            "padding": null,
            "right": null,
            "top": null,
            "visibility": null,
            "width": null
          }
        },
        "e415bead347a46628479413dc6b0601e": {
          "model_module": "@jupyter-widgets/controls",
          "model_name": "DescriptionStyleModel",
          "model_module_version": "1.5.0",
          "state": {
            "_model_module": "@jupyter-widgets/controls",
            "_model_module_version": "1.5.0",
            "_model_name": "DescriptionStyleModel",
            "_view_count": null,
            "_view_module": "@jupyter-widgets/base",
            "_view_module_version": "1.2.0",
            "_view_name": "StyleView",
            "description_width": ""
          }
        },
        "d5bb17f4f90f4d699156231c22df38b3": {
          "model_module": "@jupyter-widgets/controls",
          "model_name": "HBoxModel",
          "model_module_version": "1.5.0",
          "state": {
            "_dom_classes": [],
            "_model_module": "@jupyter-widgets/controls",
            "_model_module_version": "1.5.0",
            "_model_name": "HBoxModel",
            "_view_count": null,
            "_view_module": "@jupyter-widgets/controls",
            "_view_module_version": "1.5.0",
            "_view_name": "HBoxView",
            "box_style": "",
            "children": [
              "IPY_MODEL_0f78fe0e8fd54e0493718df54171b692",
              "IPY_MODEL_53beb07a4bec4dd9a8093408d5fd5d86",
              "IPY_MODEL_2b7c8282fffd46cea2df1fbacfb08e33"
            ],
            "layout": "IPY_MODEL_4cb6a617b1a14ce18e5be4cebf39082a"
          }
        },
        "0f78fe0e8fd54e0493718df54171b692": {
          "model_module": "@jupyter-widgets/controls",
          "model_name": "HTMLModel",
          "model_module_version": "1.5.0",
          "state": {
            "_dom_classes": [],
            "_model_module": "@jupyter-widgets/controls",
            "_model_module_version": "1.5.0",
            "_model_name": "HTMLModel",
            "_view_count": null,
            "_view_module": "@jupyter-widgets/controls",
            "_view_module_version": "1.5.0",
            "_view_name": "HTMLView",
            "description": "",
            "description_tooltip": null,
            "layout": "IPY_MODEL_87d3b83d373c41589ce18069556d67ef",
            "placeholder": "​",
            "style": "IPY_MODEL_0b63d90d00994e8f8781f66a43f5b0b3",
            "value": "vocab.txt: 100%"
          }
        },
        "53beb07a4bec4dd9a8093408d5fd5d86": {
          "model_module": "@jupyter-widgets/controls",
          "model_name": "FloatProgressModel",
          "model_module_version": "1.5.0",
          "state": {
            "_dom_classes": [],
            "_model_module": "@jupyter-widgets/controls",
            "_model_module_version": "1.5.0",
            "_model_name": "FloatProgressModel",
            "_view_count": null,
            "_view_module": "@jupyter-widgets/controls",
            "_view_module_version": "1.5.0",
            "_view_name": "ProgressView",
            "bar_style": "success",
            "description": "",
            "description_tooltip": null,
            "layout": "IPY_MODEL_e80f65ae060640b7ba0ce2b43ce1f38b",
            "max": 231508,
            "min": 0,
            "orientation": "horizontal",
            "style": "IPY_MODEL_a3b1c2295b354b12880563b5b390f957",
            "value": 231508
          }
        },
        "2b7c8282fffd46cea2df1fbacfb08e33": {
          "model_module": "@jupyter-widgets/controls",
          "model_name": "HTMLModel",
          "model_module_version": "1.5.0",
          "state": {
            "_dom_classes": [],
            "_model_module": "@jupyter-widgets/controls",
            "_model_module_version": "1.5.0",
            "_model_name": "HTMLModel",
            "_view_count": null,
            "_view_module": "@jupyter-widgets/controls",
            "_view_module_version": "1.5.0",
            "_view_name": "HTMLView",
            "description": "",
            "description_tooltip": null,
            "layout": "IPY_MODEL_7a8208a3e1954a2984f94c2329f0939c",
            "placeholder": "​",
            "style": "IPY_MODEL_d81c72ff4738449f8c090bcc810ca694",
            "value": " 232k/232k [00:00&lt;00:00, 3.59MB/s]"
          }
        },
        "4cb6a617b1a14ce18e5be4cebf39082a": {
          "model_module": "@jupyter-widgets/base",
          "model_name": "LayoutModel",
          "model_module_version": "1.2.0",
          "state": {
            "_model_module": "@jupyter-widgets/base",
            "_model_module_version": "1.2.0",
            "_model_name": "LayoutModel",
            "_view_count": null,
            "_view_module": "@jupyter-widgets/base",
            "_view_module_version": "1.2.0",
            "_view_name": "LayoutView",
            "align_content": null,
            "align_items": null,
            "align_self": null,
            "border": null,
            "bottom": null,
            "display": null,
            "flex": null,
            "flex_flow": null,
            "grid_area": null,
            "grid_auto_columns": null,
            "grid_auto_flow": null,
            "grid_auto_rows": null,
            "grid_column": null,
            "grid_gap": null,
            "grid_row": null,
            "grid_template_areas": null,
            "grid_template_columns": null,
            "grid_template_rows": null,
            "height": null,
            "justify_content": null,
            "justify_items": null,
            "left": null,
            "margin": null,
            "max_height": null,
            "max_width": null,
            "min_height": null,
            "min_width": null,
            "object_fit": null,
            "object_position": null,
            "order": null,
            "overflow": null,
            "overflow_x": null,
            "overflow_y": null,
            "padding": null,
            "right": null,
            "top": null,
            "visibility": null,
            "width": null
          }
        },
        "87d3b83d373c41589ce18069556d67ef": {
          "model_module": "@jupyter-widgets/base",
          "model_name": "LayoutModel",
          "model_module_version": "1.2.0",
          "state": {
            "_model_module": "@jupyter-widgets/base",
            "_model_module_version": "1.2.0",
            "_model_name": "LayoutModel",
            "_view_count": null,
            "_view_module": "@jupyter-widgets/base",
            "_view_module_version": "1.2.0",
            "_view_name": "LayoutView",
            "align_content": null,
            "align_items": null,
            "align_self": null,
            "border": null,
            "bottom": null,
            "display": null,
            "flex": null,
            "flex_flow": null,
            "grid_area": null,
            "grid_auto_columns": null,
            "grid_auto_flow": null,
            "grid_auto_rows": null,
            "grid_column": null,
            "grid_gap": null,
            "grid_row": null,
            "grid_template_areas": null,
            "grid_template_columns": null,
            "grid_template_rows": null,
            "height": null,
            "justify_content": null,
            "justify_items": null,
            "left": null,
            "margin": null,
            "max_height": null,
            "max_width": null,
            "min_height": null,
            "min_width": null,
            "object_fit": null,
            "object_position": null,
            "order": null,
            "overflow": null,
            "overflow_x": null,
            "overflow_y": null,
            "padding": null,
            "right": null,
            "top": null,
            "visibility": null,
            "width": null
          }
        },
        "0b63d90d00994e8f8781f66a43f5b0b3": {
          "model_module": "@jupyter-widgets/controls",
          "model_name": "DescriptionStyleModel",
          "model_module_version": "1.5.0",
          "state": {
            "_model_module": "@jupyter-widgets/controls",
            "_model_module_version": "1.5.0",
            "_model_name": "DescriptionStyleModel",
            "_view_count": null,
            "_view_module": "@jupyter-widgets/base",
            "_view_module_version": "1.2.0",
            "_view_name": "StyleView",
            "description_width": ""
          }
        },
        "e80f65ae060640b7ba0ce2b43ce1f38b": {
          "model_module": "@jupyter-widgets/base",
          "model_name": "LayoutModel",
          "model_module_version": "1.2.0",
          "state": {
            "_model_module": "@jupyter-widgets/base",
            "_model_module_version": "1.2.0",
            "_model_name": "LayoutModel",
            "_view_count": null,
            "_view_module": "@jupyter-widgets/base",
            "_view_module_version": "1.2.0",
            "_view_name": "LayoutView",
            "align_content": null,
            "align_items": null,
            "align_self": null,
            "border": null,
            "bottom": null,
            "display": null,
            "flex": null,
            "flex_flow": null,
            "grid_area": null,
            "grid_auto_columns": null,
            "grid_auto_flow": null,
            "grid_auto_rows": null,
            "grid_column": null,
            "grid_gap": null,
            "grid_row": null,
            "grid_template_areas": null,
            "grid_template_columns": null,
            "grid_template_rows": null,
            "height": null,
            "justify_content": null,
            "justify_items": null,
            "left": null,
            "margin": null,
            "max_height": null,
            "max_width": null,
            "min_height": null,
            "min_width": null,
            "object_fit": null,
            "object_position": null,
            "order": null,
            "overflow": null,
            "overflow_x": null,
            "overflow_y": null,
            "padding": null,
            "right": null,
            "top": null,
            "visibility": null,
            "width": null
          }
        },
        "a3b1c2295b354b12880563b5b390f957": {
          "model_module": "@jupyter-widgets/controls",
          "model_name": "ProgressStyleModel",
          "model_module_version": "1.5.0",
          "state": {
            "_model_module": "@jupyter-widgets/controls",
            "_model_module_version": "1.5.0",
            "_model_name": "ProgressStyleModel",
            "_view_count": null,
            "_view_module": "@jupyter-widgets/base",
            "_view_module_version": "1.2.0",
            "_view_name": "StyleView",
            "bar_color": null,
            "description_width": ""
          }
        },
        "7a8208a3e1954a2984f94c2329f0939c": {
          "model_module": "@jupyter-widgets/base",
          "model_name": "LayoutModel",
          "model_module_version": "1.2.0",
          "state": {
            "_model_module": "@jupyter-widgets/base",
            "_model_module_version": "1.2.0",
            "_model_name": "LayoutModel",
            "_view_count": null,
            "_view_module": "@jupyter-widgets/base",
            "_view_module_version": "1.2.0",
            "_view_name": "LayoutView",
            "align_content": null,
            "align_items": null,
            "align_self": null,
            "border": null,
            "bottom": null,
            "display": null,
            "flex": null,
            "flex_flow": null,
            "grid_area": null,
            "grid_auto_columns": null,
            "grid_auto_flow": null,
            "grid_auto_rows": null,
            "grid_column": null,
            "grid_gap": null,
            "grid_row": null,
            "grid_template_areas": null,
            "grid_template_columns": null,
            "grid_template_rows": null,
            "height": null,
            "justify_content": null,
            "justify_items": null,
            "left": null,
            "margin": null,
            "max_height": null,
            "max_width": null,
            "min_height": null,
            "min_width": null,
            "object_fit": null,
            "object_position": null,
            "order": null,
            "overflow": null,
            "overflow_x": null,
            "overflow_y": null,
            "padding": null,
            "right": null,
            "top": null,
            "visibility": null,
            "width": null
          }
        },
        "d81c72ff4738449f8c090bcc810ca694": {
          "model_module": "@jupyter-widgets/controls",
          "model_name": "DescriptionStyleModel",
          "model_module_version": "1.5.0",
          "state": {
            "_model_module": "@jupyter-widgets/controls",
            "_model_module_version": "1.5.0",
            "_model_name": "DescriptionStyleModel",
            "_view_count": null,
            "_view_module": "@jupyter-widgets/base",
            "_view_module_version": "1.2.0",
            "_view_name": "StyleView",
            "description_width": ""
          }
        },
        "10bb1545be61432c845b5fed55e24144": {
          "model_module": "@jupyter-widgets/controls",
          "model_name": "HBoxModel",
          "model_module_version": "1.5.0",
          "state": {
            "_dom_classes": [],
            "_model_module": "@jupyter-widgets/controls",
            "_model_module_version": "1.5.0",
            "_model_name": "HBoxModel",
            "_view_count": null,
            "_view_module": "@jupyter-widgets/controls",
            "_view_module_version": "1.5.0",
            "_view_name": "HBoxView",
            "box_style": "",
            "children": [
              "IPY_MODEL_b5972d480c1b47e78dbd50aa115c2659",
              "IPY_MODEL_ef45b32f358d484597cb5e07d63c393e",
              "IPY_MODEL_f2f49a0b317a430abd414525f01def8b"
            ],
            "layout": "IPY_MODEL_dae60fc7897947dc88d523c8ba0ceef3"
          }
        },
        "b5972d480c1b47e78dbd50aa115c2659": {
          "model_module": "@jupyter-widgets/controls",
          "model_name": "HTMLModel",
          "model_module_version": "1.5.0",
          "state": {
            "_dom_classes": [],
            "_model_module": "@jupyter-widgets/controls",
            "_model_module_version": "1.5.0",
            "_model_name": "HTMLModel",
            "_view_count": null,
            "_view_module": "@jupyter-widgets/controls",
            "_view_module_version": "1.5.0",
            "_view_name": "HTMLView",
            "description": "",
            "description_tooltip": null,
            "layout": "IPY_MODEL_5f830ba52c8b46efb02001a2487b0eb9",
            "placeholder": "​",
            "style": "IPY_MODEL_09f9862acd6f4aa7b7d580b4e49307e6",
            "value": "tokenizer.json: 100%"
          }
        },
        "ef45b32f358d484597cb5e07d63c393e": {
          "model_module": "@jupyter-widgets/controls",
          "model_name": "FloatProgressModel",
          "model_module_version": "1.5.0",
          "state": {
            "_dom_classes": [],
            "_model_module": "@jupyter-widgets/controls",
            "_model_module_version": "1.5.0",
            "_model_name": "FloatProgressModel",
            "_view_count": null,
            "_view_module": "@jupyter-widgets/controls",
            "_view_module_version": "1.5.0",
            "_view_name": "ProgressView",
            "bar_style": "success",
            "description": "",
            "description_tooltip": null,
            "layout": "IPY_MODEL_04686fedb8e34f5e8b05c48e61794d4a",
            "max": 466062,
            "min": 0,
            "orientation": "horizontal",
            "style": "IPY_MODEL_2465a710c5804571a31facc7c6e9392f",
            "value": 466062
          }
        },
        "f2f49a0b317a430abd414525f01def8b": {
          "model_module": "@jupyter-widgets/controls",
          "model_name": "HTMLModel",
          "model_module_version": "1.5.0",
          "state": {
            "_dom_classes": [],
            "_model_module": "@jupyter-widgets/controls",
            "_model_module_version": "1.5.0",
            "_model_name": "HTMLModel",
            "_view_count": null,
            "_view_module": "@jupyter-widgets/controls",
            "_view_module_version": "1.5.0",
            "_view_name": "HTMLView",
            "description": "",
            "description_tooltip": null,
            "layout": "IPY_MODEL_ffebaf3a91284480b898051a4d068adc",
            "placeholder": "​",
            "style": "IPY_MODEL_57eb784dd7aa45c4bee6b908e0c08905",
            "value": " 466k/466k [00:00&lt;00:00, 6.54MB/s]"
          }
        },
        "dae60fc7897947dc88d523c8ba0ceef3": {
          "model_module": "@jupyter-widgets/base",
          "model_name": "LayoutModel",
          "model_module_version": "1.2.0",
          "state": {
            "_model_module": "@jupyter-widgets/base",
            "_model_module_version": "1.2.0",
            "_model_name": "LayoutModel",
            "_view_count": null,
            "_view_module": "@jupyter-widgets/base",
            "_view_module_version": "1.2.0",
            "_view_name": "LayoutView",
            "align_content": null,
            "align_items": null,
            "align_self": null,
            "border": null,
            "bottom": null,
            "display": null,
            "flex": null,
            "flex_flow": null,
            "grid_area": null,
            "grid_auto_columns": null,
            "grid_auto_flow": null,
            "grid_auto_rows": null,
            "grid_column": null,
            "grid_gap": null,
            "grid_row": null,
            "grid_template_areas": null,
            "grid_template_columns": null,
            "grid_template_rows": null,
            "height": null,
            "justify_content": null,
            "justify_items": null,
            "left": null,
            "margin": null,
            "max_height": null,
            "max_width": null,
            "min_height": null,
            "min_width": null,
            "object_fit": null,
            "object_position": null,
            "order": null,
            "overflow": null,
            "overflow_x": null,
            "overflow_y": null,
            "padding": null,
            "right": null,
            "top": null,
            "visibility": null,
            "width": null
          }
        },
        "5f830ba52c8b46efb02001a2487b0eb9": {
          "model_module": "@jupyter-widgets/base",
          "model_name": "LayoutModel",
          "model_module_version": "1.2.0",
          "state": {
            "_model_module": "@jupyter-widgets/base",
            "_model_module_version": "1.2.0",
            "_model_name": "LayoutModel",
            "_view_count": null,
            "_view_module": "@jupyter-widgets/base",
            "_view_module_version": "1.2.0",
            "_view_name": "LayoutView",
            "align_content": null,
            "align_items": null,
            "align_self": null,
            "border": null,
            "bottom": null,
            "display": null,
            "flex": null,
            "flex_flow": null,
            "grid_area": null,
            "grid_auto_columns": null,
            "grid_auto_flow": null,
            "grid_auto_rows": null,
            "grid_column": null,
            "grid_gap": null,
            "grid_row": null,
            "grid_template_areas": null,
            "grid_template_columns": null,
            "grid_template_rows": null,
            "height": null,
            "justify_content": null,
            "justify_items": null,
            "left": null,
            "margin": null,
            "max_height": null,
            "max_width": null,
            "min_height": null,
            "min_width": null,
            "object_fit": null,
            "object_position": null,
            "order": null,
            "overflow": null,
            "overflow_x": null,
            "overflow_y": null,
            "padding": null,
            "right": null,
            "top": null,
            "visibility": null,
            "width": null
          }
        },
        "09f9862acd6f4aa7b7d580b4e49307e6": {
          "model_module": "@jupyter-widgets/controls",
          "model_name": "DescriptionStyleModel",
          "model_module_version": "1.5.0",
          "state": {
            "_model_module": "@jupyter-widgets/controls",
            "_model_module_version": "1.5.0",
            "_model_name": "DescriptionStyleModel",
            "_view_count": null,
            "_view_module": "@jupyter-widgets/base",
            "_view_module_version": "1.2.0",
            "_view_name": "StyleView",
            "description_width": ""
          }
        },
        "04686fedb8e34f5e8b05c48e61794d4a": {
          "model_module": "@jupyter-widgets/base",
          "model_name": "LayoutModel",
          "model_module_version": "1.2.0",
          "state": {
            "_model_module": "@jupyter-widgets/base",
            "_model_module_version": "1.2.0",
            "_model_name": "LayoutModel",
            "_view_count": null,
            "_view_module": "@jupyter-widgets/base",
            "_view_module_version": "1.2.0",
            "_view_name": "LayoutView",
            "align_content": null,
            "align_items": null,
            "align_self": null,
            "border": null,
            "bottom": null,
            "display": null,
            "flex": null,
            "flex_flow": null,
            "grid_area": null,
            "grid_auto_columns": null,
            "grid_auto_flow": null,
            "grid_auto_rows": null,
            "grid_column": null,
            "grid_gap": null,
            "grid_row": null,
            "grid_template_areas": null,
            "grid_template_columns": null,
            "grid_template_rows": null,
            "height": null,
            "justify_content": null,
            "justify_items": null,
            "left": null,
            "margin": null,
            "max_height": null,
            "max_width": null,
            "min_height": null,
            "min_width": null,
            "object_fit": null,
            "object_position": null,
            "order": null,
            "overflow": null,
            "overflow_x": null,
            "overflow_y": null,
            "padding": null,
            "right": null,
            "top": null,
            "visibility": null,
            "width": null
          }
        },
        "2465a710c5804571a31facc7c6e9392f": {
          "model_module": "@jupyter-widgets/controls",
          "model_name": "ProgressStyleModel",
          "model_module_version": "1.5.0",
          "state": {
            "_model_module": "@jupyter-widgets/controls",
            "_model_module_version": "1.5.0",
            "_model_name": "ProgressStyleModel",
            "_view_count": null,
            "_view_module": "@jupyter-widgets/base",
            "_view_module_version": "1.2.0",
            "_view_name": "StyleView",
            "bar_color": null,
            "description_width": ""
          }
        },
        "ffebaf3a91284480b898051a4d068adc": {
          "model_module": "@jupyter-widgets/base",
          "model_name": "LayoutModel",
          "model_module_version": "1.2.0",
          "state": {
            "_model_module": "@jupyter-widgets/base",
            "_model_module_version": "1.2.0",
            "_model_name": "LayoutModel",
            "_view_count": null,
            "_view_module": "@jupyter-widgets/base",
            "_view_module_version": "1.2.0",
            "_view_name": "LayoutView",
            "align_content": null,
            "align_items": null,
            "align_self": null,
            "border": null,
            "bottom": null,
            "display": null,
            "flex": null,
            "flex_flow": null,
            "grid_area": null,
            "grid_auto_columns": null,
            "grid_auto_flow": null,
            "grid_auto_rows": null,
            "grid_column": null,
            "grid_gap": null,
            "grid_row": null,
            "grid_template_areas": null,
            "grid_template_columns": null,
            "grid_template_rows": null,
            "height": null,
            "justify_content": null,
            "justify_items": null,
            "left": null,
            "margin": null,
            "max_height": null,
            "max_width": null,
            "min_height": null,
            "min_width": null,
            "object_fit": null,
            "object_position": null,
            "order": null,
            "overflow": null,
            "overflow_x": null,
            "overflow_y": null,
            "padding": null,
            "right": null,
            "top": null,
            "visibility": null,
            "width": null
          }
        },
        "57eb784dd7aa45c4bee6b908e0c08905": {
          "model_module": "@jupyter-widgets/controls",
          "model_name": "DescriptionStyleModel",
          "model_module_version": "1.5.0",
          "state": {
            "_model_module": "@jupyter-widgets/controls",
            "_model_module_version": "1.5.0",
            "_model_name": "DescriptionStyleModel",
            "_view_count": null,
            "_view_module": "@jupyter-widgets/base",
            "_view_module_version": "1.2.0",
            "_view_name": "StyleView",
            "description_width": ""
          }
        },
        "6a54f93940dc4891ac4e577c3d7f3c1e": {
          "model_module": "@jupyter-widgets/controls",
          "model_name": "HBoxModel",
          "model_module_version": "1.5.0",
          "state": {
            "_dom_classes": [],
            "_model_module": "@jupyter-widgets/controls",
            "_model_module_version": "1.5.0",
            "_model_name": "HBoxModel",
            "_view_count": null,
            "_view_module": "@jupyter-widgets/controls",
            "_view_module_version": "1.5.0",
            "_view_name": "HBoxView",
            "box_style": "",
            "children": [
              "IPY_MODEL_b282f59a4cef45608753908a9cb3bcee",
              "IPY_MODEL_3ef8259647b24c6db4db552417e358c8",
              "IPY_MODEL_ba9124c5b8ac4321b35e7cb49a9d4d34"
            ],
            "layout": "IPY_MODEL_448d87ca58bf42209abd9d7cae41a923"
          }
        },
        "b282f59a4cef45608753908a9cb3bcee": {
          "model_module": "@jupyter-widgets/controls",
          "model_name": "HTMLModel",
          "model_module_version": "1.5.0",
          "state": {
            "_dom_classes": [],
            "_model_module": "@jupyter-widgets/controls",
            "_model_module_version": "1.5.0",
            "_model_name": "HTMLModel",
            "_view_count": null,
            "_view_module": "@jupyter-widgets/controls",
            "_view_module_version": "1.5.0",
            "_view_name": "HTMLView",
            "description": "",
            "description_tooltip": null,
            "layout": "IPY_MODEL_32ef23c494d44855bd568afe2ae66566",
            "placeholder": "​",
            "style": "IPY_MODEL_8d042d1bc4534938b3e1071782bc26d8",
            "value": "config.json: 100%"
          }
        },
        "3ef8259647b24c6db4db552417e358c8": {
          "model_module": "@jupyter-widgets/controls",
          "model_name": "FloatProgressModel",
          "model_module_version": "1.5.0",
          "state": {
            "_dom_classes": [],
            "_model_module": "@jupyter-widgets/controls",
            "_model_module_version": "1.5.0",
            "_model_name": "FloatProgressModel",
            "_view_count": null,
            "_view_module": "@jupyter-widgets/controls",
            "_view_module_version": "1.5.0",
            "_view_name": "ProgressView",
            "bar_style": "success",
            "description": "",
            "description_tooltip": null,
            "layout": "IPY_MODEL_52a373bf721a446fb415a52e756815f4",
            "max": 570,
            "min": 0,
            "orientation": "horizontal",
            "style": "IPY_MODEL_416e1754e6fe47b191a1e92d6c2481ab",
            "value": 570
          }
        },
        "ba9124c5b8ac4321b35e7cb49a9d4d34": {
          "model_module": "@jupyter-widgets/controls",
          "model_name": "HTMLModel",
          "model_module_version": "1.5.0",
          "state": {
            "_dom_classes": [],
            "_model_module": "@jupyter-widgets/controls",
            "_model_module_version": "1.5.0",
            "_model_name": "HTMLModel",
            "_view_count": null,
            "_view_module": "@jupyter-widgets/controls",
            "_view_module_version": "1.5.0",
            "_view_name": "HTMLView",
            "description": "",
            "description_tooltip": null,
            "layout": "IPY_MODEL_d4095c5e51824d8c8c02288f1e84104d",
            "placeholder": "​",
            "style": "IPY_MODEL_af761f6ed362430dbaa60998ecb82c19",
            "value": " 570/570 [00:00&lt;00:00, 35.9kB/s]"
          }
        },
        "448d87ca58bf42209abd9d7cae41a923": {
          "model_module": "@jupyter-widgets/base",
          "model_name": "LayoutModel",
          "model_module_version": "1.2.0",
          "state": {
            "_model_module": "@jupyter-widgets/base",
            "_model_module_version": "1.2.0",
            "_model_name": "LayoutModel",
            "_view_count": null,
            "_view_module": "@jupyter-widgets/base",
            "_view_module_version": "1.2.0",
            "_view_name": "LayoutView",
            "align_content": null,
            "align_items": null,
            "align_self": null,
            "border": null,
            "bottom": null,
            "display": null,
            "flex": null,
            "flex_flow": null,
            "grid_area": null,
            "grid_auto_columns": null,
            "grid_auto_flow": null,
            "grid_auto_rows": null,
            "grid_column": null,
            "grid_gap": null,
            "grid_row": null,
            "grid_template_areas": null,
            "grid_template_columns": null,
            "grid_template_rows": null,
            "height": null,
            "justify_content": null,
            "justify_items": null,
            "left": null,
            "margin": null,
            "max_height": null,
            "max_width": null,
            "min_height": null,
            "min_width": null,
            "object_fit": null,
            "object_position": null,
            "order": null,
            "overflow": null,
            "overflow_x": null,
            "overflow_y": null,
            "padding": null,
            "right": null,
            "top": null,
            "visibility": null,
            "width": null
          }
        },
        "32ef23c494d44855bd568afe2ae66566": {
          "model_module": "@jupyter-widgets/base",
          "model_name": "LayoutModel",
          "model_module_version": "1.2.0",
          "state": {
            "_model_module": "@jupyter-widgets/base",
            "_model_module_version": "1.2.0",
            "_model_name": "LayoutModel",
            "_view_count": null,
            "_view_module": "@jupyter-widgets/base",
            "_view_module_version": "1.2.0",
            "_view_name": "LayoutView",
            "align_content": null,
            "align_items": null,
            "align_self": null,
            "border": null,
            "bottom": null,
            "display": null,
            "flex": null,
            "flex_flow": null,
            "grid_area": null,
            "grid_auto_columns": null,
            "grid_auto_flow": null,
            "grid_auto_rows": null,
            "grid_column": null,
            "grid_gap": null,
            "grid_row": null,
            "grid_template_areas": null,
            "grid_template_columns": null,
            "grid_template_rows": null,
            "height": null,
            "justify_content": null,
            "justify_items": null,
            "left": null,
            "margin": null,
            "max_height": null,
            "max_width": null,
            "min_height": null,
            "min_width": null,
            "object_fit": null,
            "object_position": null,
            "order": null,
            "overflow": null,
            "overflow_x": null,
            "overflow_y": null,
            "padding": null,
            "right": null,
            "top": null,
            "visibility": null,
            "width": null
          }
        },
        "8d042d1bc4534938b3e1071782bc26d8": {
          "model_module": "@jupyter-widgets/controls",
          "model_name": "DescriptionStyleModel",
          "model_module_version": "1.5.0",
          "state": {
            "_model_module": "@jupyter-widgets/controls",
            "_model_module_version": "1.5.0",
            "_model_name": "DescriptionStyleModel",
            "_view_count": null,
            "_view_module": "@jupyter-widgets/base",
            "_view_module_version": "1.2.0",
            "_view_name": "StyleView",
            "description_width": ""
          }
        },
        "52a373bf721a446fb415a52e756815f4": {
          "model_module": "@jupyter-widgets/base",
          "model_name": "LayoutModel",
          "model_module_version": "1.2.0",
          "state": {
            "_model_module": "@jupyter-widgets/base",
            "_model_module_version": "1.2.0",
            "_model_name": "LayoutModel",
            "_view_count": null,
            "_view_module": "@jupyter-widgets/base",
            "_view_module_version": "1.2.0",
            "_view_name": "LayoutView",
            "align_content": null,
            "align_items": null,
            "align_self": null,
            "border": null,
            "bottom": null,
            "display": null,
            "flex": null,
            "flex_flow": null,
            "grid_area": null,
            "grid_auto_columns": null,
            "grid_auto_flow": null,
            "grid_auto_rows": null,
            "grid_column": null,
            "grid_gap": null,
            "grid_row": null,
            "grid_template_areas": null,
            "grid_template_columns": null,
            "grid_template_rows": null,
            "height": null,
            "justify_content": null,
            "justify_items": null,
            "left": null,
            "margin": null,
            "max_height": null,
            "max_width": null,
            "min_height": null,
            "min_width": null,
            "object_fit": null,
            "object_position": null,
            "order": null,
            "overflow": null,
            "overflow_x": null,
            "overflow_y": null,
            "padding": null,
            "right": null,
            "top": null,
            "visibility": null,
            "width": null
          }
        },
        "416e1754e6fe47b191a1e92d6c2481ab": {
          "model_module": "@jupyter-widgets/controls",
          "model_name": "ProgressStyleModel",
          "model_module_version": "1.5.0",
          "state": {
            "_model_module": "@jupyter-widgets/controls",
            "_model_module_version": "1.5.0",
            "_model_name": "ProgressStyleModel",
            "_view_count": null,
            "_view_module": "@jupyter-widgets/base",
            "_view_module_version": "1.2.0",
            "_view_name": "StyleView",
            "bar_color": null,
            "description_width": ""
          }
        },
        "d4095c5e51824d8c8c02288f1e84104d": {
          "model_module": "@jupyter-widgets/base",
          "model_name": "LayoutModel",
          "model_module_version": "1.2.0",
          "state": {
            "_model_module": "@jupyter-widgets/base",
            "_model_module_version": "1.2.0",
            "_model_name": "LayoutModel",
            "_view_count": null,
            "_view_module": "@jupyter-widgets/base",
            "_view_module_version": "1.2.0",
            "_view_name": "LayoutView",
            "align_content": null,
            "align_items": null,
            "align_self": null,
            "border": null,
            "bottom": null,
            "display": null,
            "flex": null,
            "flex_flow": null,
            "grid_area": null,
            "grid_auto_columns": null,
            "grid_auto_flow": null,
            "grid_auto_rows": null,
            "grid_column": null,
            "grid_gap": null,
            "grid_row": null,
            "grid_template_areas": null,
            "grid_template_columns": null,
            "grid_template_rows": null,
            "height": null,
            "justify_content": null,
            "justify_items": null,
            "left": null,
            "margin": null,
            "max_height": null,
            "max_width": null,
            "min_height": null,
            "min_width": null,
            "object_fit": null,
            "object_position": null,
            "order": null,
            "overflow": null,
            "overflow_x": null,
            "overflow_y": null,
            "padding": null,
            "right": null,
            "top": null,
            "visibility": null,
            "width": null
          }
        },
        "af761f6ed362430dbaa60998ecb82c19": {
          "model_module": "@jupyter-widgets/controls",
          "model_name": "DescriptionStyleModel",
          "model_module_version": "1.5.0",
          "state": {
            "_model_module": "@jupyter-widgets/controls",
            "_model_module_version": "1.5.0",
            "_model_name": "DescriptionStyleModel",
            "_view_count": null,
            "_view_module": "@jupyter-widgets/base",
            "_view_module_version": "1.2.0",
            "_view_name": "StyleView",
            "description_width": ""
          }
        },
        "f7b3ef9bbdb64786990b85efad9a7af6": {
          "model_module": "@jupyter-widgets/controls",
          "model_name": "HBoxModel",
          "model_module_version": "1.5.0",
          "state": {
            "_dom_classes": [],
            "_model_module": "@jupyter-widgets/controls",
            "_model_module_version": "1.5.0",
            "_model_name": "HBoxModel",
            "_view_count": null,
            "_view_module": "@jupyter-widgets/controls",
            "_view_module_version": "1.5.0",
            "_view_name": "HBoxView",
            "box_style": "",
            "children": [
              "IPY_MODEL_70a662e44e8348e6aba92a5d2b8e453a",
              "IPY_MODEL_733440c045f54e3fbbf26f9f2a63fc79",
              "IPY_MODEL_2144a2c868de48acaa29f26fcbffb390"
            ],
            "layout": "IPY_MODEL_0d7c71d24cc442eaba3640ec7bf7f9d8"
          }
        },
        "70a662e44e8348e6aba92a5d2b8e453a": {
          "model_module": "@jupyter-widgets/controls",
          "model_name": "HTMLModel",
          "model_module_version": "1.5.0",
          "state": {
            "_dom_classes": [],
            "_model_module": "@jupyter-widgets/controls",
            "_model_module_version": "1.5.0",
            "_model_name": "HTMLModel",
            "_view_count": null,
            "_view_module": "@jupyter-widgets/controls",
            "_view_module_version": "1.5.0",
            "_view_name": "HTMLView",
            "description": "",
            "description_tooltip": null,
            "layout": "IPY_MODEL_c6935ac080274f4db8fae350a553f3e2",
            "placeholder": "​",
            "style": "IPY_MODEL_1a75be04aced4ab0b2e9d03af688fe46",
            "value": "model.safetensors: 100%"
          }
        },
        "733440c045f54e3fbbf26f9f2a63fc79": {
          "model_module": "@jupyter-widgets/controls",
          "model_name": "FloatProgressModel",
          "model_module_version": "1.5.0",
          "state": {
            "_dom_classes": [],
            "_model_module": "@jupyter-widgets/controls",
            "_model_module_version": "1.5.0",
            "_model_name": "FloatProgressModel",
            "_view_count": null,
            "_view_module": "@jupyter-widgets/controls",
            "_view_module_version": "1.5.0",
            "_view_name": "ProgressView",
            "bar_style": "success",
            "description": "",
            "description_tooltip": null,
            "layout": "IPY_MODEL_ba16ea72e1994894a392201671e08a46",
            "max": 440449768,
            "min": 0,
            "orientation": "horizontal",
            "style": "IPY_MODEL_8c6ab98986f740978b21c659c342e30e",
            "value": 440449768
          }
        },
        "2144a2c868de48acaa29f26fcbffb390": {
          "model_module": "@jupyter-widgets/controls",
          "model_name": "HTMLModel",
          "model_module_version": "1.5.0",
          "state": {
            "_dom_classes": [],
            "_model_module": "@jupyter-widgets/controls",
            "_model_module_version": "1.5.0",
            "_model_name": "HTMLModel",
            "_view_count": null,
            "_view_module": "@jupyter-widgets/controls",
            "_view_module_version": "1.5.0",
            "_view_name": "HTMLView",
            "description": "",
            "description_tooltip": null,
            "layout": "IPY_MODEL_3f3ec5e99f9247aea15343c36e852f48",
            "placeholder": "​",
            "style": "IPY_MODEL_0326e480cffa46cfb64bd4338a17f69d",
            "value": " 440M/440M [00:17&lt;00:00, 33.2MB/s]"
          }
        },
        "0d7c71d24cc442eaba3640ec7bf7f9d8": {
          "model_module": "@jupyter-widgets/base",
          "model_name": "LayoutModel",
          "model_module_version": "1.2.0",
          "state": {
            "_model_module": "@jupyter-widgets/base",
            "_model_module_version": "1.2.0",
            "_model_name": "LayoutModel",
            "_view_count": null,
            "_view_module": "@jupyter-widgets/base",
            "_view_module_version": "1.2.0",
            "_view_name": "LayoutView",
            "align_content": null,
            "align_items": null,
            "align_self": null,
            "border": null,
            "bottom": null,
            "display": null,
            "flex": null,
            "flex_flow": null,
            "grid_area": null,
            "grid_auto_columns": null,
            "grid_auto_flow": null,
            "grid_auto_rows": null,
            "grid_column": null,
            "grid_gap": null,
            "grid_row": null,
            "grid_template_areas": null,
            "grid_template_columns": null,
            "grid_template_rows": null,
            "height": null,
            "justify_content": null,
            "justify_items": null,
            "left": null,
            "margin": null,
            "max_height": null,
            "max_width": null,
            "min_height": null,
            "min_width": null,
            "object_fit": null,
            "object_position": null,
            "order": null,
            "overflow": null,
            "overflow_x": null,
            "overflow_y": null,
            "padding": null,
            "right": null,
            "top": null,
            "visibility": null,
            "width": null
          }
        },
        "c6935ac080274f4db8fae350a553f3e2": {
          "model_module": "@jupyter-widgets/base",
          "model_name": "LayoutModel",
          "model_module_version": "1.2.0",
          "state": {
            "_model_module": "@jupyter-widgets/base",
            "_model_module_version": "1.2.0",
            "_model_name": "LayoutModel",
            "_view_count": null,
            "_view_module": "@jupyter-widgets/base",
            "_view_module_version": "1.2.0",
            "_view_name": "LayoutView",
            "align_content": null,
            "align_items": null,
            "align_self": null,
            "border": null,
            "bottom": null,
            "display": null,
            "flex": null,
            "flex_flow": null,
            "grid_area": null,
            "grid_auto_columns": null,
            "grid_auto_flow": null,
            "grid_auto_rows": null,
            "grid_column": null,
            "grid_gap": null,
            "grid_row": null,
            "grid_template_areas": null,
            "grid_template_columns": null,
            "grid_template_rows": null,
            "height": null,
            "justify_content": null,
            "justify_items": null,
            "left": null,
            "margin": null,
            "max_height": null,
            "max_width": null,
            "min_height": null,
            "min_width": null,
            "object_fit": null,
            "object_position": null,
            "order": null,
            "overflow": null,
            "overflow_x": null,
            "overflow_y": null,
            "padding": null,
            "right": null,
            "top": null,
            "visibility": null,
            "width": null
          }
        },
        "1a75be04aced4ab0b2e9d03af688fe46": {
          "model_module": "@jupyter-widgets/controls",
          "model_name": "DescriptionStyleModel",
          "model_module_version": "1.5.0",
          "state": {
            "_model_module": "@jupyter-widgets/controls",
            "_model_module_version": "1.5.0",
            "_model_name": "DescriptionStyleModel",
            "_view_count": null,
            "_view_module": "@jupyter-widgets/base",
            "_view_module_version": "1.2.0",
            "_view_name": "StyleView",
            "description_width": ""
          }
        },
        "ba16ea72e1994894a392201671e08a46": {
          "model_module": "@jupyter-widgets/base",
          "model_name": "LayoutModel",
          "model_module_version": "1.2.0",
          "state": {
            "_model_module": "@jupyter-widgets/base",
            "_model_module_version": "1.2.0",
            "_model_name": "LayoutModel",
            "_view_count": null,
            "_view_module": "@jupyter-widgets/base",
            "_view_module_version": "1.2.0",
            "_view_name": "LayoutView",
            "align_content": null,
            "align_items": null,
            "align_self": null,
            "border": null,
            "bottom": null,
            "display": null,
            "flex": null,
            "flex_flow": null,
            "grid_area": null,
            "grid_auto_columns": null,
            "grid_auto_flow": null,
            "grid_auto_rows": null,
            "grid_column": null,
            "grid_gap": null,
            "grid_row": null,
            "grid_template_areas": null,
            "grid_template_columns": null,
            "grid_template_rows": null,
            "height": null,
            "justify_content": null,
            "justify_items": null,
            "left": null,
            "margin": null,
            "max_height": null,
            "max_width": null,
            "min_height": null,
            "min_width": null,
            "object_fit": null,
            "object_position": null,
            "order": null,
            "overflow": null,
            "overflow_x": null,
            "overflow_y": null,
            "padding": null,
            "right": null,
            "top": null,
            "visibility": null,
            "width": null
          }
        },
        "8c6ab98986f740978b21c659c342e30e": {
          "model_module": "@jupyter-widgets/controls",
          "model_name": "ProgressStyleModel",
          "model_module_version": "1.5.0",
          "state": {
            "_model_module": "@jupyter-widgets/controls",
            "_model_module_version": "1.5.0",
            "_model_name": "ProgressStyleModel",
            "_view_count": null,
            "_view_module": "@jupyter-widgets/base",
            "_view_module_version": "1.2.0",
            "_view_name": "StyleView",
            "bar_color": null,
            "description_width": ""
          }
        },
        "3f3ec5e99f9247aea15343c36e852f48": {
          "model_module": "@jupyter-widgets/base",
          "model_name": "LayoutModel",
          "model_module_version": "1.2.0",
          "state": {
            "_model_module": "@jupyter-widgets/base",
            "_model_module_version": "1.2.0",
            "_model_name": "LayoutModel",
            "_view_count": null,
            "_view_module": "@jupyter-widgets/base",
            "_view_module_version": "1.2.0",
            "_view_name": "LayoutView",
            "align_content": null,
            "align_items": null,
            "align_self": null,
            "border": null,
            "bottom": null,
            "display": null,
            "flex": null,
            "flex_flow": null,
            "grid_area": null,
            "grid_auto_columns": null,
            "grid_auto_flow": null,
            "grid_auto_rows": null,
            "grid_column": null,
            "grid_gap": null,
            "grid_row": null,
            "grid_template_areas": null,
            "grid_template_columns": null,
            "grid_template_rows": null,
            "height": null,
            "justify_content": null,
            "justify_items": null,
            "left": null,
            "margin": null,
            "max_height": null,
            "max_width": null,
            "min_height": null,
            "min_width": null,
            "object_fit": null,
            "object_position": null,
            "order": null,
            "overflow": null,
            "overflow_x": null,
            "overflow_y": null,
            "padding": null,
            "right": null,
            "top": null,
            "visibility": null,
            "width": null
          }
        },
        "0326e480cffa46cfb64bd4338a17f69d": {
          "model_module": "@jupyter-widgets/controls",
          "model_name": "DescriptionStyleModel",
          "model_module_version": "1.5.0",
          "state": {
            "_model_module": "@jupyter-widgets/controls",
            "_model_module_version": "1.5.0",
            "_model_name": "DescriptionStyleModel",
            "_view_count": null,
            "_view_module": "@jupyter-widgets/base",
            "_view_module_version": "1.2.0",
            "_view_name": "StyleView",
            "description_width": ""
          }
        }
      }
    }
  },
  "nbformat": 4,
  "nbformat_minor": 5
}